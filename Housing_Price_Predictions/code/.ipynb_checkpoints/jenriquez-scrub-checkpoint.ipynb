{
 "cells": [
  {
   "cell_type": "markdown",
   "metadata": {},
   "source": [
    "# Problem Statement Reminder\n",
    "Iowa Real Estate Investors Association (IaREIA) has reached out to get a strong predictive model, ready to base their investment plans for Ames, Iowa region. \n",
    "\n",
    "Model Evaluation Focuses on:\n",
    "- R2 value\n",
    "- RMSE\n",
    "- Max Error\n",
    "\n",
    "---"
   ]
  },
  {
   "cell_type": "code",
   "execution_count": 2,
   "metadata": {},
   "outputs": [],
   "source": [
    "import pandas as pd\n",
    "import numpy as np"
   ]
  },
  {
   "cell_type": "code",
   "execution_count": 3,
   "metadata": {},
   "outputs": [],
   "source": [
    "df_train = pd.read_csv('./datasets/train.csv')\n",
    "df_test = pd.read_csv('./datasets/test.csv')"
   ]
  },
  {
   "cell_type": "markdown",
   "metadata": {},
   "source": [
    "---\n",
    "# Relevant Helper Funcitons"
   ]
  },
  {
   "cell_type": "code",
   "execution_count": 2,
   "metadata": {},
   "outputs": [],
   "source": [
    "#importing helper functions\n",
    "from helper_functions import character_df\n",
    "from helper_functions import fillna_centrl_tendcy\n",
    "from helper_functions import null_reminders \n"
   ]
  },
  {
   "cell_type": "markdown",
   "metadata": {},
   "source": [
    "---"
   ]
  },
  {
   "cell_type": "markdown",
   "metadata": {},
   "source": [
    "# Data Cleaning"
   ]
  },
  {
   "cell_type": "code",
   "execution_count": 8,
   "metadata": {},
   "outputs": [
    {
     "name": "stdout",
     "output_type": "stream",
     "text": [
      "(2051, 81)\n"
     ]
    },
    {
     "data": {
      "text/html": [
       "<div>\n",
       "<style scoped>\n",
       "    .dataframe tbody tr th:only-of-type {\n",
       "        vertical-align: middle;\n",
       "    }\n",
       "\n",
       "    .dataframe tbody tr th {\n",
       "        vertical-align: top;\n",
       "    }\n",
       "\n",
       "    .dataframe thead th {\n",
       "        text-align: right;\n",
       "    }\n",
       "</style>\n",
       "<table border=\"1\" class=\"dataframe\">\n",
       "  <thead>\n",
       "    <tr style=\"text-align: right;\">\n",
       "      <th></th>\n",
       "      <th>Id</th>\n",
       "      <th>PID</th>\n",
       "      <th>MS SubClass</th>\n",
       "      <th>MS Zoning</th>\n",
       "      <th>Lot Frontage</th>\n",
       "      <th>Lot Area</th>\n",
       "      <th>Street</th>\n",
       "      <th>Alley</th>\n",
       "      <th>Lot Shape</th>\n",
       "      <th>Land Contour</th>\n",
       "      <th>...</th>\n",
       "      <th>Screen Porch</th>\n",
       "      <th>Pool Area</th>\n",
       "      <th>Pool QC</th>\n",
       "      <th>Fence</th>\n",
       "      <th>Misc Feature</th>\n",
       "      <th>Misc Val</th>\n",
       "      <th>Mo Sold</th>\n",
       "      <th>Yr Sold</th>\n",
       "      <th>Sale Type</th>\n",
       "      <th>SalePrice</th>\n",
       "    </tr>\n",
       "  </thead>\n",
       "  <tbody>\n",
       "    <tr>\n",
       "      <th>0</th>\n",
       "      <td>109</td>\n",
       "      <td>533352170</td>\n",
       "      <td>60</td>\n",
       "      <td>RL</td>\n",
       "      <td>NaN</td>\n",
       "      <td>13517</td>\n",
       "      <td>Pave</td>\n",
       "      <td>NaN</td>\n",
       "      <td>IR1</td>\n",
       "      <td>Lvl</td>\n",
       "      <td>...</td>\n",
       "      <td>0</td>\n",
       "      <td>0</td>\n",
       "      <td>NaN</td>\n",
       "      <td>NaN</td>\n",
       "      <td>NaN</td>\n",
       "      <td>0</td>\n",
       "      <td>3</td>\n",
       "      <td>2010</td>\n",
       "      <td>WD</td>\n",
       "      <td>130500</td>\n",
       "    </tr>\n",
       "    <tr>\n",
       "      <th>1</th>\n",
       "      <td>544</td>\n",
       "      <td>531379050</td>\n",
       "      <td>60</td>\n",
       "      <td>RL</td>\n",
       "      <td>43.0</td>\n",
       "      <td>11492</td>\n",
       "      <td>Pave</td>\n",
       "      <td>NaN</td>\n",
       "      <td>IR1</td>\n",
       "      <td>Lvl</td>\n",
       "      <td>...</td>\n",
       "      <td>0</td>\n",
       "      <td>0</td>\n",
       "      <td>NaN</td>\n",
       "      <td>NaN</td>\n",
       "      <td>NaN</td>\n",
       "      <td>0</td>\n",
       "      <td>4</td>\n",
       "      <td>2009</td>\n",
       "      <td>WD</td>\n",
       "      <td>220000</td>\n",
       "    </tr>\n",
       "    <tr>\n",
       "      <th>2</th>\n",
       "      <td>153</td>\n",
       "      <td>535304180</td>\n",
       "      <td>20</td>\n",
       "      <td>RL</td>\n",
       "      <td>68.0</td>\n",
       "      <td>7922</td>\n",
       "      <td>Pave</td>\n",
       "      <td>NaN</td>\n",
       "      <td>Reg</td>\n",
       "      <td>Lvl</td>\n",
       "      <td>...</td>\n",
       "      <td>0</td>\n",
       "      <td>0</td>\n",
       "      <td>NaN</td>\n",
       "      <td>NaN</td>\n",
       "      <td>NaN</td>\n",
       "      <td>0</td>\n",
       "      <td>1</td>\n",
       "      <td>2010</td>\n",
       "      <td>WD</td>\n",
       "      <td>109000</td>\n",
       "    </tr>\n",
       "    <tr>\n",
       "      <th>3</th>\n",
       "      <td>318</td>\n",
       "      <td>916386060</td>\n",
       "      <td>60</td>\n",
       "      <td>RL</td>\n",
       "      <td>73.0</td>\n",
       "      <td>9802</td>\n",
       "      <td>Pave</td>\n",
       "      <td>NaN</td>\n",
       "      <td>Reg</td>\n",
       "      <td>Lvl</td>\n",
       "      <td>...</td>\n",
       "      <td>0</td>\n",
       "      <td>0</td>\n",
       "      <td>NaN</td>\n",
       "      <td>NaN</td>\n",
       "      <td>NaN</td>\n",
       "      <td>0</td>\n",
       "      <td>4</td>\n",
       "      <td>2010</td>\n",
       "      <td>WD</td>\n",
       "      <td>174000</td>\n",
       "    </tr>\n",
       "    <tr>\n",
       "      <th>4</th>\n",
       "      <td>255</td>\n",
       "      <td>906425045</td>\n",
       "      <td>50</td>\n",
       "      <td>RL</td>\n",
       "      <td>82.0</td>\n",
       "      <td>14235</td>\n",
       "      <td>Pave</td>\n",
       "      <td>NaN</td>\n",
       "      <td>IR1</td>\n",
       "      <td>Lvl</td>\n",
       "      <td>...</td>\n",
       "      <td>0</td>\n",
       "      <td>0</td>\n",
       "      <td>NaN</td>\n",
       "      <td>NaN</td>\n",
       "      <td>NaN</td>\n",
       "      <td>0</td>\n",
       "      <td>3</td>\n",
       "      <td>2010</td>\n",
       "      <td>WD</td>\n",
       "      <td>138500</td>\n",
       "    </tr>\n",
       "  </tbody>\n",
       "</table>\n",
       "<p>5 rows × 81 columns</p>\n",
       "</div>"
      ],
      "text/plain": [
       "    Id        PID  MS SubClass MS Zoning  Lot Frontage  Lot Area Street Alley  \\\n",
       "0  109  533352170           60        RL           NaN     13517   Pave   NaN   \n",
       "1  544  531379050           60        RL          43.0     11492   Pave   NaN   \n",
       "2  153  535304180           20        RL          68.0      7922   Pave   NaN   \n",
       "3  318  916386060           60        RL          73.0      9802   Pave   NaN   \n",
       "4  255  906425045           50        RL          82.0     14235   Pave   NaN   \n",
       "\n",
       "  Lot Shape Land Contour  ... Screen Porch Pool Area Pool QC Fence  \\\n",
       "0       IR1          Lvl  ...            0         0     NaN   NaN   \n",
       "1       IR1          Lvl  ...            0         0     NaN   NaN   \n",
       "2       Reg          Lvl  ...            0         0     NaN   NaN   \n",
       "3       Reg          Lvl  ...            0         0     NaN   NaN   \n",
       "4       IR1          Lvl  ...            0         0     NaN   NaN   \n",
       "\n",
       "  Misc Feature Misc Val Mo Sold Yr Sold  Sale Type  SalePrice  \n",
       "0          NaN        0       3    2010        WD      130500  \n",
       "1          NaN        0       4    2009        WD      220000  \n",
       "2          NaN        0       1    2010        WD      109000  \n",
       "3          NaN        0       4    2010        WD      174000  \n",
       "4          NaN        0       3    2010        WD      138500  \n",
       "\n",
       "[5 rows x 81 columns]"
      ]
     },
     "execution_count": 8,
     "metadata": {},
     "output_type": "execute_result"
    }
   ],
   "source": [
    "print(df_train.shape)\n",
    "df_train.head()"
   ]
  },
  {
   "cell_type": "markdown",
   "metadata": {},
   "source": [
    "After a quick inspection of the rain.csv file and my df_train it is clearly noteable that the 'NA' values were imported by pandas as a NaN value. However because of the magnitude of NA data for these respective rows I will still drop them since there is not much data to truly get a accurate respresentation of the feature as a whole. "
   ]
  },
  {
   "cell_type": "code",
   "execution_count": 9,
   "metadata": {},
   "outputs": [
    {
     "data": {
      "text/plain": [
       "(2051, 81)"
      ]
     },
     "execution_count": 9,
     "metadata": {},
     "output_type": "execute_result"
    }
   ],
   "source": [
    "df_train.shape"
   ]
  },
  {
   "cell_type": "code",
   "execution_count": 10,
   "metadata": {},
   "outputs": [
    {
     "data": {
      "text/html": [
       "<div>\n",
       "<style scoped>\n",
       "    .dataframe tbody tr th:only-of-type {\n",
       "        vertical-align: middle;\n",
       "    }\n",
       "\n",
       "    .dataframe tbody tr th {\n",
       "        vertical-align: top;\n",
       "    }\n",
       "\n",
       "    .dataframe thead th {\n",
       "        text-align: right;\n",
       "    }\n",
       "</style>\n",
       "<table border=\"1\" class=\"dataframe\">\n",
       "  <thead>\n",
       "    <tr style=\"text-align: right;\">\n",
       "      <th></th>\n",
       "      <th>column_name</th>\n",
       "      <th>null_count</th>\n",
       "      <th>percent_missing</th>\n",
       "      <th>categorical_unique</th>\n",
       "    </tr>\n",
       "  </thead>\n",
       "  <tbody>\n",
       "    <tr>\n",
       "      <th>7</th>\n",
       "      <td>Alley</td>\n",
       "      <td>1911</td>\n",
       "      <td>93.17</td>\n",
       "      <td>[nan, Pave, Grvl]</td>\n",
       "    </tr>\n",
       "    <tr>\n",
       "      <th>58</th>\n",
       "      <td>Fireplace Qu</td>\n",
       "      <td>1000</td>\n",
       "      <td>48.76</td>\n",
       "      <td>[nan, TA, Gd, Po, Ex, Fa]</td>\n",
       "    </tr>\n",
       "    <tr>\n",
       "      <th>73</th>\n",
       "      <td>Pool QC</td>\n",
       "      <td>2042</td>\n",
       "      <td>99.56</td>\n",
       "      <td>[nan, Fa, Gd, Ex, TA]</td>\n",
       "    </tr>\n",
       "    <tr>\n",
       "      <th>74</th>\n",
       "      <td>Fence</td>\n",
       "      <td>1651</td>\n",
       "      <td>80.50</td>\n",
       "      <td>[nan, MnPrv, GdPrv, GdWo, MnWw]</td>\n",
       "    </tr>\n",
       "    <tr>\n",
       "      <th>75</th>\n",
       "      <td>Misc Feature</td>\n",
       "      <td>1986</td>\n",
       "      <td>96.83</td>\n",
       "      <td>[nan, Shed, TenC, Gar2, Othr, Elev]</td>\n",
       "    </tr>\n",
       "  </tbody>\n",
       "</table>\n",
       "</div>"
      ],
      "text/plain": [
       "     column_name  null_count  percent_missing  \\\n",
       "7          Alley        1911            93.17   \n",
       "58  Fireplace Qu        1000            48.76   \n",
       "73       Pool QC        2042            99.56   \n",
       "74         Fence        1651            80.50   \n",
       "75  Misc Feature        1986            96.83   \n",
       "\n",
       "                     categorical_unique  \n",
       "7                     [nan, Pave, Grvl]  \n",
       "58            [nan, TA, Gd, Po, Ex, Fa]  \n",
       "73                [nan, Fa, Gd, Ex, TA]  \n",
       "74      [nan, MnPrv, GdPrv, GdWo, MnWw]  \n",
       "75  [nan, Shed, TenC, Gar2, Othr, Elev]  "
      ]
     },
     "execution_count": 10,
     "metadata": {},
     "output_type": "execute_result"
    }
   ],
   "source": [
    "df_charac=character_df(df_train)   \n",
    "df_charac[df_charac['percent_missing']>40]"
   ]
  },
  {
   "cell_type": "markdown",
   "metadata": {},
   "source": [
    "The features listed below will be dropped because such a high percentage of these features are missing with exception to the 'PID' however for the purposes of these models I will not be utilizing the PID as a predictor. The replacement of NaNs with any method of central tendency would not yield a representative result. Additionally, after collaboration with David Coons and Hank Butler, the possibility to determine location and potentially relevance to a location of importance could be possible but will be too advanced for the purposes of this project. \n",
    "<br><br>\n",
    "\n",
    "Features automatically to be dropped:\n",
    " ['Alley', 'Pool QC', 'Fence', 'Misc Feature', 'PID', 'Fireplace Qu'] "
   ]
  },
  {
   "cell_type": "code",
   "execution_count": 11,
   "metadata": {},
   "outputs": [],
   "source": [
    "df_train.drop(['Alley', 'Pool QC', 'Fence', 'Misc Feature', 'PID', 'Fireplace Qu'], axis =1, inplace = True)"
   ]
  },
  {
   "cell_type": "markdown",
   "metadata": {},
   "source": [
    "--- \n",
    "##### Checking data types \n",
    "This subsection works through cleaning categorical variables to match the data dictionary entries"
   ]
  },
  {
   "cell_type": "code",
   "execution_count": 12,
   "metadata": {},
   "outputs": [
    {
     "data": {
      "text/html": [
       "<div>\n",
       "<style scoped>\n",
       "    .dataframe tbody tr th:only-of-type {\n",
       "        vertical-align: middle;\n",
       "    }\n",
       "\n",
       "    .dataframe tbody tr th {\n",
       "        vertical-align: top;\n",
       "    }\n",
       "\n",
       "    .dataframe thead th {\n",
       "        text-align: right;\n",
       "    }\n",
       "</style>\n",
       "<table border=\"1\" class=\"dataframe\">\n",
       "  <thead>\n",
       "    <tr style=\"text-align: right;\">\n",
       "      <th></th>\n",
       "      <th>column_name</th>\n",
       "      <th>categorical_unique</th>\n",
       "    </tr>\n",
       "  </thead>\n",
       "  <tbody>\n",
       "    <tr>\n",
       "      <th>0</th>\n",
       "      <td>Id</td>\n",
       "      <td>not cat.</td>\n",
       "    </tr>\n",
       "    <tr>\n",
       "      <th>1</th>\n",
       "      <td>MS SubClass</td>\n",
       "      <td>not cat.</td>\n",
       "    </tr>\n",
       "    <tr>\n",
       "      <th>2</th>\n",
       "      <td>MS Zoning</td>\n",
       "      <td>[RL, RM, FV, C (all), A (agr), RH, I (all)]</td>\n",
       "    </tr>\n",
       "    <tr>\n",
       "      <th>3</th>\n",
       "      <td>Lot Frontage</td>\n",
       "      <td>not cat.</td>\n",
       "    </tr>\n",
       "    <tr>\n",
       "      <th>4</th>\n",
       "      <td>Lot Area</td>\n",
       "      <td>not cat.</td>\n",
       "    </tr>\n",
       "  </tbody>\n",
       "</table>\n",
       "</div>"
      ],
      "text/plain": [
       "    column_name                           categorical_unique\n",
       "0            Id                                     not cat.\n",
       "1   MS SubClass                                     not cat.\n",
       "2     MS Zoning  [RL, RM, FV, C (all), A (agr), RH, I (all)]\n",
       "3  Lot Frontage                                     not cat.\n",
       "4      Lot Area                                     not cat."
      ]
     },
     "execution_count": 12,
     "metadata": {},
     "output_type": "execute_result"
    }
   ],
   "source": [
    "df_charac=character_df(df_train)   # dropped columns earlier so not a total of 81 features anymore\n",
    "df_categorical=df_charac.drop(columns=['null_count','percent_missing'])\n",
    "df_categorical.head()"
   ]
  },
  {
   "cell_type": "markdown",
   "metadata": {},
   "source": [
    "After a quick check from the categorical column above and the data dictionary I can see that there are some  Ordinal variables that are represented as categorical which will for the purposes of this analysis will be acceptable since there are only two variables if there were more a closer analysis of whether or not to treat them as categorical would be more appropriate. \n",
    "The following features were misrepresented:\n",
    "- Overall Quality ('Overall Qual')\n",
    "- Overall Condition ('Overall Cond')\n"
   ]
  },
  {
   "cell_type": "markdown",
   "metadata": {},
   "source": [
    "--- \n",
    "##### Categorical Alterations\n",
    "This subsection works through cleaning categorical variables to match the data dictionary entries"
   ]
  },
  {
   "cell_type": "code",
   "execution_count": 13,
   "metadata": {},
   "outputs": [
    {
     "data": {
      "text/plain": [
       "RL         1598\n",
       "RM          316\n",
       "FV          101\n",
       "C (all)      19\n",
       "RH           14\n",
       "A (agr)       2\n",
       "I (all)       1\n",
       "Name: MS Zoning, dtype: int64"
      ]
     },
     "execution_count": 13,
     "metadata": {},
     "output_type": "execute_result"
    }
   ],
   "source": [
    "# will clean 'MS Zoning'  to match data dictionary entries\n",
    "df_train['MS Zoning'].value_counts()"
   ]
  },
  {
   "cell_type": "code",
   "execution_count": 14,
   "metadata": {},
   "outputs": [
    {
     "data": {
      "text/plain": [
       "RL     1598\n",
       "RM      316\n",
       "FV      101\n",
       "C        19\n",
       "RH       14\n",
       "A         2\n",
       "I         1\n",
       "Name: MS Zoning, dtype: int64"
      ]
     },
     "execution_count": 14,
     "metadata": {},
     "output_type": "execute_result"
    }
   ],
   "source": [
    "# the actual replacement implemented\n",
    "df_train['MS Zoning'] = [df_train['MS Zoning'][i].replace('(all)',' ') for i in range(df_train.shape[0])]\n",
    "df_train['MS Zoning'] = [df_train['MS Zoning'][i].replace('(agr)',' ') for i in range(df_train.shape[0])]\n",
    "\n",
    "df_train['MS Zoning'].value_counts()"
   ]
  },
  {
   "cell_type": "code",
   "execution_count": 15,
   "metadata": {},
   "outputs": [
    {
     "data": {
      "text/plain": [
       "None       1218\n",
       "BrkFace     630\n",
       "Stone       168\n",
       "BrkCmn       13\n",
       "Name: Mas Vnr Type, dtype: int64"
      ]
     },
     "execution_count": 15,
     "metadata": {},
     "output_type": "execute_result"
    }
   ],
   "source": [
    "# None is an actual category in data dictionary so will not alter\n",
    "df_train['Mas Vnr Type'].value_counts() "
   ]
  },
  {
   "cell_type": "code",
   "execution_count": 16,
   "metadata": {},
   "outputs": [],
   "source": [
    "# these are just features that are not relevant to basement quality stored to drop in filter\n",
    "features_to_drop = ['Id', 'MS SubClass', 'MS Zoning', 'Lot Frontage', 'Lot Area', 'Street','Lot Shape', 'Land Contour', 'Utilities', 'Lot Config', 'Land Slope','Neighborhood', 'Condition 1',\n",
    " 'Condition 2', 'Bldg Type','House Style', 'Overall Qual', 'Overall Cond', 'Year Built','Year Remod/Add', 'Roof Style', 'Roof Matl', 'Exterior 1st','Exterior 2nd', 'Mas Vnr Type', 'Mas Vnr Area', \n",
    "'Exter Qual','Exter Cond', 'Foundation',  'Full Bath','Half Bath', 'Bedroom AbvGr', 'Kitchen AbvGr', 'Kitchen Qual','TotRms AbvGrd', 'Functional', 'Fireplaces', 'Garage Type',\n",
    "'Garage Yr Blt', 'Garage Finish', 'Garage Cars', 'Garage Area', 'Garage Qual', 'Garage Cond', 'Paved Drive', 'Wood Deck SF',\n",
    "'Open Porch SF', 'Enclosed Porch', '3Ssn Porch', 'Screen Porch','Pool Area', 'Misc Val', 'Mo Sold', 'Yr Sold' ]"
   ]
  },
  {
   "cell_type": "code",
   "execution_count": 17,
   "metadata": {},
   "outputs": [
    {
     "name": "stdout",
     "output_type": "stream",
     "text": [
      "is null sum:  55\n",
      "TA    887\n",
      "Gd    864\n",
      "Ex    184\n",
      "Fa     60\n",
      "Po      1\n",
      "Name: Bsmt Qual, dtype: int64\n",
      "df_column_ shape (55, 21)\n"
     ]
    },
    {
     "data": {
      "text/html": [
       "<div>\n",
       "<style scoped>\n",
       "    .dataframe tbody tr th:only-of-type {\n",
       "        vertical-align: middle;\n",
       "    }\n",
       "\n",
       "    .dataframe tbody tr th {\n",
       "        vertical-align: top;\n",
       "    }\n",
       "\n",
       "    .dataframe thead th {\n",
       "        text-align: right;\n",
       "    }\n",
       "</style>\n",
       "<table border=\"1\" class=\"dataframe\">\n",
       "  <thead>\n",
       "    <tr style=\"text-align: right;\">\n",
       "      <th></th>\n",
       "      <th>Bsmt Qual</th>\n",
       "      <th>Bsmt Cond</th>\n",
       "      <th>Bsmt Exposure</th>\n",
       "      <th>BsmtFin Type 1</th>\n",
       "      <th>BsmtFin SF 1</th>\n",
       "      <th>BsmtFin Type 2</th>\n",
       "      <th>BsmtFin SF 2</th>\n",
       "      <th>Bsmt Unf SF</th>\n",
       "      <th>Total Bsmt SF</th>\n",
       "      <th>Heating</th>\n",
       "      <th>...</th>\n",
       "      <th>Central Air</th>\n",
       "      <th>Electrical</th>\n",
       "      <th>1st Flr SF</th>\n",
       "      <th>2nd Flr SF</th>\n",
       "      <th>Low Qual Fin SF</th>\n",
       "      <th>Gr Liv Area</th>\n",
       "      <th>Bsmt Full Bath</th>\n",
       "      <th>Bsmt Half Bath</th>\n",
       "      <th>Sale Type</th>\n",
       "      <th>SalePrice</th>\n",
       "    </tr>\n",
       "  </thead>\n",
       "  <tbody>\n",
       "    <tr>\n",
       "      <th>12</th>\n",
       "      <td>NaN</td>\n",
       "      <td>NaN</td>\n",
       "      <td>NaN</td>\n",
       "      <td>NaN</td>\n",
       "      <td>0.0</td>\n",
       "      <td>NaN</td>\n",
       "      <td>0.0</td>\n",
       "      <td>0.0</td>\n",
       "      <td>0.0</td>\n",
       "      <td>GasA</td>\n",
       "      <td>...</td>\n",
       "      <td>Y</td>\n",
       "      <td>SBrkr</td>\n",
       "      <td>1288</td>\n",
       "      <td>728</td>\n",
       "      <td>0</td>\n",
       "      <td>2016</td>\n",
       "      <td>0.0</td>\n",
       "      <td>0.0</td>\n",
       "      <td>WD</td>\n",
       "      <td>131000</td>\n",
       "    </tr>\n",
       "    <tr>\n",
       "      <th>93</th>\n",
       "      <td>NaN</td>\n",
       "      <td>NaN</td>\n",
       "      <td>NaN</td>\n",
       "      <td>NaN</td>\n",
       "      <td>0.0</td>\n",
       "      <td>NaN</td>\n",
       "      <td>0.0</td>\n",
       "      <td>0.0</td>\n",
       "      <td>0.0</td>\n",
       "      <td>GasA</td>\n",
       "      <td>...</td>\n",
       "      <td>Y</td>\n",
       "      <td>SBrkr</td>\n",
       "      <td>1535</td>\n",
       "      <td>0</td>\n",
       "      <td>0</td>\n",
       "      <td>1535</td>\n",
       "      <td>0.0</td>\n",
       "      <td>0.0</td>\n",
       "      <td>WD</td>\n",
       "      <td>118858</td>\n",
       "    </tr>\n",
       "    <tr>\n",
       "      <th>114</th>\n",
       "      <td>NaN</td>\n",
       "      <td>NaN</td>\n",
       "      <td>NaN</td>\n",
       "      <td>NaN</td>\n",
       "      <td>0.0</td>\n",
       "      <td>NaN</td>\n",
       "      <td>0.0</td>\n",
       "      <td>0.0</td>\n",
       "      <td>0.0</td>\n",
       "      <td>GasA</td>\n",
       "      <td>...</td>\n",
       "      <td>N</td>\n",
       "      <td>SBrkr</td>\n",
       "      <td>660</td>\n",
       "      <td>0</td>\n",
       "      <td>0</td>\n",
       "      <td>660</td>\n",
       "      <td>0.0</td>\n",
       "      <td>0.0</td>\n",
       "      <td>WD</td>\n",
       "      <td>63900</td>\n",
       "    </tr>\n",
       "    <tr>\n",
       "      <th>146</th>\n",
       "      <td>NaN</td>\n",
       "      <td>NaN</td>\n",
       "      <td>NaN</td>\n",
       "      <td>NaN</td>\n",
       "      <td>0.0</td>\n",
       "      <td>NaN</td>\n",
       "      <td>0.0</td>\n",
       "      <td>0.0</td>\n",
       "      <td>0.0</td>\n",
       "      <td>GasA</td>\n",
       "      <td>...</td>\n",
       "      <td>Y</td>\n",
       "      <td>SBrkr</td>\n",
       "      <td>495</td>\n",
       "      <td>1427</td>\n",
       "      <td>0</td>\n",
       "      <td>1922</td>\n",
       "      <td>0.0</td>\n",
       "      <td>0.0</td>\n",
       "      <td>ConLD</td>\n",
       "      <td>198500</td>\n",
       "    </tr>\n",
       "    <tr>\n",
       "      <th>183</th>\n",
       "      <td>NaN</td>\n",
       "      <td>NaN</td>\n",
       "      <td>NaN</td>\n",
       "      <td>NaN</td>\n",
       "      <td>0.0</td>\n",
       "      <td>NaN</td>\n",
       "      <td>0.0</td>\n",
       "      <td>0.0</td>\n",
       "      <td>0.0</td>\n",
       "      <td>Wall</td>\n",
       "      <td>...</td>\n",
       "      <td>N</td>\n",
       "      <td>FuseA</td>\n",
       "      <td>733</td>\n",
       "      <td>0</td>\n",
       "      <td>0</td>\n",
       "      <td>733</td>\n",
       "      <td>0.0</td>\n",
       "      <td>0.0</td>\n",
       "      <td>WD</td>\n",
       "      <td>13100</td>\n",
       "    </tr>\n",
       "  </tbody>\n",
       "</table>\n",
       "<p>5 rows × 21 columns</p>\n",
       "</div>"
      ],
      "text/plain": [
       "    Bsmt Qual Bsmt Cond Bsmt Exposure BsmtFin Type 1  BsmtFin SF 1  \\\n",
       "12        NaN       NaN           NaN            NaN           0.0   \n",
       "93        NaN       NaN           NaN            NaN           0.0   \n",
       "114       NaN       NaN           NaN            NaN           0.0   \n",
       "146       NaN       NaN           NaN            NaN           0.0   \n",
       "183       NaN       NaN           NaN            NaN           0.0   \n",
       "\n",
       "    BsmtFin Type 2  BsmtFin SF 2  Bsmt Unf SF  Total Bsmt SF Heating  ...  \\\n",
       "12             NaN           0.0          0.0            0.0    GasA  ...   \n",
       "93             NaN           0.0          0.0            0.0    GasA  ...   \n",
       "114            NaN           0.0          0.0            0.0    GasA  ...   \n",
       "146            NaN           0.0          0.0            0.0    GasA  ...   \n",
       "183            NaN           0.0          0.0            0.0    Wall  ...   \n",
       "\n",
       "    Central Air Electrical 1st Flr SF  2nd Flr SF  Low Qual Fin SF  \\\n",
       "12            Y      SBrkr       1288         728                0   \n",
       "93            Y      SBrkr       1535           0                0   \n",
       "114           N      SBrkr        660           0                0   \n",
       "146           Y      SBrkr        495        1427                0   \n",
       "183           N      FuseA        733           0                0   \n",
       "\n",
       "     Gr Liv Area  Bsmt Full Bath  Bsmt Half Bath  Sale Type SalePrice  \n",
       "12          2016             0.0             0.0        WD     131000  \n",
       "93          1535             0.0             0.0        WD     118858  \n",
       "114          660             0.0             0.0        WD      63900  \n",
       "146         1922             0.0             0.0      ConLD    198500  \n",
       "183          733             0.0             0.0        WD      13100  \n",
       "\n",
       "[5 rows x 21 columns]"
      ]
     },
     "execution_count": 17,
     "metadata": {},
     "output_type": "execute_result"
    }
   ],
   "source": [
    "# taking quick glance at null details\n",
    "null_reminders(dataframe=df_train, column_name='Bsmt Qual',features_to_drop=features_to_drop,value_cnt='Yes').head()\n"
   ]
  },
  {
   "cell_type": "markdown",
   "metadata": {},
   "source": [
    "After some consideration noting that a lot of these houses probably did not have a basement (we an 'NA' in train.csv file) I feel comfortable just renaming these nulls with 'no basement' string so can be inputed into model after one-hot coding. Will do so below and then move onto next categorical variable inspection. "
   ]
  },
  {
   "cell_type": "code",
   "execution_count": 18,
   "metadata": {},
   "outputs": [
    {
     "name": "stdout",
     "output_type": "stream",
     "text": [
      "Bsmt Qual\n",
      "is null sum:  0\n",
      "\n",
      "Bsmt Cond\n",
      "is null sum:  0\n",
      "\n",
      "BsmtFin Type 2\n",
      "is null sum:  0\n",
      "\n",
      "Bsmt Exposure\n",
      "is null sum:  0\n",
      "\n",
      "BsmtFin Type 1\n",
      "is null sum:  0\n",
      "\n"
     ]
    }
   ],
   "source": [
    "# filling NaN values with 'no_basement' for columns = ['Bsmt Qual','Bsmt Cond','BsmtFin Type 2','Bsmt Exposure','BsmtFin Type 1']\n",
    "columns2replace = ['Bsmt Qual','Bsmt Cond','BsmtFin Type 2','Bsmt Exposure','BsmtFin Type 1']\n",
    "\n",
    "# performing replacement and verifying\n",
    "for column in columns2replace:\n",
    "    print(column)\n",
    "    df_train[column] = df_train[column].fillna('no_basement')\n",
    "    print('is null sum: ',df_train[column].isnull().sum() )\n",
    "    print('') # just for break b/w loops"
   ]
  },
  {
   "cell_type": "code",
   "execution_count": 19,
   "metadata": {},
   "outputs": [
    {
     "name": "stdout",
     "output_type": "stream",
     "text": [
      "is null sum:  0\n",
      "TA             887\n",
      "Gd             864\n",
      "Ex             184\n",
      "Fa              60\n",
      "no_basement     55\n",
      "Po               1\n",
      "Name: Bsmt Qual, dtype: int64\n",
      "df_column_ shape (0, 21)\n"
     ]
    },
    {
     "data": {
      "text/html": [
       "<div>\n",
       "<style scoped>\n",
       "    .dataframe tbody tr th:only-of-type {\n",
       "        vertical-align: middle;\n",
       "    }\n",
       "\n",
       "    .dataframe tbody tr th {\n",
       "        vertical-align: top;\n",
       "    }\n",
       "\n",
       "    .dataframe thead th {\n",
       "        text-align: right;\n",
       "    }\n",
       "</style>\n",
       "<table border=\"1\" class=\"dataframe\">\n",
       "  <thead>\n",
       "    <tr style=\"text-align: right;\">\n",
       "      <th></th>\n",
       "      <th>Bsmt Qual</th>\n",
       "      <th>Bsmt Cond</th>\n",
       "      <th>Bsmt Exposure</th>\n",
       "      <th>BsmtFin Type 1</th>\n",
       "      <th>BsmtFin SF 1</th>\n",
       "      <th>BsmtFin Type 2</th>\n",
       "      <th>BsmtFin SF 2</th>\n",
       "      <th>Bsmt Unf SF</th>\n",
       "      <th>Total Bsmt SF</th>\n",
       "      <th>Heating</th>\n",
       "      <th>...</th>\n",
       "      <th>Central Air</th>\n",
       "      <th>Electrical</th>\n",
       "      <th>1st Flr SF</th>\n",
       "      <th>2nd Flr SF</th>\n",
       "      <th>Low Qual Fin SF</th>\n",
       "      <th>Gr Liv Area</th>\n",
       "      <th>Bsmt Full Bath</th>\n",
       "      <th>Bsmt Half Bath</th>\n",
       "      <th>Sale Type</th>\n",
       "      <th>SalePrice</th>\n",
       "    </tr>\n",
       "  </thead>\n",
       "  <tbody>\n",
       "  </tbody>\n",
       "</table>\n",
       "<p>0 rows × 21 columns</p>\n",
       "</div>"
      ],
      "text/plain": [
       "Empty DataFrame\n",
       "Columns: [Bsmt Qual, Bsmt Cond, Bsmt Exposure, BsmtFin Type 1, BsmtFin SF 1, BsmtFin Type 2, BsmtFin SF 2, Bsmt Unf SF, Total Bsmt SF, Heating, Heating QC, Central Air, Electrical, 1st Flr SF, 2nd Flr SF, Low Qual Fin SF, Gr Liv Area, Bsmt Full Bath, Bsmt Half Bath, Sale Type, SalePrice]\n",
       "Index: []\n",
       "\n",
       "[0 rows x 21 columns]"
      ]
     },
     "execution_count": 19,
     "metadata": {},
     "output_type": "execute_result"
    }
   ],
   "source": [
    "# second verification\n",
    "null_reminders(dataframe=df_train, column_name='Bsmt Qual',features_to_drop=features_to_drop,value_cnt='Yes')\n"
   ]
  },
  {
   "cell_type": "markdown",
   "metadata": {},
   "source": [
    "Will repeat the same process for the following columns and colum names <br>\n",
    "- Garage Type\t        = [Attchd, Detchd, BuiltIn, Basment, nan, 2Types...<br>\n",
    "- Garage Finish\t    = [RFn, Unf, Fin, nan]<br>\n",
    "- Garage Qual\t        =[TA, Fa, nan, Gd, Ex, Po]<br>\n",
    "- Garage Cond\t        =[TA, Fa, nan, Po, Gd, Ex]<br>"
   ]
  },
  {
   "cell_type": "code",
   "execution_count": 20,
   "metadata": {},
   "outputs": [
    {
     "name": "stdout",
     "output_type": "stream",
     "text": [
      "is null sum:  113\n",
      "Attchd     1213\n",
      "Detchd      536\n",
      "BuiltIn     132\n",
      "Basment      27\n",
      "2Types       19\n",
      "CarPort      11\n",
      "Name: Garage Type, dtype: int64\n",
      "df_column_ shape (113, 10)\n"
     ]
    },
    {
     "data": {
      "text/html": [
       "<div>\n",
       "<style scoped>\n",
       "    .dataframe tbody tr th:only-of-type {\n",
       "        vertical-align: middle;\n",
       "    }\n",
       "\n",
       "    .dataframe tbody tr th {\n",
       "        vertical-align: top;\n",
       "    }\n",
       "\n",
       "    .dataframe thead th {\n",
       "        text-align: right;\n",
       "    }\n",
       "</style>\n",
       "<table border=\"1\" class=\"dataframe\">\n",
       "  <thead>\n",
       "    <tr style=\"text-align: right;\">\n",
       "      <th></th>\n",
       "      <th>Garage Type</th>\n",
       "      <th>Garage Yr Blt</th>\n",
       "      <th>Garage Finish</th>\n",
       "      <th>Garage Cars</th>\n",
       "      <th>Garage Area</th>\n",
       "      <th>Garage Qual</th>\n",
       "      <th>Garage Cond</th>\n",
       "      <th>Yr Sold</th>\n",
       "      <th>Sale Type</th>\n",
       "      <th>SalePrice</th>\n",
       "    </tr>\n",
       "  </thead>\n",
       "  <tbody>\n",
       "    <tr>\n",
       "      <th>28</th>\n",
       "      <td>NaN</td>\n",
       "      <td>NaN</td>\n",
       "      <td>NaN</td>\n",
       "      <td>0.0</td>\n",
       "      <td>0.0</td>\n",
       "      <td>NaN</td>\n",
       "      <td>NaN</td>\n",
       "      <td>2007</td>\n",
       "      <td>WD</td>\n",
       "      <td>119600</td>\n",
       "    </tr>\n",
       "    <tr>\n",
       "      <th>53</th>\n",
       "      <td>NaN</td>\n",
       "      <td>NaN</td>\n",
       "      <td>NaN</td>\n",
       "      <td>0.0</td>\n",
       "      <td>0.0</td>\n",
       "      <td>NaN</td>\n",
       "      <td>NaN</td>\n",
       "      <td>2010</td>\n",
       "      <td>WD</td>\n",
       "      <td>76000</td>\n",
       "    </tr>\n",
       "    <tr>\n",
       "      <th>65</th>\n",
       "      <td>NaN</td>\n",
       "      <td>NaN</td>\n",
       "      <td>NaN</td>\n",
       "      <td>0.0</td>\n",
       "      <td>0.0</td>\n",
       "      <td>NaN</td>\n",
       "      <td>NaN</td>\n",
       "      <td>2007</td>\n",
       "      <td>New</td>\n",
       "      <td>147000</td>\n",
       "    </tr>\n",
       "    <tr>\n",
       "      <th>79</th>\n",
       "      <td>NaN</td>\n",
       "      <td>NaN</td>\n",
       "      <td>NaN</td>\n",
       "      <td>0.0</td>\n",
       "      <td>0.0</td>\n",
       "      <td>NaN</td>\n",
       "      <td>NaN</td>\n",
       "      <td>2007</td>\n",
       "      <td>WD</td>\n",
       "      <td>129850</td>\n",
       "    </tr>\n",
       "    <tr>\n",
       "      <th>101</th>\n",
       "      <td>NaN</td>\n",
       "      <td>NaN</td>\n",
       "      <td>NaN</td>\n",
       "      <td>0.0</td>\n",
       "      <td>0.0</td>\n",
       "      <td>NaN</td>\n",
       "      <td>NaN</td>\n",
       "      <td>2007</td>\n",
       "      <td>WD</td>\n",
       "      <td>86000</td>\n",
       "    </tr>\n",
       "  </tbody>\n",
       "</table>\n",
       "</div>"
      ],
      "text/plain": [
       "    Garage Type  Garage Yr Blt Garage Finish  Garage Cars  Garage Area  \\\n",
       "28          NaN            NaN           NaN          0.0          0.0   \n",
       "53          NaN            NaN           NaN          0.0          0.0   \n",
       "65          NaN            NaN           NaN          0.0          0.0   \n",
       "79          NaN            NaN           NaN          0.0          0.0   \n",
       "101         NaN            NaN           NaN          0.0          0.0   \n",
       "\n",
       "    Garage Qual Garage Cond  Yr Sold Sale Type  SalePrice  \n",
       "28          NaN         NaN     2007       WD      119600  \n",
       "53          NaN         NaN     2010       WD       76000  \n",
       "65          NaN         NaN     2007       New     147000  \n",
       "79          NaN         NaN     2007       WD      129850  \n",
       "101         NaN         NaN     2007       WD       86000  "
      ]
     },
     "execution_count": 20,
     "metadata": {},
     "output_type": "execute_result"
    }
   ],
   "source": [
    "# manually selected what features to isolate\n",
    "features_to_drop = ['Id', 'MS SubClass', 'MS Zoning', 'Lot Frontage', 'Lot Area', 'Street',\n",
    "'Lot Shape', 'Land Contour', 'Utilities', 'Lot Config', 'Land Slope','Neighborhood', 'Condition 1', 'Condition 2', 'Bldg Type','House Style', 'Overall Qual', 'Overall Cond', 'Year Built','Year Remod/Add', 'Roof Style', 'Roof Matl', 'Exterior 1st','Exterior 2nd', 'Mas Vnr Type', 'Mas Vnr Area', 'Exter Qual','Exter Cond', 'Foundation', 'Bsmt Qual', 'Bsmt Cond', 'Bsmt Exposure','BsmtFin Type 1', 'BsmtFin SF 1', 'BsmtFin Type 2', 'BsmtFin SF 2', 'Bsmt Unf SF', 'Total Bsmt SF', 'Heating', 'Heating QC', 'Central Air','Electrical', '1st Flr SF', '2nd Flr SF', 'Low Qual Fin SF', 'Gr Liv Area', 'Bsmt Full Bath', 'Bsmt Half Bath', 'Full Bath','Half Bath', 'Bedroom AbvGr', 'Kitchen AbvGr', 'Kitchen Qual','TotRms AbvGrd', 'Functional', 'Fireplaces', 'Paved Drive', 'Wood Deck SF','Open Porch SF', 'Enclosed Porch', '3Ssn Porch', 'Screen Porch','Pool Area', 'Misc Val', 'Mo Sold',                                      ]\n",
    "\n",
    "# quick glance at garage specific features\n",
    "null_reminders(dataframe=df_train, column_name='Garage Type',features_to_drop=features_to_drop,value_cnt='Yes').head()\n"
   ]
  },
  {
   "cell_type": "markdown",
   "metadata": {},
   "source": [
    "After revisting data dictionary noted that since the columns ['Garage Type', 'Garage Yr Blt', 'Garage Finish', 'Garage Qual', 'Garage Cond'] all appear to have missing values for each specific house it is likely they were originally 'NA' (No Garage) inputs on the train.csv so will replace them with the string 'no_garage' to have acurate dummy columns later on. "
   ]
  },
  {
   "cell_type": "code",
   "execution_count": 21,
   "metadata": {},
   "outputs": [
    {
     "name": "stdout",
     "output_type": "stream",
     "text": [
      "Garage Type\n",
      "is null sum:  0\n",
      "\n",
      "Garage Yr Blt\n",
      "is null sum:  0\n",
      "\n",
      "Garage Finish\n",
      "is null sum:  0\n",
      "\n",
      "Garage Qual\n",
      "is null sum:  0\n",
      "\n",
      "Garage Cond\n",
      "is null sum:  0\n",
      "\n",
      "is null sum:  0\n",
      "Attchd       1213\n",
      "Detchd        536\n",
      "BuiltIn       132\n",
      "no_garage     113\n",
      "Basment        27\n",
      "2Types         19\n",
      "CarPort        11\n",
      "Name: Garage Type, dtype: int64\n",
      "df_column_ shape (0, 10)\n"
     ]
    },
    {
     "data": {
      "text/html": [
       "<div>\n",
       "<style scoped>\n",
       "    .dataframe tbody tr th:only-of-type {\n",
       "        vertical-align: middle;\n",
       "    }\n",
       "\n",
       "    .dataframe tbody tr th {\n",
       "        vertical-align: top;\n",
       "    }\n",
       "\n",
       "    .dataframe thead th {\n",
       "        text-align: right;\n",
       "    }\n",
       "</style>\n",
       "<table border=\"1\" class=\"dataframe\">\n",
       "  <thead>\n",
       "    <tr style=\"text-align: right;\">\n",
       "      <th></th>\n",
       "      <th>Garage Type</th>\n",
       "      <th>Garage Yr Blt</th>\n",
       "      <th>Garage Finish</th>\n",
       "      <th>Garage Cars</th>\n",
       "      <th>Garage Area</th>\n",
       "      <th>Garage Qual</th>\n",
       "      <th>Garage Cond</th>\n",
       "      <th>Yr Sold</th>\n",
       "      <th>Sale Type</th>\n",
       "      <th>SalePrice</th>\n",
       "    </tr>\n",
       "  </thead>\n",
       "  <tbody>\n",
       "  </tbody>\n",
       "</table>\n",
       "</div>"
      ],
      "text/plain": [
       "Empty DataFrame\n",
       "Columns: [Garage Type, Garage Yr Blt, Garage Finish, Garage Cars, Garage Area, Garage Qual, Garage Cond, Yr Sold, Sale Type, SalePrice]\n",
       "Index: []"
      ]
     },
     "execution_count": 21,
     "metadata": {},
     "output_type": "execute_result"
    }
   ],
   "source": [
    "# filling NaN values with 'no_basement' for columns = ['Bsmt Qual','Bsmt Cond','BsmtFin Type 2','Bsmt Exposure','BsmtFin Type 1']\n",
    "columns2replace = ['Garage Type', 'Garage Yr Blt', 'Garage Finish', 'Garage Qual', 'Garage Cond']\n",
    "\n",
    "# performing replacement and verifying\n",
    "for column in columns2replace:\n",
    "    print(column)\n",
    "    df_train[column] = df_train[column].fillna('no_garage')\n",
    "    print('is null sum: ',df_train[column].isnull().sum() )\n",
    "    print('') # just for break b/w loops\n",
    "\n",
    "# quick glance at garage specific features for confirmation\n",
    "null_reminders(dataframe=df_train, column_name='Garage Type',features_to_drop=features_to_drop,value_cnt='Yes').head()"
   ]
  },
  {
   "cell_type": "markdown",
   "metadata": {},
   "source": [
    "--- \n",
    "##### Continous Feature Alterations\n",
    "This subsection works through cleaning continous variables to match the data dictionary entries based on logical assumptions. This section will focus on replace larger amounts of nulls at a time within a feature not those  with 1 null value. "
   ]
  },
  {
   "cell_type": "code",
   "execution_count": 22,
   "metadata": {},
   "outputs": [
    {
     "data": {
      "text/html": [
       "<div>\n",
       "<style scoped>\n",
       "    .dataframe tbody tr th:only-of-type {\n",
       "        vertical-align: middle;\n",
       "    }\n",
       "\n",
       "    .dataframe tbody tr th {\n",
       "        vertical-align: top;\n",
       "    }\n",
       "\n",
       "    .dataframe thead th {\n",
       "        text-align: right;\n",
       "    }\n",
       "</style>\n",
       "<table border=\"1\" class=\"dataframe\">\n",
       "  <thead>\n",
       "    <tr style=\"text-align: right;\">\n",
       "      <th></th>\n",
       "      <th>column_name</th>\n",
       "      <th>null_count</th>\n",
       "      <th>percent_missing</th>\n",
       "      <th>categorical_unique</th>\n",
       "    </tr>\n",
       "  </thead>\n",
       "  <tbody>\n",
       "    <tr>\n",
       "      <th>3</th>\n",
       "      <td>Lot Frontage</td>\n",
       "      <td>330</td>\n",
       "      <td>16.09</td>\n",
       "      <td>not cat.</td>\n",
       "    </tr>\n",
       "    <tr>\n",
       "      <th>24</th>\n",
       "      <td>Mas Vnr Type</td>\n",
       "      <td>22</td>\n",
       "      <td>1.07</td>\n",
       "      <td>[BrkFace, None, nan, Stone, BrkCmn]</td>\n",
       "    </tr>\n",
       "    <tr>\n",
       "      <th>25</th>\n",
       "      <td>Mas Vnr Area</td>\n",
       "      <td>22</td>\n",
       "      <td>1.07</td>\n",
       "      <td>not cat.</td>\n",
       "    </tr>\n",
       "    <tr>\n",
       "      <th>46</th>\n",
       "      <td>Bsmt Full Bath</td>\n",
       "      <td>2</td>\n",
       "      <td>0.10</td>\n",
       "      <td>not cat.</td>\n",
       "    </tr>\n",
       "    <tr>\n",
       "      <th>47</th>\n",
       "      <td>Bsmt Half Bath</td>\n",
       "      <td>2</td>\n",
       "      <td>0.10</td>\n",
       "      <td>not cat.</td>\n",
       "    </tr>\n",
       "  </tbody>\n",
       "</table>\n",
       "</div>"
      ],
      "text/plain": [
       "       column_name  null_count  percent_missing  \\\n",
       "3     Lot Frontage         330            16.09   \n",
       "24    Mas Vnr Type          22             1.07   \n",
       "25    Mas Vnr Area          22             1.07   \n",
       "46  Bsmt Full Bath           2             0.10   \n",
       "47  Bsmt Half Bath           2             0.10   \n",
       "\n",
       "                     categorical_unique  \n",
       "3                              not cat.  \n",
       "24  [BrkFace, None, nan, Stone, BrkCmn]  \n",
       "25                             not cat.  \n",
       "46                             not cat.  \n",
       "47                             not cat.  "
      ]
     },
     "execution_count": 22,
     "metadata": {},
     "output_type": "execute_result"
    }
   ],
   "source": [
    "# getting a glimpse of what is left to work with\n",
    "charac_df = character_df(df_train)\n",
    "charac_df[ charac_df['null_count']>1 ]"
   ]
  },
  {
   "cell_type": "code",
   "execution_count": 23,
   "metadata": {},
   "outputs": [
    {
     "name": "stdout",
     "output_type": "stream",
     "text": [
      "is null sum:  330\n",
      "df_column_ shape (330, 16)\n"
     ]
    },
    {
     "data": {
      "text/html": [
       "<div>\n",
       "<style scoped>\n",
       "    .dataframe tbody tr th:only-of-type {\n",
       "        vertical-align: middle;\n",
       "    }\n",
       "\n",
       "    .dataframe tbody tr th {\n",
       "        vertical-align: top;\n",
       "    }\n",
       "\n",
       "    .dataframe thead th {\n",
       "        text-align: right;\n",
       "    }\n",
       "</style>\n",
       "<table border=\"1\" class=\"dataframe\">\n",
       "  <thead>\n",
       "    <tr style=\"text-align: right;\">\n",
       "      <th></th>\n",
       "      <th>Id</th>\n",
       "      <th>Lot Frontage</th>\n",
       "      <th>Lot Area</th>\n",
       "      <th>Street</th>\n",
       "      <th>Lot Shape</th>\n",
       "      <th>Land Contour</th>\n",
       "      <th>Utilities</th>\n",
       "      <th>Lot Config</th>\n",
       "      <th>Land Slope</th>\n",
       "      <th>Neighborhood</th>\n",
       "      <th>Condition 1</th>\n",
       "      <th>Condition 2</th>\n",
       "      <th>Bldg Type</th>\n",
       "      <th>House Style</th>\n",
       "      <th>Overall Qual</th>\n",
       "      <th>SalePrice</th>\n",
       "    </tr>\n",
       "  </thead>\n",
       "  <tbody>\n",
       "    <tr>\n",
       "      <th>0</th>\n",
       "      <td>109</td>\n",
       "      <td>NaN</td>\n",
       "      <td>13517</td>\n",
       "      <td>Pave</td>\n",
       "      <td>IR1</td>\n",
       "      <td>Lvl</td>\n",
       "      <td>AllPub</td>\n",
       "      <td>CulDSac</td>\n",
       "      <td>Gtl</td>\n",
       "      <td>Sawyer</td>\n",
       "      <td>RRAe</td>\n",
       "      <td>Norm</td>\n",
       "      <td>1Fam</td>\n",
       "      <td>2Story</td>\n",
       "      <td>6</td>\n",
       "      <td>130500</td>\n",
       "    </tr>\n",
       "    <tr>\n",
       "      <th>7</th>\n",
       "      <td>145</td>\n",
       "      <td>NaN</td>\n",
       "      <td>12160</td>\n",
       "      <td>Pave</td>\n",
       "      <td>IR1</td>\n",
       "      <td>Lvl</td>\n",
       "      <td>AllPub</td>\n",
       "      <td>Inside</td>\n",
       "      <td>Gtl</td>\n",
       "      <td>NAmes</td>\n",
       "      <td>Norm</td>\n",
       "      <td>Norm</td>\n",
       "      <td>1Fam</td>\n",
       "      <td>1Story</td>\n",
       "      <td>5</td>\n",
       "      <td>142000</td>\n",
       "    </tr>\n",
       "    <tr>\n",
       "      <th>8</th>\n",
       "      <td>1942</td>\n",
       "      <td>NaN</td>\n",
       "      <td>15783</td>\n",
       "      <td>Pave</td>\n",
       "      <td>Reg</td>\n",
       "      <td>Lvl</td>\n",
       "      <td>AllPub</td>\n",
       "      <td>Inside</td>\n",
       "      <td>Gtl</td>\n",
       "      <td>OldTown</td>\n",
       "      <td>Artery</td>\n",
       "      <td>Norm</td>\n",
       "      <td>1Fam</td>\n",
       "      <td>1Story</td>\n",
       "      <td>5</td>\n",
       "      <td>112500</td>\n",
       "    </tr>\n",
       "    <tr>\n",
       "      <th>23</th>\n",
       "      <td>12</td>\n",
       "      <td>NaN</td>\n",
       "      <td>7980</td>\n",
       "      <td>Pave</td>\n",
       "      <td>IR1</td>\n",
       "      <td>Lvl</td>\n",
       "      <td>AllPub</td>\n",
       "      <td>Inside</td>\n",
       "      <td>Gtl</td>\n",
       "      <td>Gilbert</td>\n",
       "      <td>Norm</td>\n",
       "      <td>Norm</td>\n",
       "      <td>1Fam</td>\n",
       "      <td>1Story</td>\n",
       "      <td>6</td>\n",
       "      <td>185000</td>\n",
       "    </tr>\n",
       "    <tr>\n",
       "      <th>27</th>\n",
       "      <td>1534</td>\n",
       "      <td>NaN</td>\n",
       "      <td>11700</td>\n",
       "      <td>Pave</td>\n",
       "      <td>IR1</td>\n",
       "      <td>HLS</td>\n",
       "      <td>AllPub</td>\n",
       "      <td>Inside</td>\n",
       "      <td>Mod</td>\n",
       "      <td>Crawfor</td>\n",
       "      <td>Norm</td>\n",
       "      <td>Norm</td>\n",
       "      <td>1Fam</td>\n",
       "      <td>1.5Fin</td>\n",
       "      <td>5</td>\n",
       "      <td>198000</td>\n",
       "    </tr>\n",
       "  </tbody>\n",
       "</table>\n",
       "</div>"
      ],
      "text/plain": [
       "      Id  Lot Frontage  Lot Area Street Lot Shape Land Contour Utilities  \\\n",
       "0    109           NaN     13517   Pave       IR1          Lvl    AllPub   \n",
       "7    145           NaN     12160   Pave       IR1          Lvl    AllPub   \n",
       "8   1942           NaN     15783   Pave       Reg          Lvl    AllPub   \n",
       "23    12           NaN      7980   Pave       IR1          Lvl    AllPub   \n",
       "27  1534           NaN     11700   Pave       IR1          HLS    AllPub   \n",
       "\n",
       "   Lot Config Land Slope Neighborhood Condition 1 Condition 2 Bldg Type  \\\n",
       "0     CulDSac        Gtl       Sawyer        RRAe        Norm      1Fam   \n",
       "7      Inside        Gtl        NAmes        Norm        Norm      1Fam   \n",
       "8      Inside        Gtl      OldTown      Artery        Norm      1Fam   \n",
       "23     Inside        Gtl      Gilbert        Norm        Norm      1Fam   \n",
       "27     Inside        Mod      Crawfor        Norm        Norm      1Fam   \n",
       "\n",
       "   House Style  Overall Qual  SalePrice  \n",
       "0       2Story             6     130500  \n",
       "7       1Story             5     142000  \n",
       "8       1Story             5     112500  \n",
       "23      1Story             6     185000  \n",
       "27      1.5Fin             5     198000  "
      ]
     },
     "execution_count": 23,
     "metadata": {},
     "output_type": "execute_result"
    }
   ],
   "source": [
    "# again manually selecting what columns I do not want to look at in my  reminder function\n",
    "features_to_drop = [  'MS SubClass', 'MS Zoning', \n",
    " 'Overall Cond', 'Year Built','Year Remod/Add', 'Roof Style', 'Roof Matl', 'Exterior 1st', 'Exterior 2nd', 'Mas Vnr Type', 'Mas Vnr Area', 'Exter Qual','Exter Cond', 'Foundation', 'Bsmt Qual', 'Bsmt Cond', 'Bsmt Exposure','BsmtFin Type 1', 'BsmtFin SF 1', 'BsmtFin Type 2', 'BsmtFin SF 2','Bsmt Unf SF', 'Total Bsmt SF', 'Heating', 'Heating QC', 'Central Air','Electrical', '1st Flr SF', '2nd Flr SF', 'Low Qual Fin SF','Gr Liv Area', 'Bsmt Full Bath', 'Bsmt Half Bath', 'Full Bath','Half Bath', 'Bedroom AbvGr', 'Kitchen AbvGr', 'Kitchen Qual','TotRms AbvGrd', 'Functional', 'Fireplaces', 'Garage Type', 'Garage Yr Blt', 'Garage Finish', 'Garage Cars', 'Garage Area','Garage Qual', 'Garage Cond', 'Paved Drive', 'Wood Deck SF','Open Porch SF', 'Enclosed Porch', '3Ssn Porch', 'Screen Porch','Pool Area', 'Misc Val', 'Mo Sold', 'Yr Sold', 'Sale Type']\n",
    "df_lot_frnt = null_reminders(dataframe=df_train, column_name='Lot Frontage',features_to_drop=features_to_drop,value_cnt='No').head()\n",
    "df_lot_frnt.head()"
   ]
  },
  {
   "cell_type": "markdown",
   "metadata": {},
   "source": [
    "For this particular feature since there are groups for each of these missing values the replacement of the average by group should be a decent estimate in case this feature is selected to be inputed into the model. "
   ]
  },
  {
   "cell_type": "code",
   "execution_count": 24,
   "metadata": {},
   "outputs": [
    {
     "name": "stdout",
     "output_type": "stream",
     "text": [
      "is null sum:  0\n",
      "df_column_ shape (0, 16)\n"
     ]
    },
    {
     "data": {
      "text/html": [
       "<div>\n",
       "<style scoped>\n",
       "    .dataframe tbody tr th:only-of-type {\n",
       "        vertical-align: middle;\n",
       "    }\n",
       "\n",
       "    .dataframe tbody tr th {\n",
       "        vertical-align: top;\n",
       "    }\n",
       "\n",
       "    .dataframe thead th {\n",
       "        text-align: right;\n",
       "    }\n",
       "</style>\n",
       "<table border=\"1\" class=\"dataframe\">\n",
       "  <thead>\n",
       "    <tr style=\"text-align: right;\">\n",
       "      <th></th>\n",
       "      <th>Id</th>\n",
       "      <th>Lot Frontage</th>\n",
       "      <th>Lot Area</th>\n",
       "      <th>Street</th>\n",
       "      <th>Lot Shape</th>\n",
       "      <th>Land Contour</th>\n",
       "      <th>Utilities</th>\n",
       "      <th>Lot Config</th>\n",
       "      <th>Land Slope</th>\n",
       "      <th>Neighborhood</th>\n",
       "      <th>Condition 1</th>\n",
       "      <th>Condition 2</th>\n",
       "      <th>Bldg Type</th>\n",
       "      <th>House Style</th>\n",
       "      <th>Overall Qual</th>\n",
       "      <th>SalePrice</th>\n",
       "    </tr>\n",
       "  </thead>\n",
       "  <tbody>\n",
       "  </tbody>\n",
       "</table>\n",
       "</div>"
      ],
      "text/plain": [
       "Empty DataFrame\n",
       "Columns: [Id, Lot Frontage, Lot Area, Street, Lot Shape, Land Contour, Utilities, Lot Config, Land Slope, Neighborhood, Condition 1, Condition 2, Bldg Type, House Style, Overall Qual, SalePrice]\n",
       "Index: []"
      ]
     },
     "execution_count": 24,
     "metadata": {},
     "output_type": "execute_result"
    }
   ],
   "source": [
    "#actual replacement of nulls\n",
    "fillna_centrl_tendcy(dataframe=df_train,change_column='Lot Frontage',groupby_column='Lot Config',function='mean')\n",
    "\n",
    "# checking output again to ensure no other nulls were left\n",
    "df_lot_frnt = null_reminders(dataframe=df_train, column_name='Lot Frontage',features_to_drop=features_to_drop,value_cnt='No').head()\n",
    "df_lot_frnt.head()"
   ]
  },
  {
   "cell_type": "code",
   "execution_count": 25,
   "metadata": {},
   "outputs": [
    {
     "name": "stdout",
     "output_type": "stream",
     "text": [
      "is null sum:  22\n",
      "None       1218\n",
      "BrkFace     630\n",
      "Stone       168\n",
      "BrkCmn       13\n",
      "Name: Mas Vnr Type, dtype: int64\n",
      "df_column_ shape (22, 2)\n"
     ]
    },
    {
     "data": {
      "text/html": [
       "<div>\n",
       "<style scoped>\n",
       "    .dataframe tbody tr th:only-of-type {\n",
       "        vertical-align: middle;\n",
       "    }\n",
       "\n",
       "    .dataframe tbody tr th {\n",
       "        vertical-align: top;\n",
       "    }\n",
       "\n",
       "    .dataframe thead th {\n",
       "        text-align: right;\n",
       "    }\n",
       "</style>\n",
       "<table border=\"1\" class=\"dataframe\">\n",
       "  <thead>\n",
       "    <tr style=\"text-align: right;\">\n",
       "      <th></th>\n",
       "      <th>Mas Vnr Type</th>\n",
       "      <th>Mas Vnr Area</th>\n",
       "    </tr>\n",
       "  </thead>\n",
       "  <tbody>\n",
       "    <tr>\n",
       "      <th>22</th>\n",
       "      <td>NaN</td>\n",
       "      <td>NaN</td>\n",
       "    </tr>\n",
       "    <tr>\n",
       "      <th>41</th>\n",
       "      <td>NaN</td>\n",
       "      <td>NaN</td>\n",
       "    </tr>\n",
       "    <tr>\n",
       "      <th>86</th>\n",
       "      <td>NaN</td>\n",
       "      <td>NaN</td>\n",
       "    </tr>\n",
       "    <tr>\n",
       "      <th>212</th>\n",
       "      <td>NaN</td>\n",
       "      <td>NaN</td>\n",
       "    </tr>\n",
       "    <tr>\n",
       "      <th>276</th>\n",
       "      <td>NaN</td>\n",
       "      <td>NaN</td>\n",
       "    </tr>\n",
       "  </tbody>\n",
       "</table>\n",
       "</div>"
      ],
      "text/plain": [
       "    Mas Vnr Type  Mas Vnr Area\n",
       "22           NaN           NaN\n",
       "41           NaN           NaN\n",
       "86           NaN           NaN\n",
       "212          NaN           NaN\n",
       "276          NaN           NaN"
      ]
     },
     "execution_count": 25,
     "metadata": {},
     "output_type": "execute_result"
    }
   ],
   "source": [
    "# again manually selecting what columns I do not want to look at in my reminder function\n",
    "features_to_drop = [ 'Id', 'MS SubClass', 'MS Zoning', 'Lot Frontage', 'Lot Area', 'Street', 'Lot Shape', 'Land Contour', 'Utilities', 'Lot Config', 'Land Slope','Neighborhood', 'Condition 1', 'Condition 2', 'Bldg Type','House Style', 'Overall Qual', 'Overall Cond', 'Year Built', 'Year Remod/Add', 'Roof Style', 'Roof Matl', 'Exterior 1st','Exterior 2nd','Exter Qual','Exter Cond', 'Foundation', 'Bsmt Qual', 'Bsmt Cond', 'Bsmt Exposure','BsmtFin Type 1', 'BsmtFin SF 1', 'BsmtFin Type 2', 'BsmtFin SF 2', 'Bsmt Unf SF', 'Total Bsmt SF', 'Heating', 'Heating QC', 'Central Air', 'Electrical', '1st Flr SF', '2nd Flr SF', 'Low Qual Fin SF', 'Gr Liv Area', 'Bsmt Full Bath', 'Bsmt Half Bath', 'Full Bath','Half Bath', 'Bedroom AbvGr', 'Kitchen AbvGr', 'Kitchen Qual', 'TotRms AbvGrd', 'Functional', 'Fireplaces', 'Garage Type','Garage Yr Blt', 'Garage Finish', 'Garage Cars', 'Garage Area','Garage Qual', 'Garage Cond', 'Paved Drive', 'Wood Deck SF', 'Open Porch SF', 'Enclosed Porch', '3Ssn Porch', 'Screen Porch','Pool Area', 'Misc Val', 'Mo Sold', 'Yr Sold', 'Sale Type','SalePrice']\n",
    "\n",
    "\n",
    "df_mas_vnr = null_reminders(dataframe=df_train, column_name='Mas Vnr Type',features_to_drop=features_to_drop,value_cnt='Yes')\n",
    "df_mas_vnr.head()"
   ]
  },
  {
   "cell_type": "markdown",
   "metadata": {},
   "source": [
    "From the NaN in the Mas Vnr Area (Masonry veneer area in square feet) column I will assume that these houses did not have a Masonry at all. So these values will be fill with their respective None(Mas Vnr Type) and 0 square ft (Mas Vnr Area) values from the data dictionary. "
   ]
  },
  {
   "cell_type": "code",
   "execution_count": 26,
   "metadata": {},
   "outputs": [
    {
     "name": "stdout",
     "output_type": "stream",
     "text": [
      "is null sum:  0\n",
      "\n",
      "is null sum:  0\n",
      "\n",
      "is null sum:  0\n",
      "Attchd       1213\n",
      "Detchd        536\n",
      "BuiltIn       132\n",
      "no_garage     113\n",
      "Basment        27\n",
      "2Types         19\n",
      "CarPort        11\n",
      "Name: Garage Type, dtype: int64\n",
      "df_column_ shape (0, 2)\n"
     ]
    },
    {
     "data": {
      "text/html": [
       "<div>\n",
       "<style scoped>\n",
       "    .dataframe tbody tr th:only-of-type {\n",
       "        vertical-align: middle;\n",
       "    }\n",
       "\n",
       "    .dataframe tbody tr th {\n",
       "        vertical-align: top;\n",
       "    }\n",
       "\n",
       "    .dataframe thead th {\n",
       "        text-align: right;\n",
       "    }\n",
       "</style>\n",
       "<table border=\"1\" class=\"dataframe\">\n",
       "  <thead>\n",
       "    <tr style=\"text-align: right;\">\n",
       "      <th></th>\n",
       "      <th>Mas Vnr Type</th>\n",
       "      <th>Mas Vnr Area</th>\n",
       "    </tr>\n",
       "  </thead>\n",
       "  <tbody>\n",
       "  </tbody>\n",
       "</table>\n",
       "</div>"
      ],
      "text/plain": [
       "Empty DataFrame\n",
       "Columns: [Mas Vnr Type, Mas Vnr Area]\n",
       "Index: []"
      ]
     },
     "execution_count": 26,
     "metadata": {},
     "output_type": "execute_result"
    }
   ],
   "source": [
    "# performing replacement for  ['Mas Vnr Type']\n",
    "columns2replace = ['Mas Vnr Type']\n",
    "for column in columns2replace:\n",
    "    df_train[column] = df_train[column].fillna('None')\n",
    "    print('is null sum: ',df_train[column].isnull().sum() )\n",
    "    print('') # just for break b/w loops\n",
    "\n",
    "# performing replacement for  ['Mas Vnr Area']\n",
    "columns2replace = ['Mas Vnr Area']\n",
    "for column in columns2replace:\n",
    "    df_train[column] = df_train[column].fillna(0)\n",
    "    print('is null sum: ',df_train[column].isnull().sum() )\n",
    "    print('') # just for break b/w loops\n",
    "\n",
    "# quick glance at masonry specific features for confirmation\n",
    "null_reminders(dataframe=df_train, column_name='Garage Type',features_to_drop=features_to_drop,value_cnt='Yes').head()"
   ]
  },
  {
   "cell_type": "code",
   "execution_count": 27,
   "metadata": {},
   "outputs": [
    {
     "name": "stdout",
     "output_type": "stream",
     "text": [
      "is null sum:  2\n",
      "0.0    1200\n",
      "1.0     824\n",
      "2.0      23\n",
      "3.0       2\n",
      "Name: Bsmt Full Bath, dtype: int64\n",
      "df_column_ shape (2, 13)\n"
     ]
    },
    {
     "data": {
      "text/html": [
       "<div>\n",
       "<style scoped>\n",
       "    .dataframe tbody tr th:only-of-type {\n",
       "        vertical-align: middle;\n",
       "    }\n",
       "\n",
       "    .dataframe tbody tr th {\n",
       "        vertical-align: top;\n",
       "    }\n",
       "\n",
       "    .dataframe thead th {\n",
       "        text-align: right;\n",
       "    }\n",
       "</style>\n",
       "<table border=\"1\" class=\"dataframe\">\n",
       "  <thead>\n",
       "    <tr style=\"text-align: right;\">\n",
       "      <th></th>\n",
       "      <th>Bsmt Qual</th>\n",
       "      <th>Bsmt Cond</th>\n",
       "      <th>Bsmt Exposure</th>\n",
       "      <th>BsmtFin Type 1</th>\n",
       "      <th>BsmtFin SF 1</th>\n",
       "      <th>BsmtFin Type 2</th>\n",
       "      <th>BsmtFin SF 2</th>\n",
       "      <th>Bsmt Unf SF</th>\n",
       "      <th>Total Bsmt SF</th>\n",
       "      <th>Bsmt Full Bath</th>\n",
       "      <th>Bsmt Half Bath</th>\n",
       "      <th>Full Bath</th>\n",
       "      <th>Half Bath</th>\n",
       "    </tr>\n",
       "  </thead>\n",
       "  <tbody>\n",
       "    <tr>\n",
       "      <th>616</th>\n",
       "      <td>no_basement</td>\n",
       "      <td>no_basement</td>\n",
       "      <td>no_basement</td>\n",
       "      <td>no_basement</td>\n",
       "      <td>0.0</td>\n",
       "      <td>no_basement</td>\n",
       "      <td>0.0</td>\n",
       "      <td>0.0</td>\n",
       "      <td>0.0</td>\n",
       "      <td>NaN</td>\n",
       "      <td>NaN</td>\n",
       "      <td>3</td>\n",
       "      <td>1</td>\n",
       "    </tr>\n",
       "    <tr>\n",
       "      <th>1327</th>\n",
       "      <td>no_basement</td>\n",
       "      <td>no_basement</td>\n",
       "      <td>no_basement</td>\n",
       "      <td>no_basement</td>\n",
       "      <td>NaN</td>\n",
       "      <td>no_basement</td>\n",
       "      <td>NaN</td>\n",
       "      <td>NaN</td>\n",
       "      <td>NaN</td>\n",
       "      <td>NaN</td>\n",
       "      <td>NaN</td>\n",
       "      <td>1</td>\n",
       "      <td>0</td>\n",
       "    </tr>\n",
       "  </tbody>\n",
       "</table>\n",
       "</div>"
      ],
      "text/plain": [
       "        Bsmt Qual    Bsmt Cond Bsmt Exposure BsmtFin Type 1  BsmtFin SF 1  \\\n",
       "616   no_basement  no_basement   no_basement    no_basement           0.0   \n",
       "1327  no_basement  no_basement   no_basement    no_basement           NaN   \n",
       "\n",
       "     BsmtFin Type 2  BsmtFin SF 2  Bsmt Unf SF  Total Bsmt SF  Bsmt Full Bath  \\\n",
       "616     no_basement           0.0          0.0            0.0             NaN   \n",
       "1327    no_basement           NaN          NaN            NaN             NaN   \n",
       "\n",
       "      Bsmt Half Bath  Full Bath  Half Bath  \n",
       "616              NaN          3          1  \n",
       "1327             NaN          1          0  "
      ]
     },
     "execution_count": 27,
     "metadata": {},
     "output_type": "execute_result"
    }
   ],
   "source": [
    "# again manually selecting what columns I do not want to look at in my reminder function\n",
    "features_to_drop = [ 'Id', 'MS SubClass', 'MS Zoning', 'Lot Frontage', 'Lot Area', 'Street', 'Heating'\t,'Heating QC'\t,'Central Air'\t,'Electrical',\t'1st Flr SF',\t'2nd Flr SF',\t'Low Qual Fin SF'\t,'Gr Liv Area','Lot Shape', 'Land Contour', 'Utilities', 'Lot Config', 'Land Slope','Neighborhood', 'Condition 1', 'Condition 2', 'Bldg Type','House Style', 'Overall Qual', 'Overall Cond', 'Year Built','Year Remod/Add', 'Roof Style', 'Roof Matl', 'Exterior 1st','Exterior 2nd', 'Mas Vnr Type', 'Mas Vnr Area', 'Exter Qual','Exter Cond', 'Foundation','Bedroom AbvGr', 'Kitchen AbvGr', 'Kitchen Qual','TotRms AbvGrd', 'Functional', 'Fireplaces', 'Garage Type','Garage Yr Blt', 'Garage Finish', 'Garage Cars', 'Garage Area','Garage Qual', 'Garage Cond', 'Paved Drive', 'Wood Deck SF','Open Porch SF', 'Enclosed Porch', '3Ssn Porch', 'Screen Porch','Pool Area', 'Misc Val', 'Mo Sold', 'Yr Sold', 'Sale Type','SalePrice']\n",
    "\n",
    "\n",
    "df_bsmt_baths = null_reminders(dataframe=df_train, column_name='Bsmt Full Bath',features_to_drop=features_to_drop,value_cnt='Yes')\n",
    "df_bsmt_baths.head()"
   ]
  },
  {
   "cell_type": "markdown",
   "metadata": {},
   "source": [
    "Clearly the NaN values within this data frame should all be replaced with 0 since there are no basements in these house observations. Hopefully this will take care of some of the random null values that would have had to be cleaned later on. In the data dictionary they are all either categorical or discrete so replacement with 0 seems to be accurate statements across the board if there are no basements."
   ]
  },
  {
   "cell_type": "code",
   "execution_count": 28,
   "metadata": {},
   "outputs": [
    {
     "name": "stdout",
     "output_type": "stream",
     "text": [
      "is null sum:  0\n",
      "\n",
      "is null sum:  0\n",
      "\n",
      "is null sum:  0\n",
      "\n",
      "is null sum:  0\n",
      "\n",
      "is null sum:  0\n",
      "\n",
      "is null sum:  0\n",
      "\n",
      "is null sum:  0\n",
      "df_column_ shape (0, 13)\n"
     ]
    },
    {
     "data": {
      "text/html": [
       "<div>\n",
       "<style scoped>\n",
       "    .dataframe tbody tr th:only-of-type {\n",
       "        vertical-align: middle;\n",
       "    }\n",
       "\n",
       "    .dataframe tbody tr th {\n",
       "        vertical-align: top;\n",
       "    }\n",
       "\n",
       "    .dataframe thead th {\n",
       "        text-align: right;\n",
       "    }\n",
       "</style>\n",
       "<table border=\"1\" class=\"dataframe\">\n",
       "  <thead>\n",
       "    <tr style=\"text-align: right;\">\n",
       "      <th></th>\n",
       "      <th>Bsmt Qual</th>\n",
       "      <th>Bsmt Cond</th>\n",
       "      <th>Bsmt Exposure</th>\n",
       "      <th>BsmtFin Type 1</th>\n",
       "      <th>BsmtFin SF 1</th>\n",
       "      <th>BsmtFin Type 2</th>\n",
       "      <th>BsmtFin SF 2</th>\n",
       "      <th>Bsmt Unf SF</th>\n",
       "      <th>Total Bsmt SF</th>\n",
       "      <th>Bsmt Full Bath</th>\n",
       "      <th>Bsmt Half Bath</th>\n",
       "      <th>Full Bath</th>\n",
       "      <th>Half Bath</th>\n",
       "    </tr>\n",
       "  </thead>\n",
       "  <tbody>\n",
       "  </tbody>\n",
       "</table>\n",
       "</div>"
      ],
      "text/plain": [
       "Empty DataFrame\n",
       "Columns: [Bsmt Qual, Bsmt Cond, Bsmt Exposure, BsmtFin Type 1, BsmtFin SF 1, BsmtFin Type 2, BsmtFin SF 2, Bsmt Unf SF, Total Bsmt SF, Bsmt Full Bath, Bsmt Half Bath, Full Bath, Half Bath]\n",
       "Index: []"
      ]
     },
     "execution_count": 28,
     "metadata": {},
     "output_type": "execute_result"
    }
   ],
   "source": [
    "# performing replacement for  ['BsmtFin SF 1','BsmtFin SF 2' ,'Bsmt Unf SF' ,'Total Bsmt SF', 'Bsmt Full Bath','Bsmt Half Bath']\n",
    "columns2replace = ['BsmtFin SF 1','BsmtFin SF 2' ,'Bsmt Unf SF' ,'Total Bsmt SF', 'Bsmt Full Bath','Bsmt Half Bath']\n",
    "for column in columns2replace:\n",
    "    df_train[column] = df_train[column].fillna(0)\n",
    "    print('is null sum: ',df_train[column].isnull().sum() )\n",
    "    print('') # just for break b/w loops\n",
    "\n",
    "# quick glance at bsmt specific features for confirmation\n",
    "null_reminders(dataframe=df_train, column_name='BsmtFin SF 1',features_to_drop=features_to_drop,value_cnt='No').head()"
   ]
  },
  {
   "cell_type": "code",
   "execution_count": 29,
   "metadata": {},
   "outputs": [
    {
     "data": {
      "text/html": [
       "<div>\n",
       "<style scoped>\n",
       "    .dataframe tbody tr th:only-of-type {\n",
       "        vertical-align: middle;\n",
       "    }\n",
       "\n",
       "    .dataframe tbody tr th {\n",
       "        vertical-align: top;\n",
       "    }\n",
       "\n",
       "    .dataframe thead th {\n",
       "        text-align: right;\n",
       "    }\n",
       "</style>\n",
       "<table border=\"1\" class=\"dataframe\">\n",
       "  <thead>\n",
       "    <tr style=\"text-align: right;\">\n",
       "      <th></th>\n",
       "      <th>column_name</th>\n",
       "      <th>null_count</th>\n",
       "      <th>percent_missing</th>\n",
       "      <th>categorical_unique</th>\n",
       "    </tr>\n",
       "  </thead>\n",
       "  <tbody>\n",
       "    <tr>\n",
       "      <th>59</th>\n",
       "      <td>Garage Cars</td>\n",
       "      <td>1</td>\n",
       "      <td>0.05</td>\n",
       "      <td>not cat.</td>\n",
       "    </tr>\n",
       "    <tr>\n",
       "      <th>60</th>\n",
       "      <td>Garage Area</td>\n",
       "      <td>1</td>\n",
       "      <td>0.05</td>\n",
       "      <td>not cat.</td>\n",
       "    </tr>\n",
       "  </tbody>\n",
       "</table>\n",
       "</div>"
      ],
      "text/plain": [
       "    column_name  null_count  percent_missing categorical_unique\n",
       "59  Garage Cars           1             0.05           not cat.\n",
       "60  Garage Area           1             0.05           not cat."
      ]
     },
     "execution_count": 29,
     "metadata": {},
     "output_type": "execute_result"
    }
   ],
   "source": [
    "# checking one last time for anymore nulls in our df_train that arent random\n",
    "charac_df = character_df(df_train)\n",
    "charac_df[ charac_df['null_count']>=1 ]"
   ]
  },
  {
   "cell_type": "markdown",
   "metadata": {},
   "source": [
    "The df_train is now complete based on logical and reasonable assumptions. These may or may not affect the model later on but these are the assumptions that will be made when moving forwards through the analysis. "
   ]
  },
  {
   "cell_type": "markdown",
   "metadata": {},
   "source": [
    "--- \n",
    "##### Random Nulls leftover \n",
    "This subsection works through random nulls in dataframe"
   ]
  },
  {
   "cell_type": "code",
   "execution_count": 30,
   "metadata": {},
   "outputs": [
    {
     "data": {
      "text/html": [
       "<div>\n",
       "<style scoped>\n",
       "    .dataframe tbody tr th:only-of-type {\n",
       "        vertical-align: middle;\n",
       "    }\n",
       "\n",
       "    .dataframe tbody tr th {\n",
       "        vertical-align: top;\n",
       "    }\n",
       "\n",
       "    .dataframe thead th {\n",
       "        text-align: right;\n",
       "    }\n",
       "</style>\n",
       "<table border=\"1\" class=\"dataframe\">\n",
       "  <thead>\n",
       "    <tr style=\"text-align: right;\">\n",
       "      <th></th>\n",
       "      <th>column_name</th>\n",
       "      <th>null_count</th>\n",
       "      <th>percent_missing</th>\n",
       "      <th>categorical_unique</th>\n",
       "    </tr>\n",
       "  </thead>\n",
       "  <tbody>\n",
       "    <tr>\n",
       "      <th>59</th>\n",
       "      <td>Garage Cars</td>\n",
       "      <td>1</td>\n",
       "      <td>0.05</td>\n",
       "      <td>not cat.</td>\n",
       "    </tr>\n",
       "    <tr>\n",
       "      <th>60</th>\n",
       "      <td>Garage Area</td>\n",
       "      <td>1</td>\n",
       "      <td>0.05</td>\n",
       "      <td>not cat.</td>\n",
       "    </tr>\n",
       "  </tbody>\n",
       "</table>\n",
       "</div>"
      ],
      "text/plain": [
       "    column_name  null_count  percent_missing categorical_unique\n",
       "59  Garage Cars           1             0.05           not cat.\n",
       "60  Garage Area           1             0.05           not cat."
      ]
     },
     "execution_count": 30,
     "metadata": {},
     "output_type": "execute_result"
    }
   ],
   "source": [
    "# getting a glimpse of what is left to work with\n",
    "charac_df = character_df(df_train)\n",
    "charac_df[ charac_df['null_count']>0 ]"
   ]
  },
  {
   "cell_type": "code",
   "execution_count": 31,
   "metadata": {},
   "outputs": [],
   "source": [
    "# manually selection columns to drop in reminder function\n",
    "features_to_drop = ['Id', 'MS SubClass', 'MS Zoning', 'Lot Frontage', 'Lot Area', 'Street','Lot Shape', 'Land Contour', 'Utilities', 'Lot Config', 'Land Slope','Neighborhood', 'Condition 1', 'Condition 2', 'Bldg Type','House Style', 'Overall Qual', 'Overall Cond', 'Year Built','Year Remod/Add', 'Roof Style', 'Roof Matl', 'Exterior 1st', 'Exterior 2nd', 'Mas Vnr Type', 'Mas Vnr Area', 'Exter Qual','Exter Cond', 'Foundation', 'Bsmt Qual', 'Bsmt Cond', 'Bsmt Exposure','BsmtFin Type 1', 'BsmtFin SF 1', 'BsmtFin Type 2', 'BsmtFin SF 2','Bsmt Unf SF', 'Total Bsmt SF', 'Heating', 'Heating QC', 'Central Air', 'Electrical', '1st Flr SF', '2nd Flr SF', 'Low Qual Fin SF',  'Gr Liv Area', 'Bsmt Full Bath', 'Bsmt Half Bath', 'Full Bath', 'Half Bath', 'Bedroom AbvGr', 'Kitchen AbvGr', 'Kitchen Qual','Paved Drive', 'Wood Deck SF','Open Porch SF', 'Enclosed Porch', '3Ssn Porch', 'Screen Porch', 'Pool Area', 'Misc Val', 'Mo Sold', 'Yr Sold', 'Sale Type','SalePrice']"
   ]
  },
  {
   "cell_type": "code",
   "execution_count": 32,
   "metadata": {},
   "outputs": [
    {
     "name": "stdout",
     "output_type": "stream",
     "text": [
      "is null sum:  1\n",
      "2.0    1136\n",
      "1.0     524\n",
      "3.0     263\n",
      "0.0     113\n",
      "4.0      13\n",
      "5.0       1\n",
      "Name: Garage Cars, dtype: int64\n",
      "df_column_ shape (1, 10)\n"
     ]
    },
    {
     "data": {
      "text/html": [
       "<div>\n",
       "<style scoped>\n",
       "    .dataframe tbody tr th:only-of-type {\n",
       "        vertical-align: middle;\n",
       "    }\n",
       "\n",
       "    .dataframe tbody tr th {\n",
       "        vertical-align: top;\n",
       "    }\n",
       "\n",
       "    .dataframe thead th {\n",
       "        text-align: right;\n",
       "    }\n",
       "</style>\n",
       "<table border=\"1\" class=\"dataframe\">\n",
       "  <thead>\n",
       "    <tr style=\"text-align: right;\">\n",
       "      <th></th>\n",
       "      <th>TotRms AbvGrd</th>\n",
       "      <th>Functional</th>\n",
       "      <th>Fireplaces</th>\n",
       "      <th>Garage Type</th>\n",
       "      <th>Garage Yr Blt</th>\n",
       "      <th>Garage Finish</th>\n",
       "      <th>Garage Cars</th>\n",
       "      <th>Garage Area</th>\n",
       "      <th>Garage Qual</th>\n",
       "      <th>Garage Cond</th>\n",
       "    </tr>\n",
       "  </thead>\n",
       "  <tbody>\n",
       "    <tr>\n",
       "      <th>1712</th>\n",
       "      <td>6</td>\n",
       "      <td>Typ</td>\n",
       "      <td>0</td>\n",
       "      <td>Detchd</td>\n",
       "      <td>no_garage</td>\n",
       "      <td>no_garage</td>\n",
       "      <td>NaN</td>\n",
       "      <td>NaN</td>\n",
       "      <td>no_garage</td>\n",
       "      <td>no_garage</td>\n",
       "    </tr>\n",
       "  </tbody>\n",
       "</table>\n",
       "</div>"
      ],
      "text/plain": [
       "      TotRms AbvGrd Functional  Fireplaces Garage Type Garage Yr Blt  \\\n",
       "1712              6        Typ           0      Detchd     no_garage   \n",
       "\n",
       "     Garage Finish  Garage Cars  Garage Area Garage Qual Garage Cond  \n",
       "1712     no_garage          NaN          NaN   no_garage   no_garage  "
      ]
     },
     "execution_count": 32,
     "metadata": {},
     "output_type": "execute_result"
    }
   ],
   "source": [
    "null_reminders(dataframe=df_train, column_name='Garage Cars',features_to_drop=features_to_drop,value_cnt='Yes').head()"
   ]
  },
  {
   "cell_type": "markdown",
   "metadata": {},
   "source": [
    "Clearly these were missed in the cleaning from above so since there no garages I will replace with 0s since both are discrete values. Since they are in the same row which makes the replacement easier. "
   ]
  },
  {
   "cell_type": "code",
   "execution_count": 33,
   "metadata": {},
   "outputs": [
    {
     "name": "stdout",
     "output_type": "stream",
     "text": [
      "is null sum:  0\n",
      "\n",
      "is null sum:  0\n",
      "\n",
      "is null sum:  0\n",
      "df_column_ shape (0, 10)\n"
     ]
    },
    {
     "data": {
      "text/html": [
       "<div>\n",
       "<style scoped>\n",
       "    .dataframe tbody tr th:only-of-type {\n",
       "        vertical-align: middle;\n",
       "    }\n",
       "\n",
       "    .dataframe tbody tr th {\n",
       "        vertical-align: top;\n",
       "    }\n",
       "\n",
       "    .dataframe thead th {\n",
       "        text-align: right;\n",
       "    }\n",
       "</style>\n",
       "<table border=\"1\" class=\"dataframe\">\n",
       "  <thead>\n",
       "    <tr style=\"text-align: right;\">\n",
       "      <th></th>\n",
       "      <th>TotRms AbvGrd</th>\n",
       "      <th>Functional</th>\n",
       "      <th>Fireplaces</th>\n",
       "      <th>Garage Type</th>\n",
       "      <th>Garage Yr Blt</th>\n",
       "      <th>Garage Finish</th>\n",
       "      <th>Garage Cars</th>\n",
       "      <th>Garage Area</th>\n",
       "      <th>Garage Qual</th>\n",
       "      <th>Garage Cond</th>\n",
       "    </tr>\n",
       "  </thead>\n",
       "  <tbody>\n",
       "  </tbody>\n",
       "</table>\n",
       "</div>"
      ],
      "text/plain": [
       "Empty DataFrame\n",
       "Columns: [TotRms AbvGrd, Functional, Fireplaces, Garage Type, Garage Yr Blt, Garage Finish, Garage Cars, Garage Area, Garage Qual, Garage Cond]\n",
       "Index: []"
      ]
     },
     "execution_count": 33,
     "metadata": {},
     "output_type": "execute_result"
    }
   ],
   "source": [
    "# performing replacement for  ['Mas Vnr Area']\n",
    "columns2replace = ['Garage Area','Garage Cars']\n",
    "for column in columns2replace:\n",
    "    df_train[column] = df_train[column].fillna(0)\n",
    "    print('is null sum: ',df_train[column].isnull().sum() )\n",
    "    print('') # just for break b/w loops\n",
    "null_reminders(dataframe=df_train, column_name='Garage Cars',features_to_drop=features_to_drop,value_cnt='No').head()"
   ]
  },
  {
   "cell_type": "markdown",
   "metadata": {},
   "source": [
    "Finally will confirm that all the null values have been taken care of to export the clean csv and then begin EDA and preparation for the modeling process. "
   ]
  },
  {
   "cell_type": "code",
   "execution_count": 34,
   "metadata": {},
   "outputs": [
    {
     "data": {
      "text/html": [
       "<div>\n",
       "<style scoped>\n",
       "    .dataframe tbody tr th:only-of-type {\n",
       "        vertical-align: middle;\n",
       "    }\n",
       "\n",
       "    .dataframe tbody tr th {\n",
       "        vertical-align: top;\n",
       "    }\n",
       "\n",
       "    .dataframe thead th {\n",
       "        text-align: right;\n",
       "    }\n",
       "</style>\n",
       "<table border=\"1\" class=\"dataframe\">\n",
       "  <thead>\n",
       "    <tr style=\"text-align: right;\">\n",
       "      <th></th>\n",
       "      <th>column_name</th>\n",
       "      <th>null_count</th>\n",
       "      <th>percent_missing</th>\n",
       "      <th>categorical_unique</th>\n",
       "    </tr>\n",
       "  </thead>\n",
       "  <tbody>\n",
       "  </tbody>\n",
       "</table>\n",
       "</div>"
      ],
      "text/plain": [
       "Empty DataFrame\n",
       "Columns: [column_name, null_count, percent_missing, categorical_unique]\n",
       "Index: []"
      ]
     },
     "execution_count": 34,
     "metadata": {},
     "output_type": "execute_result"
    }
   ],
   "source": [
    "# confirming there are no more null values\n",
    "charac_df = character_df(df_train)\n",
    "charac_df[ charac_df['null_count']>0 ]"
   ]
  },
  {
   "cell_type": "markdown",
   "metadata": {},
   "source": [
    "---\n",
    "# Checking for Duplicates\n",
    "This section shows a few ways to check for duplicates within the df_tran. Found the actual function through this medium[ article](https://towardsdatascience.com/finding-and-removing-duplicate-rows-in-pandas-dataframe-c6117668631f)."
   ]
  },
  {
   "cell_type": "code",
   "execution_count": 35,
   "metadata": {},
   "outputs": [
    {
     "data": {
      "text/plain": [
       "0"
      ]
     },
     "execution_count": 35,
     "metadata": {},
     "output_type": "execute_result"
    }
   ],
   "source": [
    "df_train.duplicated().sum()"
   ]
  },
  {
   "cell_type": "code",
   "execution_count": 36,
   "metadata": {},
   "outputs": [
    {
     "data": {
      "text/html": [
       "<div>\n",
       "<style scoped>\n",
       "    .dataframe tbody tr th:only-of-type {\n",
       "        vertical-align: middle;\n",
       "    }\n",
       "\n",
       "    .dataframe tbody tr th {\n",
       "        vertical-align: top;\n",
       "    }\n",
       "\n",
       "    .dataframe thead th {\n",
       "        text-align: right;\n",
       "    }\n",
       "</style>\n",
       "<table border=\"1\" class=\"dataframe\">\n",
       "  <thead>\n",
       "    <tr style=\"text-align: right;\">\n",
       "      <th></th>\n",
       "      <th>Id</th>\n",
       "      <th>MS SubClass</th>\n",
       "      <th>MS Zoning</th>\n",
       "      <th>Lot Frontage</th>\n",
       "      <th>Lot Area</th>\n",
       "      <th>Street</th>\n",
       "      <th>Lot Shape</th>\n",
       "      <th>Land Contour</th>\n",
       "      <th>Utilities</th>\n",
       "      <th>Lot Config</th>\n",
       "      <th>...</th>\n",
       "      <th>Open Porch SF</th>\n",
       "      <th>Enclosed Porch</th>\n",
       "      <th>3Ssn Porch</th>\n",
       "      <th>Screen Porch</th>\n",
       "      <th>Pool Area</th>\n",
       "      <th>Misc Val</th>\n",
       "      <th>Mo Sold</th>\n",
       "      <th>Yr Sold</th>\n",
       "      <th>Sale Type</th>\n",
       "      <th>SalePrice</th>\n",
       "    </tr>\n",
       "  </thead>\n",
       "  <tbody>\n",
       "  </tbody>\n",
       "</table>\n",
       "<p>0 rows × 75 columns</p>\n",
       "</div>"
      ],
      "text/plain": [
       "Empty DataFrame\n",
       "Columns: [Id, MS SubClass, MS Zoning, Lot Frontage, Lot Area, Street, Lot Shape, Land Contour, Utilities, Lot Config, Land Slope, Neighborhood, Condition 1, Condition 2, Bldg Type, House Style, Overall Qual, Overall Cond, Year Built, Year Remod/Add, Roof Style, Roof Matl, Exterior 1st, Exterior 2nd, Mas Vnr Type, Mas Vnr Area, Exter Qual, Exter Cond, Foundation, Bsmt Qual, Bsmt Cond, Bsmt Exposure, BsmtFin Type 1, BsmtFin SF 1, BsmtFin Type 2, BsmtFin SF 2, Bsmt Unf SF, Total Bsmt SF, Heating, Heating QC, Central Air, Electrical, 1st Flr SF, 2nd Flr SF, Low Qual Fin SF, Gr Liv Area, Bsmt Full Bath, Bsmt Half Bath, Full Bath, Half Bath, Bedroom AbvGr, Kitchen AbvGr, Kitchen Qual, TotRms AbvGrd, Functional, Fireplaces, Garage Type, Garage Yr Blt, Garage Finish, Garage Cars, Garage Area, Garage Qual, Garage Cond, Paved Drive, Wood Deck SF, Open Porch SF, Enclosed Porch, 3Ssn Porch, Screen Porch, Pool Area, Misc Val, Mo Sold, Yr Sold, Sale Type, SalePrice]\n",
       "Index: []\n",
       "\n",
       "[0 rows x 75 columns]"
      ]
     },
     "execution_count": 36,
     "metadata": {},
     "output_type": "execute_result"
    }
   ],
   "source": [
    "df_train.loc[df_train.duplicated(), :]\n"
   ]
  },
  {
   "cell_type": "markdown",
   "metadata": {},
   "source": [
    "Oddly enough there were no duplicates so can move onto the next step and check for outliers in the following notebook 'EDA-Outlier-Exploration.csv' for the purposes of model exploration there may be several different approaches of how to handle the outliers and each scenario will be exported as a csv to input into the model notebook in the future.  "
   ]
  },
  {
   "cell_type": "markdown",
   "metadata": {},
   "source": [
    "---\n",
    "### Last Minute Formatting "
   ]
  },
  {
   "cell_type": "code",
   "execution_count": 45,
   "metadata": {},
   "outputs": [
    {
     "name": "stdout",
     "output_type": "stream",
     "text": [
      "Index(['id', 'ms_subclass'], dtype='object')\n",
      "Index(['id', 'pid'], dtype='object')\n"
     ]
    }
   ],
   "source": [
    "# replacing spaces with '_' and converting columns to lowercase\n",
    "df_train.columns = df_train.columns.str.strip().str.lower()\n",
    "df_train.columns = df_train.columns.str.replace(' ','_')\n",
    "print(df_train.columns[:2])\n",
    "\n",
    "# will do the same for the test.csv for the future\n",
    "df_test.columns = df_test.columns.str.strip().str.lower()\n",
    "df_test.columns = df_test.columns.str.replace(' ','_')\n",
    "print(df_test.columns[:2])\n"
   ]
  },
  {
   "cell_type": "markdown",
   "metadata": {},
   "source": [
    "---\n",
    "# Exporting clean dataframe (scrubbed_df_train.csv)\n",
    "Exporting Clean dataframe (df_train) to datasets folder.  "
   ]
  },
  {
   "cell_type": "code",
   "execution_count": 48,
   "metadata": {},
   "outputs": [],
   "source": [
    "df_train.to_csv('./datasets/scrubbed_df_train.csv',index=False)\n",
    "df_test.to_csv('./datasets/test.csv',index=False)"
   ]
  }
 ],
 "metadata": {
  "kernelspec": {
   "display_name": "Python 3",
   "language": "python",
   "name": "python3"
  },
  "language_info": {
   "codemirror_mode": {
    "name": "ipython",
    "version": 3
   },
   "file_extension": ".py",
   "mimetype": "text/x-python",
   "name": "python",
   "nbconvert_exporter": "python",
   "pygments_lexer": "ipython3",
   "version": "3.8.8"
  }
 },
 "nbformat": 4,
 "nbformat_minor": 4
}
