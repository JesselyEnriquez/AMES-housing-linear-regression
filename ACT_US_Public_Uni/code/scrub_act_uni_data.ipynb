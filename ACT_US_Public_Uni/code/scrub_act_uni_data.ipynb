{
 "cells": [
  {
   "cell_type": "markdown",
   "metadata": {},
   "source": [
    "--- \n",
    "# ACT in US Public Universities\n",
    "---"
   ]
  },
  {
   "cell_type": "markdown",
   "metadata": {},
   "source": [
    "## Problem Statement"
   ]
  },
  {
   "cell_type": "markdown",
   "metadata": {},
   "source": [
    "A national college preparatory program wanted to investigate if public schools are generally accepting the students with average ACT scores. Since the program has no budget for the project they are asking to see if this is a line of questioning worthy of pursuing. \n",
    "<br>\n",
    "<br>\n",
    "So the analysis performed will pursue work towards identifying if there is some enough of a relationship to pursue this further. \n",
    "<br>\n",
    "<br>\n",
    "This is to inform students that plan to apply in their own state If they should expect their scores to be advantages for public schools.  Being in-state students should already give them a leg up on out-of-state applicants.\n",
    "I will select which states are most participative and their respective public universities to explore this potential connection. "
   ]
  },
  {
   "cell_type": "markdown",
   "metadata": {},
   "source": [
    "\n",
    "---\n",
    "## Background\n",
    "In the United States highs schoolers typically take a standardized tests, SAT or ACT, to determine if they are college ready. It is typically required by universities and colleges to determine admission. There are many debates as to the credibility of these tests and their measure of \"readiness\" from grade point average to extra curriculars. In this notebook it is important to note that the maximum ACT score is 36. Additionally that note note different area of the US have different preferences. \n",
    "\n",
    "## Outside Research\n",
    "Important Note because I was only looking at data avaliable for 2017 to 2019 I wanted to potentiallly gather the average composite scores for the years 2020-2022 I summarized the results of my search in the table below with the location linked. \n",
    "\n",
    "\n",
    "<br>\n",
    "Table of Average ACT Scores from 2017 to 2021\n",
    "\n",
    "|Year|*Source*|Average ACT Composite Score|\n",
    "|---|---|---|\n",
    "|2017|*ACT.Org [Source](https://www.act.org/content/dam/act/unsecured/documents/cccr2017/ACT_2017-Average_Scores_by_State.pdf)*|21.0|unk|\n",
    "|2018|*ACT.Org [Source](https://www.act.org/content/dam/act/unsecured/documents/cccr2018/Average-Scores-by-State.pdf)*|20.8|unk|\n",
    "|2019|*ACT.Org [Source](https://www.act.org/content/dam/act/secured/documents/cccr-2019/Average-Scores-by-State.pdf)*|20.7|unk|\n",
    "|2020|*ACT.Org [Source](https://www.act.org/content/dam/act/unsecured/documents/2020/2020-Average-ACT-Scores-by-State.pdf)*|20.6|unk|\n",
    "|2021|*ACT.Org [Source](https://www.act.org/content/dam/act/unsecured/documents/2021/2021-Average-ACT-Scores-by-State.pdf)*|20.7|unk|\n",
    "\n",
    "\n",
    "<br>\n",
    "\n",
    "Table of Test Policies at States of Interest\n",
    "\n",
    "|State|*Source*|Required Test Type|\n",
    "|---|---|---|\n",
    "|Rhode Island|State Website [Source](http://www.ride.ri.gov/InstructionAssessment/Assessment/PSATandSAT.aspx#39491532-exemptions-from-testing)|SAT|\n",
    "|New Hampshire|Governement Website [Source](https://www.education.nh.gov/sites/g/files/ehbemt326/files/inline-documents/nh_sat_school_day_faqs.pdf)|SAT|\n",
    "|Michigan|Governement Website [Source](https://www.michigan.gov/documents/mde/Guide_to_State_Assessments_622260_7.pdf)|SAT|\n",
    "|Delaware|Governement Website [Source](https://www.doe.k12.de.us/Page/2717)|SAT|\n",
    "|Alabama|Governement Website [Source](https://www.alsde.edu/sec/sa/Pages/assessmentdetails.aspx?AssessmentName=ACT%20with%20Writing&navtext=ACT%20with%20Writing)|ACT|\n",
    "|Kentucky|Governement Website [Source](https://education.ky.gov/AA/Assessments/Pages/ACT.aspx)|ACT|\n",
    "|Louisiana|Governement Website [Source](https://www.louisianabelieves.com/measuringresults/assessments-for-high-schools)|ACT|\n",
    "|Mississippi|Governement Website [Source](https://mdek12.org/OSA/ACT)|ACT|\n",
    "|Montana|Governement Website [Source](http://opi.mt.gov/Leadership/Assessment-Accountability/MontCAS/Required-Assessments/ACT-With-Writing-FAQ)|ACT|\n",
    "|Nevada|Governement Website [Source](http://www.doe.nv.gov/Assessments/College_Career_Readiness_Assessments_ACT/)|ACT|\n",
    "|North Carolina|Governement Website [Source](https://www.dpi.nc.gov/districts-schools/federal-program-monitoring/every-student-succeeds-act-essa)|ACT|\n",
    "|Utah|Governement Website [Source](https://www.schools.utah.gov/assessment/assessments)|ACT|\n",
    "|Wisconsin|Governement Website [Source](https://dpi.wi.gov/assessment/act)|ACT|\n",
    "\n",
    "\n",
    "\n",
    "### Data Dictionary\n",
    "\n",
    "The following is a summary of the features within various data sets that will be analyzed throughout this notebook. \n",
    "\n",
    "|Feature|Type|Dataset|Description|\n",
    "|---|---|---|---|\n",
    "|state|*object*|act_17_to_19|This is the state within the US.| \n",
    "|participation_17|*float*|act_17_to_19|This is the size of the high school population being tested in 2017.| \n",
    "|composite_17|*float*|act_17_to_19|This is the average composite score for for high school 2017.| \n",
    "|participation_18|*float*|act_17_to_19|This is the size of the high school population being tested in 2018.| \n",
    "|composite_18|float|*act_17_to_19*|This is the average composite score for 2018.| \n",
    "|participation_19|*float*|act_17_to_19|This is the size of the high school population being tested in 2019.| \n",
    "|composite_19|*float*|act_17_to_19|This is the average composite score for 2019.| \n",
    "|num_of_applicants|*int*|pub_act_prcntile_by_st_score|The number of university applicants that for each public state university.|\n",
    "|acceptance_rate|*float*|pub_act_prcntile_by_st_score|The percentage of students accepted based on the number of applicants| \n",
    "|tot_percentile25|*int*|pub_act_prcntile_by_st_score|The total 25% percentile, 25% of accepted students at public universities scored at or below on the listed composite score | \n",
    "|tot_percentile75|*int*|pub_act_prcntile_by_st_score|The total 75% percentile, 75% of accepted students at public universities scored at or below on the listed composite score | \n",
    "|pub_school_state|*object*|pub_act_prcntile_by_st_score|This is the state of each 4 year public university(duplicates within this column mean that multiple public school information avaliable for that school).| \n"
   ]
  },
  {
   "cell_type": "markdown",
   "metadata": {},
   "source": [
    "---\n",
    "# Data Cleaning\n",
    "---"
   ]
  },
  {
   "cell_type": "markdown",
   "metadata": {},
   "source": [
    "### Helper Functions"
   ]
  },
  {
   "cell_type": "code",
   "execution_count": 1,
   "metadata": {},
   "outputs": [],
   "source": [
    "# basic functions that may be necessary to use later on in the notebook\n",
    "\n",
    "# manual_mean() will be used to manually calculate the mean of a values\n",
    "def manual_mean(num_list):\n",
    "    '''The manual_mean function will be used to manually calculate the mean of a values of a list. manual_mean(list)'''\n",
    "    return sum(num_list)/len(num_list)\n",
    "\n",
    "# manual_sd() will be used to manually calculate the standard deviation of a numerical list\n",
    "def manual_sd(num_list):\n",
    "   \n",
    "  n = len(num_list)\n",
    "   \n",
    "  mean = manual_mean(num_list)\n",
    "   \n",
    "  deviations = [(x - mean) ** 2 for x in num_list]\n",
    "    \n",
    "  variance = sum(deviations) / n\n",
    "  return round(variance**0.5,2)"
   ]
  },
  {
   "cell_type": "markdown",
   "metadata": {},
   "source": [
    "3. Data cleaning function:\n",
    "    \n",
    "    Write a function that takes in a string that is a number and a percent symbol (ex. '50%', '30.5%', etc.) and converts this to a float that is the decimal approximation of the percent. For example, inputting '50%' in your function should return 0.5, '30.5%' should return 0.305, etc. Make sure to test your function to make sure it works!\n",
    "\n",
    "You will use these functions later on in the project!"
   ]
  },
  {
   "cell_type": "code",
   "execution_count": 2,
   "metadata": {},
   "outputs": [],
   "source": [
    "#  prcnt_to_float function takes a string removes the '%' returns a float\n",
    "def prcnt_to_float(string):\n",
    "    n_str=''\n",
    "    for char in string:\n",
    "        if char != '%':\n",
    "            n_str+=char\n",
    "        elif char =='%':\n",
    "            pass\n",
    "    return round(float(n_str)/100,3)"
   ]
  },
  {
   "cell_type": "code",
   "execution_count": 3,
   "metadata": {},
   "outputs": [],
   "source": [
    "# This function will return the input(string) as an int\n",
    "def to_int(string):\n",
    "    n_string = []\n",
    "    if len(string) !=2:\n",
    "        char_list = [char for char in string]\n",
    "        char_list = char_list[0] +  char_list[1]\n",
    "        return int(char_list)\n",
    "    else:\n",
    "        char_list = string\n",
    "        return int(char_list)"
   ]
  },
  {
   "cell_type": "code",
   "execution_count": 4,
   "metadata": {},
   "outputs": [],
   "source": [
    "# This function will take in a string with '&' and replace with 'and'\n",
    "def and_to_and(string):\n",
    "    n_str=''\n",
    "    for char in string:\n",
    "        if char != '&':\n",
    "            n_str+=char\n",
    "        elif char =='&':\n",
    "            n_str += ' and '\n",
    "    return n_str"
   ]
  },
  {
   "cell_type": "markdown",
   "metadata": {},
   "source": [
    "--- \n",
    "## Imports \n",
    "---"
   ]
  },
  {
   "cell_type": "markdown",
   "metadata": {},
   "source": [
    "*All libraries used should be added here*"
   ]
  },
  {
   "cell_type": "code",
   "execution_count": 5,
   "metadata": {},
   "outputs": [],
   "source": [
    "# Imports:\n",
    "import pandas as pd\n",
    "import matplotlib.pyplot as plt\n",
    "import numpy as np\n",
    "from scipy import stats\n",
    "import seaborn as sns\n",
    "%matplotlib inline"
   ]
  },
  {
   "cell_type": "markdown",
   "metadata": {},
   "source": [
    "## Datasets\n",
    "\n",
    "* [`act_2017.csv`](./data/act_2017.csv): These are the ACT Scores by State for 2017\n",
    "* [`act_2018.csv`](./data/act_2018.csv): These are the ACT Scores by State for 2018\n",
    "* [`act_2019.csv`](./data/act_2019.csv): These are the ACT Scores by State for 2019"
   ]
  },
  {
   "cell_type": "code",
   "execution_count": 6,
   "metadata": {},
   "outputs": [],
   "source": [
    "# This code block will go through basic steps through my importing and cleaning process\n",
    "\n",
    "# Importing relevant data sets\n",
    "act_df_17=pd.read_csv('../data/act_2017.csv')\n",
    "act_df_18=pd.read_csv('../data/act_2018.csv')\n",
    "act_df_19=pd.read_csv('../data/act_2019.csv')\n",
    "act_df_by_college=pd.read_csv('../data/sat_act_by_college.csv')\n"
   ]
  },
  {
   "cell_type": "code",
   "execution_count": 7,
   "metadata": {},
   "outputs": [
    {
     "data": {
      "text/html": [
       "<div>\n",
       "<style scoped>\n",
       "    .dataframe tbody tr th:only-of-type {\n",
       "        vertical-align: middle;\n",
       "    }\n",
       "\n",
       "    .dataframe tbody tr th {\n",
       "        vertical-align: top;\n",
       "    }\n",
       "\n",
       "    .dataframe thead th {\n",
       "        text-align: right;\n",
       "    }\n",
       "</style>\n",
       "<table border=\"1\" class=\"dataframe\">\n",
       "  <thead>\n",
       "    <tr style=\"text-align: right;\">\n",
       "      <th></th>\n",
       "      <th>State</th>\n",
       "      <th>Participation</th>\n",
       "      <th>English</th>\n",
       "      <th>Math</th>\n",
       "      <th>Reading</th>\n",
       "      <th>Science</th>\n",
       "      <th>Composite</th>\n",
       "    </tr>\n",
       "  </thead>\n",
       "  <tbody>\n",
       "    <tr>\n",
       "      <th>50</th>\n",
       "      <td>Wisconsin</td>\n",
       "      <td>100%</td>\n",
       "      <td>19.7</td>\n",
       "      <td>20.4</td>\n",
       "      <td>20.6</td>\n",
       "      <td>20.9</td>\n",
       "      <td>20.5</td>\n",
       "    </tr>\n",
       "    <tr>\n",
       "      <th>51</th>\n",
       "      <td>Wyoming</td>\n",
       "      <td>100%</td>\n",
       "      <td>19.4</td>\n",
       "      <td>19.8</td>\n",
       "      <td>20.8</td>\n",
       "      <td>20.6</td>\n",
       "      <td>20.2x</td>\n",
       "    </tr>\n",
       "  </tbody>\n",
       "</table>\n",
       "</div>"
      ],
      "text/plain": [
       "        State Participation  English  Math  Reading  Science Composite\n",
       "50  Wisconsin          100%     19.7  20.4     20.6     20.9      20.5\n",
       "51    Wyoming          100%     19.4  19.8     20.8     20.6     20.2x"
      ]
     },
     "execution_count": 7,
     "metadata": {},
     "output_type": "execute_result"
    }
   ],
   "source": [
    "# the following code blocks I will be looking at the top rows, look at the data types fixing if needed, check for missing values, check that min/max make sense in ACT context, renme columns if necessary, drop unnecessary columns,\n",
    "#     merge columns that may need to be combined...etc... exporting all changes as a csv file! \n",
    "\n",
    "act_df_17.head(5)\n",
    "act_df_17.tail(2)\n"
   ]
  },
  {
   "cell_type": "code",
   "execution_count": 8,
   "metadata": {},
   "outputs": [
    {
     "data": {
      "text/plain": [
       "Index(['state', 'participation', 'english', 'math', 'reading', 'science',\n",
       "       'composite'],\n",
       "      dtype='object')"
      ]
     },
     "execution_count": 8,
     "metadata": {},
     "output_type": "execute_result"
    }
   ],
   "source": [
    "# first needs to adjust column names: remove white spaces and convert to lower case\n",
    "act_df_17.columns= act_df_17.columns.str.strip().str.lower()\n",
    "act_df_17.columns"
   ]
  },
  {
   "cell_type": "code",
   "execution_count": 9,
   "metadata": {},
   "outputs": [
    {
     "name": "stdout",
     "output_type": "stream",
     "text": [
      "<class 'pandas.core.frame.DataFrame'>\n",
      "RangeIndex: 52 entries, 0 to 51\n",
      "Data columns (total 7 columns):\n",
      " #   Column         Non-Null Count  Dtype  \n",
      "---  ------         --------------  -----  \n",
      " 0   state          52 non-null     object \n",
      " 1   participation  52 non-null     object \n",
      " 2   english        52 non-null     float64\n",
      " 3   math           52 non-null     float64\n",
      " 4   reading        52 non-null     float64\n",
      " 5   science        52 non-null     float64\n",
      " 6   composite      52 non-null     object \n",
      "dtypes: float64(4), object(3)\n",
      "memory usage: 3.0+ KB\n"
     ]
    }
   ],
   "source": [
    "act_df_17.info() # Note: here that the composite was passed in as a string when it should have been an integer and percentage is an object because of '%' symbol. It is noticeable that there are no missing values which is great\n",
    "                    # but to error on the side of caution I will begin checking unique values to ensure they are expected. "
   ]
  },
  {
   "cell_type": "code",
   "execution_count": 10,
   "metadata": {},
   "outputs": [
    {
     "name": "stdout",
     "output_type": "stream",
     "text": [
      "38\n",
      "['21.0' '19.2' '19.8' '19.7' '19.4' '22.8' '20.8' '25.2' '24.1' '24.2'\n",
      " '21.4' '19.0' '22.3' '22.6' '21.9' '21.7' '20.0' '19.5' '24.3' '23.6'\n",
      " '25.4' '21.5' '18.6' '20.4' '20.3' '17.8' '25.5' '23.9' '19.1' '22.0'\n",
      " '21.8' '23.7' '24.0' '18.7' '20.7' '23.8' '20.5' '20.2x']\n"
     ]
    }
   ],
   "source": [
    "\n",
    "#Quick check to see why the composite is not considered a float ### Note: We can see that there is a value with an x\n",
    "print(len(act_df_17['composite'].unique()))\n",
    "print(act_df_17['composite'].unique())\n",
    "act_df_17['composite'].value_counts(); # suppressed the output but when check saw '20x' only occured once so safe to remove that row in my opinion\n"
   ]
  },
  {
   "cell_type": "code",
   "execution_count": 11,
   "metadata": {},
   "outputs": [
    {
     "data": {
      "text/html": [
       "<div>\n",
       "<style scoped>\n",
       "    .dataframe tbody tr th:only-of-type {\n",
       "        vertical-align: middle;\n",
       "    }\n",
       "\n",
       "    .dataframe tbody tr th {\n",
       "        vertical-align: top;\n",
       "    }\n",
       "\n",
       "    .dataframe thead th {\n",
       "        text-align: right;\n",
       "    }\n",
       "</style>\n",
       "<table border=\"1\" class=\"dataframe\">\n",
       "  <thead>\n",
       "    <tr style=\"text-align: right;\">\n",
       "      <th></th>\n",
       "      <th>state</th>\n",
       "      <th>participation</th>\n",
       "      <th>english</th>\n",
       "      <th>math</th>\n",
       "      <th>reading</th>\n",
       "      <th>science</th>\n",
       "      <th>composite</th>\n",
       "    </tr>\n",
       "  </thead>\n",
       "  <tbody>\n",
       "    <tr>\n",
       "      <th>0</th>\n",
       "      <td>National</td>\n",
       "      <td>0.60</td>\n",
       "      <td>20.3</td>\n",
       "      <td>20.7</td>\n",
       "      <td>21.4</td>\n",
       "      <td>21.0</td>\n",
       "      <td>21.0</td>\n",
       "    </tr>\n",
       "    <tr>\n",
       "      <th>1</th>\n",
       "      <td>Alabama</td>\n",
       "      <td>1.00</td>\n",
       "      <td>18.9</td>\n",
       "      <td>18.4</td>\n",
       "      <td>19.7</td>\n",
       "      <td>19.4</td>\n",
       "      <td>19.2</td>\n",
       "    </tr>\n",
       "    <tr>\n",
       "      <th>2</th>\n",
       "      <td>Alaska</td>\n",
       "      <td>0.65</td>\n",
       "      <td>18.7</td>\n",
       "      <td>19.8</td>\n",
       "      <td>20.4</td>\n",
       "      <td>19.9</td>\n",
       "      <td>19.8</td>\n",
       "    </tr>\n",
       "    <tr>\n",
       "      <th>3</th>\n",
       "      <td>Arizona</td>\n",
       "      <td>0.62</td>\n",
       "      <td>18.6</td>\n",
       "      <td>19.8</td>\n",
       "      <td>20.1</td>\n",
       "      <td>19.8</td>\n",
       "      <td>19.7</td>\n",
       "    </tr>\n",
       "    <tr>\n",
       "      <th>4</th>\n",
       "      <td>Arkansas</td>\n",
       "      <td>1.00</td>\n",
       "      <td>18.9</td>\n",
       "      <td>19.0</td>\n",
       "      <td>19.7</td>\n",
       "      <td>19.5</td>\n",
       "      <td>19.4</td>\n",
       "    </tr>\n",
       "  </tbody>\n",
       "</table>\n",
       "</div>"
      ],
      "text/plain": [
       "      state  participation  english  math  reading  science composite\n",
       "0  National           0.60     20.3  20.7     21.4     21.0      21.0\n",
       "1   Alabama           1.00     18.9  18.4     19.7     19.4      19.2\n",
       "2    Alaska           0.65     18.7  19.8     20.4     19.9      19.8\n",
       "3   Arizona           0.62     18.6  19.8     20.1     19.8      19.7\n",
       "4  Arkansas           1.00     18.9  19.0     19.7     19.5      19.4"
      ]
     },
     "execution_count": 11,
     "metadata": {},
     "output_type": "execute_result"
    }
   ],
   "source": [
    "# make percentage string into float decimal\n",
    "act_df_17['participation'] = act_df_17['participation'].apply(prcnt_to_float)\n",
    "act_df_17.head(5)\n"
   ]
  },
  {
   "cell_type": "code",
   "execution_count": 12,
   "metadata": {},
   "outputs": [
    {
     "data": {
      "text/html": [
       "<div>\n",
       "<style scoped>\n",
       "    .dataframe tbody tr th:only-of-type {\n",
       "        vertical-align: middle;\n",
       "    }\n",
       "\n",
       "    .dataframe tbody tr th {\n",
       "        vertical-align: top;\n",
       "    }\n",
       "\n",
       "    .dataframe thead th {\n",
       "        text-align: right;\n",
       "    }\n",
       "</style>\n",
       "<table border=\"1\" class=\"dataframe\">\n",
       "  <thead>\n",
       "    <tr style=\"text-align: right;\">\n",
       "      <th></th>\n",
       "      <th>state</th>\n",
       "      <th>participation</th>\n",
       "      <th>english</th>\n",
       "      <th>math</th>\n",
       "      <th>reading</th>\n",
       "      <th>science</th>\n",
       "      <th>composite</th>\n",
       "    </tr>\n",
       "  </thead>\n",
       "  <tbody>\n",
       "    <tr>\n",
       "      <th>51</th>\n",
       "      <td>Wyoming</td>\n",
       "      <td>1.0</td>\n",
       "      <td>19.4</td>\n",
       "      <td>19.8</td>\n",
       "      <td>20.8</td>\n",
       "      <td>20.6</td>\n",
       "      <td>20.2x</td>\n",
       "    </tr>\n",
       "  </tbody>\n",
       "</table>\n",
       "</div>"
      ],
      "text/plain": [
       "      state  participation  english  math  reading  science composite\n",
       "51  Wyoming            1.0     19.4  19.8     20.8     20.6     20.2x"
      ]
     },
     "execution_count": 12,
     "metadata": {},
     "output_type": "execute_result"
    }
   ],
   "source": [
    "# To locate the index value so to then pass onto drop function\n",
    "act_df_17.loc[act_df_17['composite'] == '20.2x'] "
   ]
  },
  {
   "cell_type": "code",
   "execution_count": 13,
   "metadata": {},
   "outputs": [
    {
     "data": {
      "text/html": [
       "<div>\n",
       "<style scoped>\n",
       "    .dataframe tbody tr th:only-of-type {\n",
       "        vertical-align: middle;\n",
       "    }\n",
       "\n",
       "    .dataframe tbody tr th {\n",
       "        vertical-align: top;\n",
       "    }\n",
       "\n",
       "    .dataframe thead th {\n",
       "        text-align: right;\n",
       "    }\n",
       "</style>\n",
       "<table border=\"1\" class=\"dataframe\">\n",
       "  <thead>\n",
       "    <tr style=\"text-align: right;\">\n",
       "      <th></th>\n",
       "      <th>state</th>\n",
       "      <th>participation</th>\n",
       "      <th>english</th>\n",
       "      <th>math</th>\n",
       "      <th>reading</th>\n",
       "      <th>science</th>\n",
       "      <th>composite</th>\n",
       "    </tr>\n",
       "  </thead>\n",
       "  <tbody>\n",
       "    <tr>\n",
       "      <th>49</th>\n",
       "      <td>West Virginia</td>\n",
       "      <td>0.69</td>\n",
       "      <td>20.0</td>\n",
       "      <td>19.4</td>\n",
       "      <td>21.2</td>\n",
       "      <td>20.5</td>\n",
       "      <td>20.4</td>\n",
       "    </tr>\n",
       "    <tr>\n",
       "      <th>50</th>\n",
       "      <td>Wisconsin</td>\n",
       "      <td>1.00</td>\n",
       "      <td>19.7</td>\n",
       "      <td>20.4</td>\n",
       "      <td>20.6</td>\n",
       "      <td>20.9</td>\n",
       "      <td>20.5</td>\n",
       "    </tr>\n",
       "  </tbody>\n",
       "</table>\n",
       "</div>"
      ],
      "text/plain": [
       "            state  participation  english  math  reading  science composite\n",
       "49  West Virginia           0.69     20.0  19.4     21.2     20.5      20.4\n",
       "50      Wisconsin           1.00     19.7  20.4     20.6     20.9      20.5"
      ]
     },
     "execution_count": 13,
     "metadata": {},
     "output_type": "execute_result"
    }
   ],
   "source": [
    "act_df_17.drop(51,inplace = True) # Wyoming dropped from the list \n",
    "act_df_17.tail(2) \n"
   ]
  },
  {
   "cell_type": "code",
   "execution_count": 14,
   "metadata": {},
   "outputs": [
    {
     "data": {
      "text/plain": [
       "state             object\n",
       "participation    float64\n",
       "english          float64\n",
       "math             float64\n",
       "reading          float64\n",
       "science          float64\n",
       "composite        float64\n",
       "dtype: object"
      ]
     },
     "execution_count": 14,
     "metadata": {},
     "output_type": "execute_result"
    }
   ],
   "source": [
    "# Convert multiple columns data types (composite and participateion percentage) #df = df.astype({'composite':'float','participation':'float'})\n",
    "\n",
    "act_df_17 = act_df_17.astype({'composite':'float'})\n",
    "\n",
    "act_df_17.dtypes #now all are in correct data types! so we can then run a describe and get all relevant data! "
   ]
  },
  {
   "cell_type": "code",
   "execution_count": 15,
   "metadata": {},
   "outputs": [
    {
     "data": {
      "text/html": [
       "<div>\n",
       "<style scoped>\n",
       "    .dataframe tbody tr th:only-of-type {\n",
       "        vertical-align: middle;\n",
       "    }\n",
       "\n",
       "    .dataframe tbody tr th {\n",
       "        vertical-align: top;\n",
       "    }\n",
       "\n",
       "    .dataframe thead th {\n",
       "        text-align: right;\n",
       "    }\n",
       "</style>\n",
       "<table border=\"1\" class=\"dataframe\">\n",
       "  <thead>\n",
       "    <tr style=\"text-align: right;\">\n",
       "      <th></th>\n",
       "      <th>participation</th>\n",
       "      <th>english</th>\n",
       "      <th>math</th>\n",
       "      <th>reading</th>\n",
       "      <th>science</th>\n",
       "      <th>composite</th>\n",
       "    </tr>\n",
       "  </thead>\n",
       "  <tbody>\n",
       "    <tr>\n",
       "      <th>count</th>\n",
       "      <td>50.000000</td>\n",
       "      <td>50.000000</td>\n",
       "      <td>50.000000</td>\n",
       "      <td>50.000000</td>\n",
       "      <td>50.000000</td>\n",
       "      <td>50.000000</td>\n",
       "    </tr>\n",
       "    <tr>\n",
       "      <th>mean</th>\n",
       "      <td>0.645600</td>\n",
       "      <td>20.962000</td>\n",
       "      <td>21.210000</td>\n",
       "      <td>22.038000</td>\n",
       "      <td>21.050000</td>\n",
       "      <td>21.546000</td>\n",
       "    </tr>\n",
       "    <tr>\n",
       "      <th>std</th>\n",
       "      <td>0.320778</td>\n",
       "      <td>2.367285</td>\n",
       "      <td>1.992153</td>\n",
       "      <td>2.080903</td>\n",
       "      <td>3.214143</td>\n",
       "      <td>2.032311</td>\n",
       "    </tr>\n",
       "    <tr>\n",
       "      <th>min</th>\n",
       "      <td>0.080000</td>\n",
       "      <td>16.300000</td>\n",
       "      <td>18.000000</td>\n",
       "      <td>18.100000</td>\n",
       "      <td>2.300000</td>\n",
       "      <td>17.800000</td>\n",
       "    </tr>\n",
       "    <tr>\n",
       "      <th>25%</th>\n",
       "      <td>0.310000</td>\n",
       "      <td>19.000000</td>\n",
       "      <td>19.400000</td>\n",
       "      <td>20.425000</td>\n",
       "      <td>19.900000</td>\n",
       "      <td>19.800000</td>\n",
       "    </tr>\n",
       "    <tr>\n",
       "      <th>50%</th>\n",
       "      <td>0.680000</td>\n",
       "      <td>20.800000</td>\n",
       "      <td>21.050000</td>\n",
       "      <td>21.850000</td>\n",
       "      <td>21.300000</td>\n",
       "      <td>21.400000</td>\n",
       "    </tr>\n",
       "    <tr>\n",
       "      <th>75%</th>\n",
       "      <td>1.000000</td>\n",
       "      <td>23.300000</td>\n",
       "      <td>23.100000</td>\n",
       "      <td>24.175000</td>\n",
       "      <td>22.975000</td>\n",
       "      <td>23.600000</td>\n",
       "    </tr>\n",
       "    <tr>\n",
       "      <th>max</th>\n",
       "      <td>1.000000</td>\n",
       "      <td>25.500000</td>\n",
       "      <td>25.300000</td>\n",
       "      <td>26.000000</td>\n",
       "      <td>24.900000</td>\n",
       "      <td>25.500000</td>\n",
       "    </tr>\n",
       "  </tbody>\n",
       "</table>\n",
       "</div>"
      ],
      "text/plain": [
       "       participation    english       math    reading    science  composite\n",
       "count      50.000000  50.000000  50.000000  50.000000  50.000000  50.000000\n",
       "mean        0.645600  20.962000  21.210000  22.038000  21.050000  21.546000\n",
       "std         0.320778   2.367285   1.992153   2.080903   3.214143   2.032311\n",
       "min         0.080000  16.300000  18.000000  18.100000   2.300000  17.800000\n",
       "25%         0.310000  19.000000  19.400000  20.425000  19.900000  19.800000\n",
       "50%         0.680000  20.800000  21.050000  21.850000  21.300000  21.400000\n",
       "75%         1.000000  23.300000  23.100000  24.175000  22.975000  23.600000\n",
       "max         1.000000  25.500000  25.300000  26.000000  24.900000  25.500000"
      ]
     },
     "execution_count": 15,
     "metadata": {},
     "output_type": "execute_result"
    }
   ],
   "source": [
    "act_df_17[1:].describe() # Note: No need to include the national values in the summary stats (that row can be used as a reference for the mean displayed here) "
   ]
  },
  {
   "cell_type": "code",
   "execution_count": 16,
   "metadata": {},
   "outputs": [],
   "source": [
    "# the columns of interest for this analysis are 'state', 'participation', and 'composite' \n",
    "\n",
    "# the following code will drop all other irrelevant columns\n",
    "\n",
    "act_df_17.drop(labels=['english','math','reading','science'], axis=1,inplace = True)"
   ]
  },
  {
   "cell_type": "code",
   "execution_count": 17,
   "metadata": {},
   "outputs": [
    {
     "name": "stdout",
     "output_type": "stream",
     "text": [
      "      state  participation  composite\n",
      "0  National           0.60       21.0\n",
      "1   Alabama           1.00       19.2\n",
      "2    Alaska           0.65       19.8\n"
     ]
    },
    {
     "data": {
      "text/plain": [
       "state            0\n",
       "participation    0\n",
       "composite        0\n",
       "dtype: int64"
      ]
     },
     "execution_count": 17,
     "metadata": {},
     "output_type": "execute_result"
    }
   ],
   "source": [
    "print(act_df_17.head(3))\n",
    "act_df_17.isnull().sum()"
   ]
  },
  {
   "cell_type": "markdown",
   "metadata": {},
   "source": [
    "Note: The ACT dataset for 2017 is now in the ideal set up to work with in the analysis with no empty values! "
   ]
  },
  {
   "cell_type": "code",
   "execution_count": 18,
   "metadata": {},
   "outputs": [
    {
     "data": {
      "text/plain": [
       "State             object\n",
       "Participation     object\n",
       "Composite        float64\n",
       "dtype: object"
      ]
     },
     "execution_count": 18,
     "metadata": {},
     "output_type": "execute_result"
    }
   ],
   "source": [
    "act_df_18.dtypes #we can see that the participation rate is a object because of the '%' sign"
   ]
  },
  {
   "cell_type": "code",
   "execution_count": 19,
   "metadata": {},
   "outputs": [
    {
     "data": {
      "text/html": [
       "<div>\n",
       "<style scoped>\n",
       "    .dataframe tbody tr th:only-of-type {\n",
       "        vertical-align: middle;\n",
       "    }\n",
       "\n",
       "    .dataframe tbody tr th {\n",
       "        vertical-align: top;\n",
       "    }\n",
       "\n",
       "    .dataframe thead th {\n",
       "        text-align: right;\n",
       "    }\n",
       "</style>\n",
       "<table border=\"1\" class=\"dataframe\">\n",
       "  <thead>\n",
       "    <tr style=\"text-align: right;\">\n",
       "      <th></th>\n",
       "      <th>State</th>\n",
       "      <th>Participation</th>\n",
       "      <th>Composite</th>\n",
       "    </tr>\n",
       "  </thead>\n",
       "  <tbody>\n",
       "    <tr>\n",
       "      <th>0</th>\n",
       "      <td>Alabama</td>\n",
       "      <td>100%</td>\n",
       "      <td>19.1</td>\n",
       "    </tr>\n",
       "    <tr>\n",
       "      <th>1</th>\n",
       "      <td>Alaska</td>\n",
       "      <td>33%</td>\n",
       "      <td>20.8</td>\n",
       "    </tr>\n",
       "    <tr>\n",
       "      <th>2</th>\n",
       "      <td>Arizona</td>\n",
       "      <td>66%</td>\n",
       "      <td>19.2</td>\n",
       "    </tr>\n",
       "    <tr>\n",
       "      <th>3</th>\n",
       "      <td>Arkansas</td>\n",
       "      <td>100%</td>\n",
       "      <td>19.4</td>\n",
       "    </tr>\n",
       "    <tr>\n",
       "      <th>4</th>\n",
       "      <td>California</td>\n",
       "      <td>27%</td>\n",
       "      <td>22.7</td>\n",
       "    </tr>\n",
       "  </tbody>\n",
       "</table>\n",
       "</div>"
      ],
      "text/plain": [
       "        State Participation  Composite\n",
       "0     Alabama          100%       19.1\n",
       "1      Alaska           33%       20.8\n",
       "2     Arizona           66%       19.2\n",
       "3    Arkansas          100%       19.4\n",
       "4  California           27%       22.7"
      ]
     },
     "execution_count": 19,
     "metadata": {},
     "output_type": "execute_result"
    }
   ],
   "source": [
    "act_df_18.head()"
   ]
  },
  {
   "cell_type": "code",
   "execution_count": 20,
   "metadata": {},
   "outputs": [
    {
     "data": {
      "text/plain": [
       "State             object\n",
       "Participation     object\n",
       "Composite        float64\n",
       "dtype: object"
      ]
     },
     "execution_count": 20,
     "metadata": {},
     "output_type": "execute_result"
    }
   ],
   "source": [
    "act_df_18.dtypes #we can see that the participation rate is a object because of the '%' sign"
   ]
  },
  {
   "cell_type": "code",
   "execution_count": 21,
   "metadata": {},
   "outputs": [],
   "source": [
    "## first needs to adjust column names: remove white spaces and convert to lower case\n",
    "act_df_18.columns = act_df_18.columns.str.strip().str.lower()"
   ]
  },
  {
   "cell_type": "code",
   "execution_count": 22,
   "metadata": {},
   "outputs": [
    {
     "data": {
      "text/plain": [
       "0    1.00\n",
       "1    0.33\n",
       "2    0.66\n",
       "3    1.00\n",
       "Name: participation, dtype: float64"
      ]
     },
     "execution_count": 22,
     "metadata": {},
     "output_type": "execute_result"
    }
   ],
   "source": [
    "# will apply my prcnt_to_float function created earlier to 'participation' series\n",
    "act_df_18['participation'] = act_df_18['participation'].apply(prcnt_to_float)\n",
    "act_df_18['participation'].head(4)"
   ]
  },
  {
   "cell_type": "code",
   "execution_count": 23,
   "metadata": {},
   "outputs": [
    {
     "name": "stdout",
     "output_type": "stream",
     "text": [
      "state             object\n",
      "participation    float64\n",
      "composite        float64\n",
      "dtype: object\n"
     ]
    },
    {
     "data": {
      "text/plain": [
       "state            0\n",
       "participation    0\n",
       "composite        0\n",
       "dtype: int64"
      ]
     },
     "execution_count": 23,
     "metadata": {},
     "output_type": "execute_result"
    }
   ],
   "source": [
    "print(act_df_18.dtypes) #checking to ensure dtypes are now only containg one object('state')\n",
    "act_df_18.isnull().sum() #checking to see if there are any empty data cells and counting the amount"
   ]
  },
  {
   "cell_type": "markdown",
   "metadata": {},
   "source": [
    "Note: Since we do not have any empty data points and our data is in the correct format wanted we can then move foward and make sure there are not any outliers that do not make sense within the data set. We will take a peak at the unique values within our two important columns."
   ]
  },
  {
   "cell_type": "code",
   "execution_count": 24,
   "metadata": {},
   "outputs": [
    {
     "data": {
      "text/plain": [
       "array([19.1, 20.8, 19.2, 19.4, 22.7, 23.9, 25.6, 23.8, 23.6, 19.9, 21.4,\n",
       "       18.9, 22.3, 22.5, 21.8, 21.6, 20.2, 24. , 25.5, 24.2, 21.3, 18.6,\n",
       "       20. , 20.1, 17.7, 25.1, 23.7, 24.5, 20.3, 19.3, 23.5, 18.3, 21.9,\n",
       "       19.6, 20.7, 20.4, 24.1, 22.2, 20.5])"
      ]
     },
     "execution_count": 24,
     "metadata": {},
     "output_type": "execute_result"
    }
   ],
   "source": [
    "act_df_18['composite'].unique() #should expect our unique values to be between 1-36"
   ]
  },
  {
   "cell_type": "code",
   "execution_count": 25,
   "metadata": {},
   "outputs": [
    {
     "data": {
      "text/plain": [
       "array([1.  , 0.33, 0.66, 0.27, 0.3 , 0.26, 0.17, 0.32, 0.53, 0.89, 0.36,\n",
       "       0.43, 0.68, 0.71, 0.07, 0.31, 0.25, 0.22, 0.99, 0.16, 0.67, 0.98,\n",
       "       0.42, 0.2 , 0.15, 0.77, 0.45, 0.24, 0.65])"
      ]
     },
     "execution_count": 25,
     "metadata": {},
     "output_type": "execute_result"
    }
   ],
   "source": [
    "act_df_18['participation'].unique() # should expect our unique values to be between 0.0-1.0 (hopefully above 0.0 participation)"
   ]
  },
  {
   "cell_type": "markdown",
   "metadata": {},
   "source": [
    "After a quick run through out ACT data from 2018 we can see that the data seems to be in the ideal format for analysis later in the notebook. No need for anymore adjustments at this stage. "
   ]
  },
  {
   "cell_type": "code",
   "execution_count": 26,
   "metadata": {},
   "outputs": [
    {
     "name": "stdout",
     "output_type": "stream",
     "text": [
      "State             object\n",
      "Participation     object\n",
      "Composite        float64\n",
      "dtype: object\n",
      "State            0\n",
      "Participation    0\n",
      "Composite        0\n",
      "dtype: int64\n",
      "['100%' '38%' '73%' '23%' '27%' '22%' '13%' '32%' '54%' '49%' '80%' '31%'\n",
      " '35%' '29%' '66%' '72%' '6%' '28%' '21%' '19%' '95%' '82%' '14%' '25%'\n",
      " '63%' '96%' '42%' '17%' '12%' '78%' '75%' '39%' '20%' '24%' '52%']\n"
     ]
    },
    {
     "data": {
      "text/plain": [
       "array([18.9, 20.1, 19. , 19.3, 22.6, 23.8, 25.5, 24.1, 23.5, 21.4, 22.5,\n",
       "       24.3, 21.6, 21.2, 19.8, 18.8, 22.3, 24.4, 18.4, 20.8, 20. , 17.9,\n",
       "       25. , 24.2, 24.5, 19.9, 21.1, 23.6, 24.7, 19.4, 20.5, 20.3, 24. ,\n",
       "       22.1, 20.7])"
      ]
     },
     "execution_count": 26,
     "metadata": {},
     "output_type": "execute_result"
    }
   ],
   "source": [
    "# Quick look shows that we only have to adjust the titles, participation object(to float)\n",
    "act_df_19.head(2)\n",
    "print(act_df_19.dtypes)\n",
    "print(act_df_19.isnull().sum())\n",
    "print(act_df_19['Participation'].unique())\n",
    "act_df_19['Composite'].unique()"
   ]
  },
  {
   "cell_type": "code",
   "execution_count": 27,
   "metadata": {},
   "outputs": [
    {
     "name": "stdout",
     "output_type": "stream",
     "text": [
      "     state participation  composite\n",
      "0  Alabama          100%       18.9\n",
      "1   Alaska           38%       20.1\n",
      "2  Arizona           73%       19.0\n"
     ]
    },
    {
     "data": {
      "text/html": [
       "<div>\n",
       "<style scoped>\n",
       "    .dataframe tbody tr th:only-of-type {\n",
       "        vertical-align: middle;\n",
       "    }\n",
       "\n",
       "    .dataframe tbody tr th {\n",
       "        vertical-align: top;\n",
       "    }\n",
       "\n",
       "    .dataframe thead th {\n",
       "        text-align: right;\n",
       "    }\n",
       "</style>\n",
       "<table border=\"1\" class=\"dataframe\">\n",
       "  <thead>\n",
       "    <tr style=\"text-align: right;\">\n",
       "      <th></th>\n",
       "      <th>state</th>\n",
       "      <th>participation</th>\n",
       "      <th>composite</th>\n",
       "    </tr>\n",
       "  </thead>\n",
       "  <tbody>\n",
       "    <tr>\n",
       "      <th>0</th>\n",
       "      <td>Alabama</td>\n",
       "      <td>1.00</td>\n",
       "      <td>18.9</td>\n",
       "    </tr>\n",
       "    <tr>\n",
       "      <th>1</th>\n",
       "      <td>Alaska</td>\n",
       "      <td>0.38</td>\n",
       "      <td>20.1</td>\n",
       "    </tr>\n",
       "  </tbody>\n",
       "</table>\n",
       "</div>"
      ],
      "text/plain": [
       "     state  participation  composite\n",
       "0  Alabama           1.00       18.9\n",
       "1   Alaska           0.38       20.1"
      ]
     },
     "execution_count": 27,
     "metadata": {},
     "output_type": "execute_result"
    }
   ],
   "source": [
    "# ajusting column titles\n",
    "act_df_19.columns = act_df_19.columns.str.strip().str.lower()\n",
    "print(act_df_19.head(3))\n",
    "\n",
    "# performing prct_to_float function for 'participation' column\n",
    "act_df_19['participation'] = act_df_19['participation'].apply(prcnt_to_float)\n",
    "act_df_19.head(2)"
   ]
  },
  {
   "cell_type": "code",
   "execution_count": 28,
   "metadata": {},
   "outputs": [
    {
     "name": "stdout",
     "output_type": "stream",
     "text": [
      "      state  participation  composite\n",
      "0  National           0.60       21.0\n",
      "1   Alabama           1.00       19.2\n",
      "2    Alaska           0.65       19.8\n",
      "3   Arizona           0.62       19.7\n",
      "4  Arkansas           1.00       19.4\n",
      "            state  participation  composite\n",
      "47       Virginia           0.24       23.9\n",
      "48     Washington           0.24       22.2\n",
      "49  West Virginia           0.65       20.3\n",
      "50      Wisconsin           1.00       20.5\n",
      "51        Wyoming           1.00       20.0\n"
     ]
    },
    {
     "data": {
      "text/html": [
       "<div>\n",
       "<style scoped>\n",
       "    .dataframe tbody tr th:only-of-type {\n",
       "        vertical-align: middle;\n",
       "    }\n",
       "\n",
       "    .dataframe tbody tr th {\n",
       "        vertical-align: top;\n",
       "    }\n",
       "\n",
       "    .dataframe thead th {\n",
       "        text-align: right;\n",
       "    }\n",
       "</style>\n",
       "<table border=\"1\" class=\"dataframe\">\n",
       "  <thead>\n",
       "    <tr style=\"text-align: right;\">\n",
       "      <th></th>\n",
       "      <th>state</th>\n",
       "      <th>participation</th>\n",
       "      <th>composite</th>\n",
       "    </tr>\n",
       "  </thead>\n",
       "  <tbody>\n",
       "    <tr>\n",
       "      <th>47</th>\n",
       "      <td>Washington</td>\n",
       "      <td>0.24</td>\n",
       "      <td>22.1</td>\n",
       "    </tr>\n",
       "    <tr>\n",
       "      <th>48</th>\n",
       "      <td>West Virginia</td>\n",
       "      <td>0.49</td>\n",
       "      <td>20.8</td>\n",
       "    </tr>\n",
       "    <tr>\n",
       "      <th>49</th>\n",
       "      <td>Wisconsin</td>\n",
       "      <td>1.00</td>\n",
       "      <td>20.3</td>\n",
       "    </tr>\n",
       "    <tr>\n",
       "      <th>50</th>\n",
       "      <td>Wyoming</td>\n",
       "      <td>1.00</td>\n",
       "      <td>19.8</td>\n",
       "    </tr>\n",
       "    <tr>\n",
       "      <th>51</th>\n",
       "      <td>National</td>\n",
       "      <td>0.52</td>\n",
       "      <td>20.7</td>\n",
       "    </tr>\n",
       "  </tbody>\n",
       "</table>\n",
       "</div>"
      ],
      "text/plain": [
       "            state  participation  composite\n",
       "47     Washington           0.24       22.1\n",
       "48  West Virginia           0.49       20.8\n",
       "49      Wisconsin           1.00       20.3\n",
       "50        Wyoming           1.00       19.8\n",
       "51       National           0.52       20.7"
      ]
     },
     "execution_count": 28,
     "metadata": {},
     "output_type": "execute_result"
    }
   ],
   "source": [
    "# A quick look at all of our data sets need to drop Wyoming and National for each dataset\n",
    "print(act_df_17.head()) # drop National (index 0)\n",
    "print(act_df_18.tail()) # drop Wyoming (index 50)\n",
    "act_df_19.tail() # drop Wyoming and Nation(index50 & 51)"
   ]
  },
  {
   "cell_type": "code",
   "execution_count": 29,
   "metadata": {},
   "outputs": [
    {
     "name": "stdout",
     "output_type": "stream",
     "text": [
      "      state  participation  composite\n",
      "1   Alabama           1.00       19.2\n",
      "2    Alaska           0.65       19.8\n",
      "3   Arizona           0.62       19.7\n",
      "4  Arkansas           1.00       19.4\n",
      "(50, 3)\n",
      "            state  participation  composite\n",
      "47       Virginia           0.24       23.9\n",
      "48     Washington           0.24       22.2\n",
      "49  West Virginia           0.65       20.3\n",
      "50      Wisconsin           1.00       20.5\n",
      "(51, 3)\n",
      "            state  participation  composite\n",
      "46       Virginia           0.21       24.0\n",
      "47     Washington           0.24       22.1\n",
      "48  West Virginia           0.49       20.8\n",
      "49      Wisconsin           1.00       20.3\n",
      "(50, 3)\n"
     ]
    }
   ],
   "source": [
    "# dropping indexes for each dataframe above by index\n",
    "\n",
    "# drop National (index 0)\n",
    "act_df_17.drop(0,inplace = True) \n",
    "print(act_df_17.head(4))\n",
    "print(act_df_17.shape)\n",
    "# drop Wyoming (index 51)\n",
    "act_df_18.drop(51,inplace = True) \n",
    "print(act_df_18.tail(4))\n",
    "print(act_df_18.shape)\n",
    "\n",
    " # drop Wyoming and Nation(index50 & 51)\n",
    "act_df_19.drop([50,51],inplace = True) \n",
    "print(act_df_19.tail(4))\n",
    "print(act_df_19.shape)\n"
   ]
  },
  {
   "cell_type": "markdown",
   "metadata": {},
   "source": [
    "#"
   ]
  },
  {
   "cell_type": "code",
   "execution_count": 30,
   "metadata": {},
   "outputs": [
    {
     "name": "stdout",
     "output_type": "stream",
     "text": [
      "Connecticut    1\n",
      "Alaska         1\n",
      "Name: state, dtype: int64\n",
      "Maine          2\n",
      "Connecticut    1\n",
      "Name: state, dtype: int64\n"
     ]
    },
    {
     "data": {
      "text/plain": [
       "Connecticut    1\n",
       "Alaska         1\n",
       "Name: state, dtype: int64"
      ]
     },
     "execution_count": 30,
     "metadata": {},
     "output_type": "execute_result"
    }
   ],
   "source": [
    "# look for duplicate states using value_counts\n",
    "print(act_df_17['state'].value_counts().head(2))\n",
    "print(act_df_18['state'].value_counts().head(2)) # the act_df_18 has a duplicate 'Maine'\n",
    "act_df_19['state'].value_counts().head(2)"
   ]
  },
  {
   "cell_type": "code",
   "execution_count": 31,
   "metadata": {},
   "outputs": [
    {
     "name": "stdout",
     "output_type": "stream",
     "text": [
      "(51, 3)\n"
     ]
    },
    {
     "data": {
      "text/html": [
       "<div>\n",
       "<style scoped>\n",
       "    .dataframe tbody tr th:only-of-type {\n",
       "        vertical-align: middle;\n",
       "    }\n",
       "\n",
       "    .dataframe tbody tr th {\n",
       "        vertical-align: top;\n",
       "    }\n",
       "\n",
       "    .dataframe thead th {\n",
       "        text-align: right;\n",
       "    }\n",
       "</style>\n",
       "<table border=\"1\" class=\"dataframe\">\n",
       "  <thead>\n",
       "    <tr style=\"text-align: right;\">\n",
       "      <th></th>\n",
       "      <th>state</th>\n",
       "      <th>participation</th>\n",
       "      <th>composite</th>\n",
       "    </tr>\n",
       "  </thead>\n",
       "  <tbody>\n",
       "    <tr>\n",
       "      <th>19</th>\n",
       "      <td>Maine</td>\n",
       "      <td>0.07</td>\n",
       "      <td>24.0</td>\n",
       "    </tr>\n",
       "    <tr>\n",
       "      <th>20</th>\n",
       "      <td>Maine</td>\n",
       "      <td>0.07</td>\n",
       "      <td>24.0</td>\n",
       "    </tr>\n",
       "  </tbody>\n",
       "</table>\n",
       "</div>"
      ],
      "text/plain": [
       "    state  participation  composite\n",
       "19  Maine           0.07       24.0\n",
       "20  Maine           0.07       24.0"
      ]
     },
     "execution_count": 31,
     "metadata": {},
     "output_type": "execute_result"
    }
   ],
   "source": [
    "#locating index of Maine duplicate\n",
    "print(act_df_18.shape)\n",
    "act_df_18.loc[act_df_18['state']=='Maine']\n"
   ]
  },
  {
   "cell_type": "code",
   "execution_count": 32,
   "metadata": {},
   "outputs": [
    {
     "name": "stdout",
     "output_type": "stream",
     "text": [
      "(51, 3)\n"
     ]
    },
    {
     "data": {
      "text/html": [
       "<div>\n",
       "<style scoped>\n",
       "    .dataframe tbody tr th:only-of-type {\n",
       "        vertical-align: middle;\n",
       "    }\n",
       "\n",
       "    .dataframe tbody tr th {\n",
       "        vertical-align: top;\n",
       "    }\n",
       "\n",
       "    .dataframe thead th {\n",
       "        text-align: right;\n",
       "    }\n",
       "</style>\n",
       "<table border=\"1\" class=\"dataframe\">\n",
       "  <thead>\n",
       "    <tr style=\"text-align: right;\">\n",
       "      <th></th>\n",
       "      <th>state</th>\n",
       "      <th>participation</th>\n",
       "      <th>composite</th>\n",
       "    </tr>\n",
       "  </thead>\n",
       "  <tbody>\n",
       "    <tr>\n",
       "      <th>20</th>\n",
       "      <td>Maine</td>\n",
       "      <td>0.07</td>\n",
       "      <td>24.0</td>\n",
       "    </tr>\n",
       "  </tbody>\n",
       "</table>\n",
       "</div>"
      ],
      "text/plain": [
       "    state  participation  composite\n",
       "20  Maine           0.07       24.0"
      ]
     },
     "execution_count": 32,
     "metadata": {},
     "output_type": "execute_result"
    }
   ],
   "source": [
    "# removing Maine duplicate from act_df_18 \n",
    "print(act_df_18.shape)\n",
    "\n",
    "act_df_18.drop(19,inplace=True)\n",
    "\n",
    "#locate Maine index again to ensure it is droppped\n",
    "act_df_18.loc[act_df_18['state']=='Maine'] "
   ]
  },
  {
   "cell_type": "code",
   "execution_count": 33,
   "metadata": {},
   "outputs": [
    {
     "name": "stdout",
     "output_type": "stream",
     "text": [
      "(50, 3)\n"
     ]
    },
    {
     "data": {
      "text/plain": [
       "Connecticut             1\n",
       "Alaska                  1\n",
       "District of columbia    1\n",
       "Georgia                 1\n",
       "Texas                   1\n",
       "Name: state, dtype: int64"
      ]
     },
     "execution_count": 33,
     "metadata": {},
     "output_type": "execute_result"
    }
   ],
   "source": [
    "print(act_df_18.shape)\n",
    "act_df_18['state'].value_counts().head()\n",
    "\n"
   ]
  },
  {
   "cell_type": "code",
   "execution_count": 34,
   "metadata": {},
   "outputs": [],
   "source": [
    "# adding year to column names to concatenate data set \n",
    "act_df_17.rename(\n",
    "    columns = {'participation':'participation_17', 'composite':'composite_17'},inplace=True)\n",
    "act_df_18.rename(\n",
    "    columns = {'participation':'participation_18', 'composite':'composite_18'},inplace=True)\n",
    "act_df_19.rename(\n",
    "    columns = {'participation':'participation_19', 'composite':'composite_19'},inplace=True )"
   ]
  },
  {
   "cell_type": "code",
   "execution_count": 35,
   "metadata": {},
   "outputs": [
    {
     "name": "stdout",
     "output_type": "stream",
     "text": [
      "(50, 3)\n",
      "(50, 3)\n",
      "(50, 3)\n"
     ]
    }
   ],
   "source": [
    "# will concatenate data sets (need to have the same rows to add columns)\n",
    "# will sort by state names\n",
    "print(act_df_17.shape) \n",
    "print(act_df_18.shape) \n",
    "print(act_df_19.shape)\n",
    "\n",
    "# setting rows in the same order \n",
    "act_df_17 = act_df_17.sort_values(by='state')\n",
    "act_df_18 = act_df_18.sort_values(by='state')\n",
    "act_df_19 = act_df_19.sort_values(by='state')"
   ]
  },
  {
   "cell_type": "code",
   "execution_count": 36,
   "metadata": {},
   "outputs": [
    {
     "data": {
      "text/html": [
       "<div>\n",
       "<style scoped>\n",
       "    .dataframe tbody tr th:only-of-type {\n",
       "        vertical-align: middle;\n",
       "    }\n",
       "\n",
       "    .dataframe tbody tr th {\n",
       "        vertical-align: top;\n",
       "    }\n",
       "\n",
       "    .dataframe thead th {\n",
       "        text-align: right;\n",
       "    }\n",
       "</style>\n",
       "<table border=\"1\" class=\"dataframe\">\n",
       "  <thead>\n",
       "    <tr style=\"text-align: right;\">\n",
       "      <th></th>\n",
       "      <th>state</th>\n",
       "      <th>participation_18</th>\n",
       "      <th>composite_18</th>\n",
       "    </tr>\n",
       "  </thead>\n",
       "  <tbody>\n",
       "    <tr>\n",
       "      <th>46</th>\n",
       "      <td>Vermont</td>\n",
       "      <td>0.24</td>\n",
       "      <td>24.1</td>\n",
       "    </tr>\n",
       "    <tr>\n",
       "      <th>47</th>\n",
       "      <td>Virginia</td>\n",
       "      <td>0.24</td>\n",
       "      <td>23.9</td>\n",
       "    </tr>\n",
       "    <tr>\n",
       "      <th>48</th>\n",
       "      <td>Washington</td>\n",
       "      <td>0.24</td>\n",
       "      <td>22.2</td>\n",
       "    </tr>\n",
       "    <tr>\n",
       "      <th>49</th>\n",
       "      <td>West Virginia</td>\n",
       "      <td>0.65</td>\n",
       "      <td>20.3</td>\n",
       "    </tr>\n",
       "    <tr>\n",
       "      <th>50</th>\n",
       "      <td>Wisconsin</td>\n",
       "      <td>1.00</td>\n",
       "      <td>20.5</td>\n",
       "    </tr>\n",
       "  </tbody>\n",
       "</table>\n",
       "</div>"
      ],
      "text/plain": [
       "            state  participation_18  composite_18\n",
       "46        Vermont              0.24          24.1\n",
       "47       Virginia              0.24          23.9\n",
       "48     Washington              0.24          22.2\n",
       "49  West Virginia              0.65          20.3\n",
       "50      Wisconsin              1.00          20.5"
      ]
     },
     "execution_count": 36,
     "metadata": {},
     "output_type": "execute_result"
    }
   ],
   "source": [
    "act_df_17.sort_values(by='state').tail()\n",
    "act_df_18.sort_values(by='state').tail()\n"
   ]
  },
  {
   "cell_type": "code",
   "execution_count": 37,
   "metadata": {},
   "outputs": [],
   "source": [
    "# concatenating the data sets of ACT scores from year 2017-2019\n",
    "act_df_complete = pd.concat([act_df_17.reset_index(), \n",
    "                             act_df_18.reset_index().drop('state',axis=1),\n",
    "                             act_df_19.reset_index().drop('state',axis=1)], \n",
    "                        axis=1)\n",
    "\n"
   ]
  },
  {
   "cell_type": "code",
   "execution_count": 38,
   "metadata": {},
   "outputs": [],
   "source": [
    "act_df_complete.drop(labels=['index'],axis=1,inplace=True)"
   ]
  },
  {
   "cell_type": "code",
   "execution_count": 39,
   "metadata": {},
   "outputs": [
    {
     "data": {
      "text/html": [
       "<div>\n",
       "<style scoped>\n",
       "    .dataframe tbody tr th:only-of-type {\n",
       "        vertical-align: middle;\n",
       "    }\n",
       "\n",
       "    .dataframe tbody tr th {\n",
       "        vertical-align: top;\n",
       "    }\n",
       "\n",
       "    .dataframe thead th {\n",
       "        text-align: right;\n",
       "    }\n",
       "</style>\n",
       "<table border=\"1\" class=\"dataframe\">\n",
       "  <thead>\n",
       "    <tr style=\"text-align: right;\">\n",
       "      <th></th>\n",
       "      <th>state</th>\n",
       "      <th>participation_17</th>\n",
       "      <th>composite_17</th>\n",
       "      <th>participation_18</th>\n",
       "      <th>composite_18</th>\n",
       "      <th>participation_19</th>\n",
       "      <th>composite_19</th>\n",
       "    </tr>\n",
       "  </thead>\n",
       "  <tbody>\n",
       "    <tr>\n",
       "      <th>0</th>\n",
       "      <td>Alabama</td>\n",
       "      <td>1.00</td>\n",
       "      <td>19.2</td>\n",
       "      <td>1.00</td>\n",
       "      <td>19.1</td>\n",
       "      <td>1.00</td>\n",
       "      <td>18.9</td>\n",
       "    </tr>\n",
       "    <tr>\n",
       "      <th>1</th>\n",
       "      <td>Alaska</td>\n",
       "      <td>0.65</td>\n",
       "      <td>19.8</td>\n",
       "      <td>0.33</td>\n",
       "      <td>20.8</td>\n",
       "      <td>0.38</td>\n",
       "      <td>20.1</td>\n",
       "    </tr>\n",
       "    <tr>\n",
       "      <th>2</th>\n",
       "      <td>Arizona</td>\n",
       "      <td>0.62</td>\n",
       "      <td>19.7</td>\n",
       "      <td>0.66</td>\n",
       "      <td>19.2</td>\n",
       "      <td>0.73</td>\n",
       "      <td>19.0</td>\n",
       "    </tr>\n",
       "    <tr>\n",
       "      <th>3</th>\n",
       "      <td>Arkansas</td>\n",
       "      <td>1.00</td>\n",
       "      <td>19.4</td>\n",
       "      <td>1.00</td>\n",
       "      <td>19.4</td>\n",
       "      <td>1.00</td>\n",
       "      <td>19.3</td>\n",
       "    </tr>\n",
       "    <tr>\n",
       "      <th>4</th>\n",
       "      <td>California</td>\n",
       "      <td>0.31</td>\n",
       "      <td>22.8</td>\n",
       "      <td>0.27</td>\n",
       "      <td>22.7</td>\n",
       "      <td>0.23</td>\n",
       "      <td>22.6</td>\n",
       "    </tr>\n",
       "  </tbody>\n",
       "</table>\n",
       "</div>"
      ],
      "text/plain": [
       "        state  participation_17  composite_17  participation_18  composite_18  \\\n",
       "0     Alabama              1.00          19.2              1.00          19.1   \n",
       "1      Alaska              0.65          19.8              0.33          20.8   \n",
       "2     Arizona              0.62          19.7              0.66          19.2   \n",
       "3    Arkansas              1.00          19.4              1.00          19.4   \n",
       "4  California              0.31          22.8              0.27          22.7   \n",
       "\n",
       "   participation_19  composite_19  \n",
       "0              1.00          18.9  \n",
       "1              0.38          20.1  \n",
       "2              0.73          19.0  \n",
       "3              1.00          19.3  \n",
       "4              0.23          22.6  "
      ]
     },
     "execution_count": 39,
     "metadata": {},
     "output_type": "execute_result"
    }
   ],
   "source": [
    "act_df_complete.head()"
   ]
  },
  {
   "cell_type": "code",
   "execution_count": 40,
   "metadata": {},
   "outputs": [],
   "source": [
    "# concatenating the data sets of ACT scores from year 2017-2019\n",
    "\n",
    "############################################################# WHEN READY TO EXPORT HERE\n",
    "act_df_complete.to_csv('../data/act_17_to_19.csv', index=False)\n"
   ]
  },
  {
   "cell_type": "markdown",
   "metadata": {},
   "source": [
    "## Dataset\n",
    "* [`sat_act_by_college.csv`](./data/sat_act_by_college.csv): Ranges of Accepted ACT & SAT Student Scores by Colleges for 2022"
   ]
  },
  {
   "cell_type": "code",
   "execution_count": 41,
   "metadata": {},
   "outputs": [
    {
     "data": {
      "text/html": [
       "<div>\n",
       "<style scoped>\n",
       "    .dataframe tbody tr th:only-of-type {\n",
       "        vertical-align: middle;\n",
       "    }\n",
       "\n",
       "    .dataframe tbody tr th {\n",
       "        vertical-align: top;\n",
       "    }\n",
       "\n",
       "    .dataframe thead th {\n",
       "        text-align: right;\n",
       "    }\n",
       "</style>\n",
       "<table border=\"1\" class=\"dataframe\">\n",
       "  <thead>\n",
       "    <tr style=\"text-align: right;\">\n",
       "      <th></th>\n",
       "      <th>School</th>\n",
       "      <th>ACT Total 25th-75th Percentile</th>\n",
       "    </tr>\n",
       "  </thead>\n",
       "  <tbody>\n",
       "    <tr>\n",
       "      <th>0</th>\n",
       "      <td>Stanford University</td>\n",
       "      <td>32-35</td>\n",
       "    </tr>\n",
       "    <tr>\n",
       "      <th>1</th>\n",
       "      <td>Harvard College</td>\n",
       "      <td>33-35</td>\n",
       "    </tr>\n",
       "    <tr>\n",
       "      <th>2</th>\n",
       "      <td>Princeton University</td>\n",
       "      <td>32-35</td>\n",
       "    </tr>\n",
       "    <tr>\n",
       "      <th>3</th>\n",
       "      <td>Columbia University</td>\n",
       "      <td>33-35</td>\n",
       "    </tr>\n",
       "    <tr>\n",
       "      <th>4</th>\n",
       "      <td>Yale University</td>\n",
       "      <td>33-35</td>\n",
       "    </tr>\n",
       "    <tr>\n",
       "      <th>...</th>\n",
       "      <td>...</td>\n",
       "      <td>...</td>\n",
       "    </tr>\n",
       "    <tr>\n",
       "      <th>411</th>\n",
       "      <td>University of Texas Rio Grande Valley</td>\n",
       "      <td>17-22</td>\n",
       "    </tr>\n",
       "    <tr>\n",
       "      <th>412</th>\n",
       "      <td>University of South Dakota</td>\n",
       "      <td>19-25</td>\n",
       "    </tr>\n",
       "    <tr>\n",
       "      <th>413</th>\n",
       "      <td>University of Mississippi</td>\n",
       "      <td>21-29</td>\n",
       "    </tr>\n",
       "    <tr>\n",
       "      <th>414</th>\n",
       "      <td>University of Wyoming</td>\n",
       "      <td>22-28</td>\n",
       "    </tr>\n",
       "    <tr>\n",
       "      <th>415</th>\n",
       "      <td>University of Texas El Paso</td>\n",
       "      <td>17-23</td>\n",
       "    </tr>\n",
       "  </tbody>\n",
       "</table>\n",
       "<p>416 rows × 2 columns</p>\n",
       "</div>"
      ],
      "text/plain": [
       "                                    School ACT Total 25th-75th Percentile\n",
       "0                      Stanford University                          32-35\n",
       "1                          Harvard College                          33-35\n",
       "2                     Princeton University                          32-35\n",
       "3                      Columbia University                          33-35\n",
       "4                          Yale University                          33-35\n",
       "..                                     ...                            ...\n",
       "411  University of Texas Rio Grande Valley                          17-22\n",
       "412             University of South Dakota                          19-25\n",
       "413              University of Mississippi                          21-29\n",
       "414                  University of Wyoming                          22-28\n",
       "415            University of Texas El Paso                          17-23\n",
       "\n",
       "[416 rows x 2 columns]"
      ]
     },
     "execution_count": 41,
     "metadata": {},
     "output_type": "execute_result"
    }
   ],
   "source": [
    "# will drop all the columns not needed in act_df_by_college \n",
    "act_df_by_college.drop(labels = ['Test Optional?', 'Accept Rate','Applies to Class Year(s)','Policy Details','Number of Applicants','SAT Total 25th-75th Percentile'],axis = 1)\n"
   ]
  },
  {
   "cell_type": "code",
   "execution_count": null,
   "metadata": {},
   "outputs": [],
   "source": []
  },
  {
   "cell_type": "code",
   "execution_count": 42,
   "metadata": {},
   "outputs": [],
   "source": [
    "# change all potential variations in act_df_by_college['School'] contents\n",
    "act_df_by_college['School'] = act_df_by_college['School'].apply(and_to_and).str.lower()"
   ]
  },
  {
   "cell_type": "code",
   "execution_count": 43,
   "metadata": {},
   "outputs": [
    {
     "data": {
      "text/plain": [
       "406            florida institute of technology\n",
       "407    louisiana state university—​baton rouge\n",
       "408                                the citadel\n",
       "409                     new college of florida\n",
       "410                     thomas aquinas college\n",
       "411      university of texas rio grande valley\n",
       "412                 university of south dakota\n",
       "413                  university of mississippi\n",
       "414                      university of wyoming\n",
       "415                university of texas el paso\n",
       "Name: School, dtype: object"
      ]
     },
     "execution_count": 43,
     "metadata": {},
     "output_type": "execute_result"
    }
   ],
   "source": [
    "act_df_by_college['School'].tail(10)"
   ]
  },
  {
   "cell_type": "code",
   "execution_count": 44,
   "metadata": {},
   "outputs": [
    {
     "data": {
      "text/plain": [
       "0      [32, 35]\n",
       "1      [33, 35]\n",
       "2      [32, 35]\n",
       "3      [33, 35]\n",
       "4      [33, 35]\n",
       "         ...   \n",
       "411    [17, 22]\n",
       "412    [19, 25]\n",
       "413    [21, 29]\n",
       "414    [22, 28]\n",
       "415    [17, 23]\n",
       "Name: act 25-27 list, Length: 416, dtype: object"
      ]
     },
     "execution_count": 44,
     "metadata": {},
     "output_type": "execute_result"
    }
   ],
   "source": [
    "# seperating act range into two different columns\n",
    "act_df_by_college['act 25-27 list']=act_df_by_college['ACT Total 25th-75th Percentile'].str.split('-')\n",
    "act_df_by_college['act 25-27 list'] "
   ]
  },
  {
   "cell_type": "code",
   "execution_count": 45,
   "metadata": {},
   "outputs": [],
   "source": [
    "# Now have a data frame to merge into act_df_by_college \n",
    "act_split_df=pd.DataFrame(act_df_by_college[\"act 25-27 list\"].tolist(), columns=['percentil25th','percentil27', 'drop'])\n",
    "\n"
   ]
  },
  {
   "cell_type": "code",
   "execution_count": 46,
   "metadata": {},
   "outputs": [
    {
     "data": {
      "text/html": [
       "<div>\n",
       "<style scoped>\n",
       "    .dataframe tbody tr th:only-of-type {\n",
       "        vertical-align: middle;\n",
       "    }\n",
       "\n",
       "    .dataframe tbody tr th {\n",
       "        vertical-align: top;\n",
       "    }\n",
       "\n",
       "    .dataframe thead th {\n",
       "        text-align: right;\n",
       "    }\n",
       "</style>\n",
       "<table border=\"1\" class=\"dataframe\">\n",
       "  <thead>\n",
       "    <tr style=\"text-align: right;\">\n",
       "      <th></th>\n",
       "      <th>state</th>\n",
       "      <th>participation_17</th>\n",
       "      <th>composite_17</th>\n",
       "      <th>participation_18</th>\n",
       "      <th>composite_18</th>\n",
       "      <th>participation_19</th>\n",
       "      <th>composite_19</th>\n",
       "    </tr>\n",
       "  </thead>\n",
       "  <tbody>\n",
       "    <tr>\n",
       "      <th>0</th>\n",
       "      <td>Alabama</td>\n",
       "      <td>1.00</td>\n",
       "      <td>19.2</td>\n",
       "      <td>1.00</td>\n",
       "      <td>19.1</td>\n",
       "      <td>1.00</td>\n",
       "      <td>18.9</td>\n",
       "    </tr>\n",
       "    <tr>\n",
       "      <th>1</th>\n",
       "      <td>Alaska</td>\n",
       "      <td>0.65</td>\n",
       "      <td>19.8</td>\n",
       "      <td>0.33</td>\n",
       "      <td>20.8</td>\n",
       "      <td>0.38</td>\n",
       "      <td>20.1</td>\n",
       "    </tr>\n",
       "    <tr>\n",
       "      <th>2</th>\n",
       "      <td>Arizona</td>\n",
       "      <td>0.62</td>\n",
       "      <td>19.7</td>\n",
       "      <td>0.66</td>\n",
       "      <td>19.2</td>\n",
       "      <td>0.73</td>\n",
       "      <td>19.0</td>\n",
       "    </tr>\n",
       "    <tr>\n",
       "      <th>3</th>\n",
       "      <td>Arkansas</td>\n",
       "      <td>1.00</td>\n",
       "      <td>19.4</td>\n",
       "      <td>1.00</td>\n",
       "      <td>19.4</td>\n",
       "      <td>1.00</td>\n",
       "      <td>19.3</td>\n",
       "    </tr>\n",
       "    <tr>\n",
       "      <th>4</th>\n",
       "      <td>California</td>\n",
       "      <td>0.31</td>\n",
       "      <td>22.8</td>\n",
       "      <td>0.27</td>\n",
       "      <td>22.7</td>\n",
       "      <td>0.23</td>\n",
       "      <td>22.6</td>\n",
       "    </tr>\n",
       "  </tbody>\n",
       "</table>\n",
       "</div>"
      ],
      "text/plain": [
       "        state  participation_17  composite_17  participation_18  composite_18  \\\n",
       "0     Alabama              1.00          19.2              1.00          19.1   \n",
       "1      Alaska              0.65          19.8              0.33          20.8   \n",
       "2     Arizona              0.62          19.7              0.66          19.2   \n",
       "3    Arkansas              1.00          19.4              1.00          19.4   \n",
       "4  California              0.31          22.8              0.27          22.7   \n",
       "\n",
       "   participation_19  composite_19  \n",
       "0              1.00          18.9  \n",
       "1              0.38          20.1  \n",
       "2              0.73          19.0  \n",
       "3              1.00          19.3  \n",
       "4              0.23          22.6  "
      ]
     },
     "execution_count": 46,
     "metadata": {},
     "output_type": "execute_result"
    }
   ],
   "source": [
    "# concatenating the data sets of ACT scores from year 2017-2019 #######DELETE\n",
    "act_df_complete = pd.concat([act_df_17.reset_index(), act_df_18.drop('state',axis = 1),act_df_19.drop('state',axis = 1)], axis=1)\n",
    "act_df_complete=act_df_complete.drop('index',axis = 1)\n",
    "act_df_complete.head()"
   ]
  },
  {
   "cell_type": "code",
   "execution_count": 47,
   "metadata": {},
   "outputs": [
    {
     "data": {
      "text/html": [
       "<div>\n",
       "<style scoped>\n",
       "    .dataframe tbody tr th:only-of-type {\n",
       "        vertical-align: middle;\n",
       "    }\n",
       "\n",
       "    .dataframe tbody tr th {\n",
       "        vertical-align: top;\n",
       "    }\n",
       "\n",
       "    .dataframe thead th {\n",
       "        text-align: right;\n",
       "    }\n",
       "</style>\n",
       "<table border=\"1\" class=\"dataframe\">\n",
       "  <thead>\n",
       "    <tr style=\"text-align: right;\">\n",
       "      <th></th>\n",
       "      <th>School</th>\n",
       "      <th>Test Optional?</th>\n",
       "      <th>Applies to Class Year(s)</th>\n",
       "      <th>Policy Details</th>\n",
       "      <th>Number of Applicants</th>\n",
       "      <th>Accept Rate</th>\n",
       "      <th>SAT Total 25th-75th Percentile</th>\n",
       "      <th>ACT Total 25th-75th Percentile</th>\n",
       "      <th>act 25-27 list</th>\n",
       "      <th>percentil25th</th>\n",
       "      <th>percentil27</th>\n",
       "      <th>drop</th>\n",
       "    </tr>\n",
       "  </thead>\n",
       "  <tbody>\n",
       "    <tr>\n",
       "      <th>0</th>\n",
       "      <td>stanford university</td>\n",
       "      <td>Yes</td>\n",
       "      <td>2021</td>\n",
       "      <td>Stanford has adopted a one-year test optional ...</td>\n",
       "      <td>47452</td>\n",
       "      <td>4.3%</td>\n",
       "      <td>1440-1570</td>\n",
       "      <td>32-35</td>\n",
       "      <td>[32, 35]</td>\n",
       "      <td>32</td>\n",
       "      <td>35</td>\n",
       "      <td>None</td>\n",
       "    </tr>\n",
       "    <tr>\n",
       "      <th>1</th>\n",
       "      <td>harvard college</td>\n",
       "      <td>Yes</td>\n",
       "      <td>2021</td>\n",
       "      <td>Harvard has adopted a one-year test optional p...</td>\n",
       "      <td>42749</td>\n",
       "      <td>4.7%</td>\n",
       "      <td>1460-1580</td>\n",
       "      <td>33-35</td>\n",
       "      <td>[33, 35]</td>\n",
       "      <td>33</td>\n",
       "      <td>35</td>\n",
       "      <td>None</td>\n",
       "    </tr>\n",
       "    <tr>\n",
       "      <th>2</th>\n",
       "      <td>princeton university</td>\n",
       "      <td>Yes</td>\n",
       "      <td>2021</td>\n",
       "      <td>Princeton has adopted a one-year test optional...</td>\n",
       "      <td>35370</td>\n",
       "      <td>5.5%</td>\n",
       "      <td>1440-1570</td>\n",
       "      <td>32-35</td>\n",
       "      <td>[32, 35]</td>\n",
       "      <td>32</td>\n",
       "      <td>35</td>\n",
       "      <td>None</td>\n",
       "    </tr>\n",
       "    <tr>\n",
       "      <th>3</th>\n",
       "      <td>columbia university</td>\n",
       "      <td>Yes</td>\n",
       "      <td>2021</td>\n",
       "      <td>Columbia has adopted a one-year test optional ...</td>\n",
       "      <td>40203</td>\n",
       "      <td>5.5%</td>\n",
       "      <td>1450-1560</td>\n",
       "      <td>33-35</td>\n",
       "      <td>[33, 35]</td>\n",
       "      <td>33</td>\n",
       "      <td>35</td>\n",
       "      <td>None</td>\n",
       "    </tr>\n",
       "    <tr>\n",
       "      <th>4</th>\n",
       "      <td>yale university</td>\n",
       "      <td>Yes</td>\n",
       "      <td>2021</td>\n",
       "      <td>Yale has adopted a one-year test optional poli...</td>\n",
       "      <td>36844</td>\n",
       "      <td>6.1%</td>\n",
       "      <td>1460-1570</td>\n",
       "      <td>33-35</td>\n",
       "      <td>[33, 35]</td>\n",
       "      <td>33</td>\n",
       "      <td>35</td>\n",
       "      <td>None</td>\n",
       "    </tr>\n",
       "  </tbody>\n",
       "</table>\n",
       "</div>"
      ],
      "text/plain": [
       "                 School Test Optional? Applies to Class Year(s)  \\\n",
       "0   stanford university            Yes                     2021   \n",
       "1       harvard college            Yes                     2021   \n",
       "2  princeton university            Yes                     2021   \n",
       "3   columbia university            Yes                     2021   \n",
       "4       yale university            Yes                     2021   \n",
       "\n",
       "                                      Policy Details  Number of Applicants  \\\n",
       "0  Stanford has adopted a one-year test optional ...                 47452   \n",
       "1  Harvard has adopted a one-year test optional p...                 42749   \n",
       "2  Princeton has adopted a one-year test optional...                 35370   \n",
       "3  Columbia has adopted a one-year test optional ...                 40203   \n",
       "4  Yale has adopted a one-year test optional poli...                 36844   \n",
       "\n",
       "  Accept Rate SAT Total 25th-75th Percentile ACT Total 25th-75th Percentile  \\\n",
       "0        4.3%                      1440-1570                          32-35   \n",
       "1        4.7%                      1460-1580                          33-35   \n",
       "2        5.5%                      1440-1570                          32-35   \n",
       "3        5.5%                      1450-1560                          33-35   \n",
       "4        6.1%                      1460-1570                          33-35   \n",
       "\n",
       "  act 25-27 list percentil25th percentil27  drop  \n",
       "0       [32, 35]            32          35  None  \n",
       "1       [33, 35]            33          35  None  \n",
       "2       [32, 35]            32          35  None  \n",
       "3       [33, 35]            33          35  None  \n",
       "4       [33, 35]            33          35  None  "
      ]
     },
     "execution_count": 47,
     "metadata": {},
     "output_type": "execute_result"
    }
   ],
   "source": [
    "# concatenating columns within the data sets to now only have pubilc schools\n",
    "act_df_college_complete = pd.concat([act_df_by_college, act_split_df], axis=1)\n",
    "#act_df_college_complete=act_df_complete.drop('index',axis = 1)\n",
    "act_df_college_complete.head()"
   ]
  },
  {
   "cell_type": "code",
   "execution_count": 48,
   "metadata": {},
   "outputs": [
    {
     "data": {
      "text/html": [
       "<div>\n",
       "<style scoped>\n",
       "    .dataframe tbody tr th:only-of-type {\n",
       "        vertical-align: middle;\n",
       "    }\n",
       "\n",
       "    .dataframe tbody tr th {\n",
       "        vertical-align: top;\n",
       "    }\n",
       "\n",
       "    .dataframe thead th {\n",
       "        text-align: right;\n",
       "    }\n",
       "</style>\n",
       "<table border=\"1\" class=\"dataframe\">\n",
       "  <thead>\n",
       "    <tr style=\"text-align: right;\">\n",
       "      <th></th>\n",
       "      <th>School</th>\n",
       "      <th>Test Optional?</th>\n",
       "      <th>Applies to Class Year(s)</th>\n",
       "      <th>Policy Details</th>\n",
       "      <th>Number of Applicants</th>\n",
       "      <th>Accept Rate</th>\n",
       "      <th>SAT Total 25th-75th Percentile</th>\n",
       "      <th>ACT Total 25th-75th Percentile</th>\n",
       "      <th>act 25-27 list</th>\n",
       "      <th>percentil25th</th>\n",
       "      <th>percentil27</th>\n",
       "      <th>drop</th>\n",
       "    </tr>\n",
       "  </thead>\n",
       "  <tbody>\n",
       "    <tr>\n",
       "      <th>413</th>\n",
       "      <td>university of mississippi</td>\n",
       "      <td>No</td>\n",
       "      <td>NaN</td>\n",
       "      <td>Ole Miss requires either the SAT or ACT. It do...</td>\n",
       "      <td>15371</td>\n",
       "      <td>88.1%</td>\n",
       "      <td>1050-1270</td>\n",
       "      <td>21-29</td>\n",
       "      <td>[21, 29]</td>\n",
       "      <td>21</td>\n",
       "      <td>29</td>\n",
       "      <td>None</td>\n",
       "    </tr>\n",
       "    <tr>\n",
       "      <th>414</th>\n",
       "      <td>university of wyoming</td>\n",
       "      <td>No</td>\n",
       "      <td>NaN</td>\n",
       "      <td>University of Wyoming requires either the SAT ...</td>\n",
       "      <td>5348</td>\n",
       "      <td>96.0%</td>\n",
       "      <td>1060-1280</td>\n",
       "      <td>22-28</td>\n",
       "      <td>[22, 28]</td>\n",
       "      <td>22</td>\n",
       "      <td>28</td>\n",
       "      <td>None</td>\n",
       "    </tr>\n",
       "    <tr>\n",
       "      <th>415</th>\n",
       "      <td>university of texas el paso</td>\n",
       "      <td>No</td>\n",
       "      <td>NaN</td>\n",
       "      <td>UTEP requires either the SAT or ACT. It does n...</td>\n",
       "      <td>7157</td>\n",
       "      <td>99.9%</td>\n",
       "      <td>820-1050</td>\n",
       "      <td>17-23</td>\n",
       "      <td>[17, 23]</td>\n",
       "      <td>17</td>\n",
       "      <td>23</td>\n",
       "      <td>None</td>\n",
       "    </tr>\n",
       "  </tbody>\n",
       "</table>\n",
       "</div>"
      ],
      "text/plain": [
       "                          School Test Optional? Applies to Class Year(s)  \\\n",
       "413    university of mississippi             No                      NaN   \n",
       "414        university of wyoming             No                      NaN   \n",
       "415  university of texas el paso             No                      NaN   \n",
       "\n",
       "                                        Policy Details  Number of Applicants  \\\n",
       "413  Ole Miss requires either the SAT or ACT. It do...                 15371   \n",
       "414  University of Wyoming requires either the SAT ...                  5348   \n",
       "415  UTEP requires either the SAT or ACT. It does n...                  7157   \n",
       "\n",
       "    Accept Rate SAT Total 25th-75th Percentile ACT Total 25th-75th Percentile  \\\n",
       "413       88.1%                      1050-1270                          21-29   \n",
       "414       96.0%                      1060-1280                          22-28   \n",
       "415       99.9%                       820-1050                          17-23   \n",
       "\n",
       "    act 25-27 list percentil25th percentil27  drop  \n",
       "413       [21, 29]            21          29  None  \n",
       "414       [22, 28]            22          28  None  \n",
       "415       [17, 23]            17          23  None  "
      ]
     },
     "execution_count": 48,
     "metadata": {},
     "output_type": "execute_result"
    }
   ],
   "source": [
    "act_df_college_complete.tail(3)\n"
   ]
  },
  {
   "cell_type": "code",
   "execution_count": 49,
   "metadata": {},
   "outputs": [
    {
     "name": "stdout",
     "output_type": "stream",
     "text": [
      "<class 'list'>\n"
     ]
    },
    {
     "data": {
      "text/plain": [
       "(416, 12)"
      ]
     },
     "execution_count": 49,
     "metadata": {},
     "output_type": "execute_result"
    }
   ],
   "source": [
    "pub_uni_df = pd.read_excel('../data/4 year public universities by state.xlsx')\n",
    "public_uni = pub_uni_df['university_name'].tolist()\n",
    "print(type(public_uni))\n",
    "\n",
    "act_df_college_complete.shape"
   ]
  },
  {
   "cell_type": "code",
   "execution_count": 50,
   "metadata": {},
   "outputs": [],
   "source": [
    "# will quickly put in similar format as act_df_by_college['School']\n",
    "pub_uni_df['university_name'] = pub_uni_df['university_name'].apply(and_to_and).str.lower()"
   ]
  },
  {
   "cell_type": "code",
   "execution_count": 51,
   "metadata": {},
   "outputs": [
    {
     "data": {
      "text/plain": [
       "0             auburn university\n",
       "1    alabama a and m university\n",
       "Name: university_name, dtype: object"
      ]
     },
     "execution_count": 51,
     "metadata": {},
     "output_type": "execute_result"
    }
   ],
   "source": [
    "pub_uni_df[\"university_name\"] = pub_uni_df['university_name'].str.lower()\n",
    "pub_uni_df[\"university_name\"].head(2)"
   ]
  },
  {
   "cell_type": "code",
   "execution_count": 52,
   "metadata": {},
   "outputs": [],
   "source": [
    "# the funciton below will retrive the name of the state for each university in the publinc_university_df\n",
    "def get_state(name):\n",
    "    # if the School name is in the publinc_university_df (list of public universities in the US)\n",
    "    if name in set(pub_uni_df['university_name']):\n",
    "        # returns the contents  within my 'state' column in the publinc_university_df (to append as a column of states)\n",
    "        return pub_uni_df[  pub_uni_df['university_name']== name  ]['state'].values[0]\n",
    "    # if the university is not a public school then my string 'drop'\n",
    "    else:\n",
    "        return 'drop'\n",
    "\n",
    "act_df_college_complete['public school state'] = act_df_college_complete['School'].apply(get_state)"
   ]
  },
  {
   "cell_type": "code",
   "execution_count": 53,
   "metadata": {},
   "outputs": [
    {
     "data": {
      "text/plain": [
       "School                            object\n",
       "Test Optional?                    object\n",
       "Applies to Class Year(s)          object\n",
       "Policy Details                    object\n",
       "Number of Applicants               int64\n",
       "Accept Rate                       object\n",
       "SAT Total 25th-75th Percentile    object\n",
       "ACT Total 25th-75th Percentile    object\n",
       "act 25-27 list                    object\n",
       "percentil25th                     object\n",
       "percentil27                       object\n",
       "drop                              object\n",
       "public school state               object\n",
       "dtype: object"
      ]
     },
     "execution_count": 53,
     "metadata": {},
     "output_type": "execute_result"
    }
   ],
   "source": [
    "act_df_college_complete.dtypes"
   ]
  },
  {
   "cell_type": "code",
   "execution_count": 54,
   "metadata": {},
   "outputs": [
    {
     "data": {
      "text/plain": [
       "vanderbilt university                       1\n",
       "concordia college—​moorhead                 1\n",
       "george mason university                     1\n",
       "duke university                             1\n",
       "university of oklahoma                      1\n",
       "                                           ..\n",
       "lake forest college                         1\n",
       "university of north carolina—​greensboro    1\n",
       "loyola marymount university                 1\n",
       "university of kentucky                      1\n",
       "smith college                               1\n",
       "Name: School, Length: 416, dtype: int64"
      ]
     },
     "execution_count": 54,
     "metadata": {},
     "output_type": "execute_result"
    }
   ],
   "source": [
    "act_df_college_complete['School'].value_counts()"
   ]
  },
  {
   "cell_type": "code",
   "execution_count": 55,
   "metadata": {},
   "outputs": [
    {
     "data": {
      "text/html": [
       "<div>\n",
       "<style scoped>\n",
       "    .dataframe tbody tr th:only-of-type {\n",
       "        vertical-align: middle;\n",
       "    }\n",
       "\n",
       "    .dataframe tbody tr th {\n",
       "        vertical-align: top;\n",
       "    }\n",
       "\n",
       "    .dataframe thead th {\n",
       "        text-align: right;\n",
       "    }\n",
       "</style>\n",
       "<table border=\"1\" class=\"dataframe\">\n",
       "  <thead>\n",
       "    <tr style=\"text-align: right;\">\n",
       "      <th></th>\n",
       "      <th>School</th>\n",
       "      <th>Test Optional?</th>\n",
       "      <th>Applies to Class Year(s)</th>\n",
       "      <th>Policy Details</th>\n",
       "      <th>Number of Applicants</th>\n",
       "      <th>Accept Rate</th>\n",
       "      <th>SAT Total 25th-75th Percentile</th>\n",
       "      <th>ACT Total 25th-75th Percentile</th>\n",
       "      <th>act 25-27 list</th>\n",
       "      <th>percentil25th</th>\n",
       "      <th>percentil27</th>\n",
       "      <th>drop</th>\n",
       "      <th>public school state</th>\n",
       "    </tr>\n",
       "  </thead>\n",
       "  <tbody>\n",
       "    <tr>\n",
       "      <th>0</th>\n",
       "      <td>stanford university</td>\n",
       "      <td>Yes</td>\n",
       "      <td>2021</td>\n",
       "      <td>Stanford has adopted a one-year test optional ...</td>\n",
       "      <td>47452</td>\n",
       "      <td>4.3%</td>\n",
       "      <td>1440-1570</td>\n",
       "      <td>32-35</td>\n",
       "      <td>[32, 35]</td>\n",
       "      <td>32</td>\n",
       "      <td>35</td>\n",
       "      <td>None</td>\n",
       "      <td>drop</td>\n",
       "    </tr>\n",
       "    <tr>\n",
       "      <th>1</th>\n",
       "      <td>harvard college</td>\n",
       "      <td>Yes</td>\n",
       "      <td>2021</td>\n",
       "      <td>Harvard has adopted a one-year test optional p...</td>\n",
       "      <td>42749</td>\n",
       "      <td>4.7%</td>\n",
       "      <td>1460-1580</td>\n",
       "      <td>33-35</td>\n",
       "      <td>[33, 35]</td>\n",
       "      <td>33</td>\n",
       "      <td>35</td>\n",
       "      <td>None</td>\n",
       "      <td>drop</td>\n",
       "    </tr>\n",
       "    <tr>\n",
       "      <th>2</th>\n",
       "      <td>princeton university</td>\n",
       "      <td>Yes</td>\n",
       "      <td>2021</td>\n",
       "      <td>Princeton has adopted a one-year test optional...</td>\n",
       "      <td>35370</td>\n",
       "      <td>5.5%</td>\n",
       "      <td>1440-1570</td>\n",
       "      <td>32-35</td>\n",
       "      <td>[32, 35]</td>\n",
       "      <td>32</td>\n",
       "      <td>35</td>\n",
       "      <td>None</td>\n",
       "      <td>drop</td>\n",
       "    </tr>\n",
       "    <tr>\n",
       "      <th>3</th>\n",
       "      <td>columbia university</td>\n",
       "      <td>Yes</td>\n",
       "      <td>2021</td>\n",
       "      <td>Columbia has adopted a one-year test optional ...</td>\n",
       "      <td>40203</td>\n",
       "      <td>5.5%</td>\n",
       "      <td>1450-1560</td>\n",
       "      <td>33-35</td>\n",
       "      <td>[33, 35]</td>\n",
       "      <td>33</td>\n",
       "      <td>35</td>\n",
       "      <td>None</td>\n",
       "      <td>drop</td>\n",
       "    </tr>\n",
       "    <tr>\n",
       "      <th>4</th>\n",
       "      <td>yale university</td>\n",
       "      <td>Yes</td>\n",
       "      <td>2021</td>\n",
       "      <td>Yale has adopted a one-year test optional poli...</td>\n",
       "      <td>36844</td>\n",
       "      <td>6.1%</td>\n",
       "      <td>1460-1570</td>\n",
       "      <td>33-35</td>\n",
       "      <td>[33, 35]</td>\n",
       "      <td>33</td>\n",
       "      <td>35</td>\n",
       "      <td>None</td>\n",
       "      <td>drop</td>\n",
       "    </tr>\n",
       "  </tbody>\n",
       "</table>\n",
       "</div>"
      ],
      "text/plain": [
       "                 School Test Optional? Applies to Class Year(s)  \\\n",
       "0   stanford university            Yes                     2021   \n",
       "1       harvard college            Yes                     2021   \n",
       "2  princeton university            Yes                     2021   \n",
       "3   columbia university            Yes                     2021   \n",
       "4       yale university            Yes                     2021   \n",
       "\n",
       "                                      Policy Details  Number of Applicants  \\\n",
       "0  Stanford has adopted a one-year test optional ...                 47452   \n",
       "1  Harvard has adopted a one-year test optional p...                 42749   \n",
       "2  Princeton has adopted a one-year test optional...                 35370   \n",
       "3  Columbia has adopted a one-year test optional ...                 40203   \n",
       "4  Yale has adopted a one-year test optional poli...                 36844   \n",
       "\n",
       "  Accept Rate SAT Total 25th-75th Percentile ACT Total 25th-75th Percentile  \\\n",
       "0        4.3%                      1440-1570                          32-35   \n",
       "1        4.7%                      1460-1580                          33-35   \n",
       "2        5.5%                      1440-1570                          32-35   \n",
       "3        5.5%                      1450-1560                          33-35   \n",
       "4        6.1%                      1460-1570                          33-35   \n",
       "\n",
       "  act 25-27 list percentil25th percentil27  drop public school state  \n",
       "0       [32, 35]            32          35  None                drop  \n",
       "1       [33, 35]            33          35  None                drop  \n",
       "2       [32, 35]            32          35  None                drop  \n",
       "3       [33, 35]            33          35  None                drop  \n",
       "4       [33, 35]            33          35  None                drop  "
      ]
     },
     "execution_count": 55,
     "metadata": {},
     "output_type": "execute_result"
    }
   ],
   "source": [
    "act_df_college_complete.head()"
   ]
  },
  {
   "cell_type": "code",
   "execution_count": 56,
   "metadata": {},
   "outputs": [
    {
     "data": {
      "text/plain": [
       "drop           379\n",
       "Virginia         4\n",
       "Texas            3\n",
       "Tennessee        2\n",
       "Mississippi      2\n",
       "Name: public school state, dtype: int64"
      ]
     },
     "execution_count": 56,
     "metadata": {},
     "output_type": "execute_result"
    }
   ],
   "source": [
    "act_df_college_complete['public school state'].value_counts().head()"
   ]
  },
  {
   "cell_type": "code",
   "execution_count": 57,
   "metadata": {},
   "outputs": [
    {
     "data": {
      "text/plain": [
       "Index(['School', 'Test Optional?', 'Applies to Class Year(s)',\n",
       "       'Policy Details', 'Number of Applicants', 'Accept Rate',\n",
       "       'SAT Total 25th-75th Percentile', 'ACT Total 25th-75th Percentile',\n",
       "       'act 25-27 list', 'percentil25th', 'percentil27', 'drop',\n",
       "       'public school state'],\n",
       "      dtype='object')"
      ]
     },
     "execution_count": 57,
     "metadata": {},
     "output_type": "execute_result"
    }
   ],
   "source": [
    "act_df_college_complete.columns"
   ]
  },
  {
   "cell_type": "code",
   "execution_count": 58,
   "metadata": {},
   "outputs": [
    {
     "data": {
      "text/html": [
       "<div>\n",
       "<style scoped>\n",
       "    .dataframe tbody tr th:only-of-type {\n",
       "        vertical-align: middle;\n",
       "    }\n",
       "\n",
       "    .dataframe tbody tr th {\n",
       "        vertical-align: top;\n",
       "    }\n",
       "\n",
       "    .dataframe thead th {\n",
       "        text-align: right;\n",
       "    }\n",
       "</style>\n",
       "<table border=\"1\" class=\"dataframe\">\n",
       "  <thead>\n",
       "    <tr style=\"text-align: right;\">\n",
       "      <th></th>\n",
       "      <th>Number of Applicants</th>\n",
       "      <th>Accept Rate</th>\n",
       "      <th>percentil25th</th>\n",
       "      <th>percentil27</th>\n",
       "      <th>public school state</th>\n",
       "    </tr>\n",
       "  </thead>\n",
       "  <tbody>\n",
       "    <tr>\n",
       "      <th>0</th>\n",
       "      <td>47452</td>\n",
       "      <td>4.3%</td>\n",
       "      <td>32</td>\n",
       "      <td>35</td>\n",
       "      <td>drop</td>\n",
       "    </tr>\n",
       "    <tr>\n",
       "      <th>1</th>\n",
       "      <td>42749</td>\n",
       "      <td>4.7%</td>\n",
       "      <td>33</td>\n",
       "      <td>35</td>\n",
       "      <td>drop</td>\n",
       "    </tr>\n",
       "    <tr>\n",
       "      <th>2</th>\n",
       "      <td>35370</td>\n",
       "      <td>5.5%</td>\n",
       "      <td>32</td>\n",
       "      <td>35</td>\n",
       "      <td>drop</td>\n",
       "    </tr>\n",
       "    <tr>\n",
       "      <th>3</th>\n",
       "      <td>40203</td>\n",
       "      <td>5.5%</td>\n",
       "      <td>33</td>\n",
       "      <td>35</td>\n",
       "      <td>drop</td>\n",
       "    </tr>\n",
       "    <tr>\n",
       "      <th>4</th>\n",
       "      <td>36844</td>\n",
       "      <td>6.1%</td>\n",
       "      <td>33</td>\n",
       "      <td>35</td>\n",
       "      <td>drop</td>\n",
       "    </tr>\n",
       "  </tbody>\n",
       "</table>\n",
       "</div>"
      ],
      "text/plain": [
       "   Number of Applicants Accept Rate percentil25th percentil27  \\\n",
       "0                 47452        4.3%            32          35   \n",
       "1                 42749        4.7%            33          35   \n",
       "2                 35370        5.5%            32          35   \n",
       "3                 40203        5.5%            33          35   \n",
       "4                 36844        6.1%            33          35   \n",
       "\n",
       "  public school state  \n",
       "0                drop  \n",
       "1                drop  \n",
       "2                drop  \n",
       "3                drop  \n",
       "4                drop  "
      ]
     },
     "execution_count": 58,
     "metadata": {},
     "output_type": "execute_result"
    }
   ],
   "source": [
    "# Now will drop all columns that are not needed for anaylsis\n",
    "act_df_college_complete.drop(\n",
    "    labels=['ACT Total 25th-75th Percentile','School','SAT Total 25th-75th Percentile',\n",
    "    'drop','Policy Details','Applies to Class Year(s)','Test Optional?','act 25-27 list'], \n",
    "    axis=1,\n",
    "    inplace = True)\n",
    "act_df_college_complete.head()"
   ]
  },
  {
   "cell_type": "code",
   "execution_count": 59,
   "metadata": {},
   "outputs": [],
   "source": [
    "# Now will drop all unnecessary info from rows that are not public universities returning a filtered df \n",
    "act_df_college_complete = act_df_college_complete[act_df_college_complete['public school state']!='drop']"
   ]
  },
  {
   "cell_type": "code",
   "execution_count": 60,
   "metadata": {},
   "outputs": [
    {
     "name": "stdout",
     "output_type": "stream",
     "text": [
      "(37, 5)\n"
     ]
    },
    {
     "data": {
      "text/html": [
       "<div>\n",
       "<style scoped>\n",
       "    .dataframe tbody tr th:only-of-type {\n",
       "        vertical-align: middle;\n",
       "    }\n",
       "\n",
       "    .dataframe tbody tr th {\n",
       "        vertical-align: top;\n",
       "    }\n",
       "\n",
       "    .dataframe thead th {\n",
       "        text-align: right;\n",
       "    }\n",
       "</style>\n",
       "<table border=\"1\" class=\"dataframe\">\n",
       "  <thead>\n",
       "    <tr style=\"text-align: right;\">\n",
       "      <th></th>\n",
       "      <th>Number of Applicants</th>\n",
       "      <th>Accept Rate</th>\n",
       "      <th>percentil25th</th>\n",
       "      <th>percentil27</th>\n",
       "      <th>public school state</th>\n",
       "    </tr>\n",
       "  </thead>\n",
       "  <tbody>\n",
       "    <tr>\n",
       "      <th>48</th>\n",
       "      <td>36856</td>\n",
       "      <td>20.6%</td>\n",
       "      <td>29</td>\n",
       "      <td>34</td>\n",
       "      <td>Georgia</td>\n",
       "    </tr>\n",
       "    <tr>\n",
       "      <th>57</th>\n",
       "      <td>40839</td>\n",
       "      <td>23.9%</td>\n",
       "      <td>30</td>\n",
       "      <td>34</td>\n",
       "      <td>Virginia</td>\n",
       "    </tr>\n",
       "    <tr>\n",
       "      <th>122</th>\n",
       "      <td>4676</td>\n",
       "      <td>45.3%</td>\n",
       "      <td>24</td>\n",
       "      <td>30</td>\n",
       "      <td>Texas</td>\n",
       "    </tr>\n",
       "    <tr>\n",
       "      <th>132</th>\n",
       "      <td>34886</td>\n",
       "      <td>48.8%</td>\n",
       "      <td>26</td>\n",
       "      <td>31</td>\n",
       "      <td>Connecticut</td>\n",
       "    </tr>\n",
       "    <tr>\n",
       "      <th>147</th>\n",
       "      <td>11756</td>\n",
       "      <td>53.1%</td>\n",
       "      <td>27</td>\n",
       "      <td>33</td>\n",
       "      <td>Colorado</td>\n",
       "    </tr>\n",
       "  </tbody>\n",
       "</table>\n",
       "</div>"
      ],
      "text/plain": [
       "     Number of Applicants Accept Rate percentil25th percentil27  \\\n",
       "48                  36856       20.6%            29          34   \n",
       "57                  40839       23.9%            30          34   \n",
       "122                  4676       45.3%            24          30   \n",
       "132                 34886       48.8%            26          31   \n",
       "147                 11756       53.1%            27          33   \n",
       "\n",
       "    public school state  \n",
       "48              Georgia  \n",
       "57             Virginia  \n",
       "122               Texas  \n",
       "132         Connecticut  \n",
       "147            Colorado  "
      ]
     },
     "execution_count": 60,
     "metadata": {},
     "output_type": "execute_result"
    }
   ],
   "source": [
    "# the complete data frame I want to begin comparisons between act trend over 3 years and the public university range\n",
    "print(act_df_college_complete.shape)\n",
    "\n",
    "act_df_college_complete.head()"
   ]
  },
  {
   "cell_type": "code",
   "execution_count": 61,
   "metadata": {},
   "outputs": [],
   "source": [
    "# changing format so that can be utilitzed corrently for pandas syntax \n",
    "act_df_college_complete.rename(\n",
    "    columns = {'Number of Applicants':'num_of_applicants',\n",
    "               'Accept Rate':'acceptance_rate',\n",
    "               'percentil25th': 'tot_percentile25',\n",
    "               'percentil27':'tot_percentile75',\n",
    "               'public school state':'pub_school_state'\n",
    "              },inplace=True)"
   ]
  },
  {
   "cell_type": "code",
   "execution_count": 62,
   "metadata": {},
   "outputs": [
    {
     "data": {
      "text/plain": [
       "Index(['num_of_applicants', 'acceptance_rate', 'tot_percentile25',\n",
       "       'tot_percentile75', 'pub_school_state'],\n",
       "      dtype='object')"
      ]
     },
     "execution_count": 62,
     "metadata": {},
     "output_type": "execute_result"
    }
   ],
   "source": [
    "# checking to confirm columns have changed\n",
    "act_df_college_complete.columns"
   ]
  },
  {
   "cell_type": "code",
   "execution_count": 63,
   "metadata": {},
   "outputs": [
    {
     "name": "stdout",
     "output_type": "stream",
     "text": [
      "we want integer:    int64\n",
      "we want float/int:  object\n",
      "we want integer:    object\n",
      "we want integer:    object\n",
      "we want object:     object\n"
     ]
    }
   ],
   "source": [
    "# checking data types \n",
    "print('we want integer:   ',act_df_college_complete['num_of_applicants'].dtypes) \n",
    "print('we want float/int: ',act_df_college_complete['acceptance_rate'].dtypes)\n",
    "print('we want integer:   ',act_df_college_complete['tot_percentile25'].dtypes)\n",
    "print('we want integer:   ',act_df_college_complete['tot_percentile75'].dtypes)\n",
    "print('we want object:    ',act_df_college_complete['pub_school_state'].dtypes)"
   ]
  },
  {
   "cell_type": "code",
   "execution_count": 64,
   "metadata": {},
   "outputs": [
    {
     "name": "stdout",
     "output_type": "stream",
     "text": [
      "['20.6%' '23.9%' '45.3%' '48.8%' '53.1%' '62.1%' '62.4%' '63.7%' '65.0%'\n",
      " '66.3%' '67.3%' '71.9%' '72.3%' '73.1%' '76.3%' '77.1%' '77.8%' '78.8%'\n",
      " '80.4%' '80.7%' '81.1%' '81.4%' '81.6%' '82.1%' '82.6%' '83.0%' '84.0%'\n",
      " '86.7%' '92.6%' '93.1%' '94.5%' '95.7%' '36.0%' '59.1%' '88.1%']\n",
      "\n",
      "['29' '30' '24' '26' '27' '22' '25' '20' '21' '23' '19.3' '19' '17']\n",
      "\n",
      "['34' '30' '31' '33' '29' '27' '25' '28' '26' '25.3' '24']\n"
     ]
    }
   ],
   "source": [
    "# checking to see if there are any unreasonable duplicates or data entry errors\n",
    "print(act_df_college_complete['acceptance_rate'].unique())\n",
    "print('')\n",
    "print(act_df_college_complete['tot_percentile25'].unique())\n",
    "print('')\n",
    "print(act_df_college_complete['tot_percentile75'].unique())"
   ]
  },
  {
   "cell_type": "code",
   "execution_count": 65,
   "metadata": {},
   "outputs": [],
   "source": [
    "# permanently converting % string to float\n",
    "act_df_college_complete['acceptance_rate'] = act_df_college_complete['acceptance_rate'].apply(prcnt_to_float)"
   ]
  },
  {
   "cell_type": "code",
   "execution_count": 66,
   "metadata": {},
   "outputs": [],
   "source": [
    "# permanently converting to int\n",
    "act_df_college_complete['tot_percentile25'] = act_df_college_complete['tot_percentile25'].apply(to_int)\n",
    "act_df_college_complete['tot_percentile75'] = act_df_college_complete['tot_percentile75'].apply(to_int)\n"
   ]
  },
  {
   "cell_type": "code",
   "execution_count": 67,
   "metadata": {},
   "outputs": [
    {
     "name": "stdout",
     "output_type": "stream",
     "text": [
      "we want integer:    int64\n",
      "we want float:  float64\n",
      "we want integer:    int64\n",
      "we want integer:    int64\n",
      "we want object:     object\n"
     ]
    }
   ],
   "source": [
    "# check make sure conversions worked out\n",
    "print('we want integer:   ',act_df_college_complete['num_of_applicants'].dtypes) \n",
    "print('we want float: ',act_df_college_complete['acceptance_rate'].dtypes)\n",
    "print('we want integer:   ',act_df_college_complete['tot_percentile25'].dtypes)\n",
    "print('we want integer:   ',act_df_college_complete['tot_percentile75'].dtypes)\n",
    "print('we want object:    ',act_df_college_complete['pub_school_state'].dtypes)"
   ]
  },
  {
   "cell_type": "code",
   "execution_count": 68,
   "metadata": {},
   "outputs": [],
   "source": [
    "# sorting df by public state names\n",
    "act_df_college_complete = act_df_college_complete.sort_values(by='pub_school_state')"
   ]
  },
  {
   "cell_type": "code",
   "execution_count": 69,
   "metadata": {},
   "outputs": [
    {
     "data": {
      "text/html": [
       "<div>\n",
       "<style scoped>\n",
       "    .dataframe tbody tr th:only-of-type {\n",
       "        vertical-align: middle;\n",
       "    }\n",
       "\n",
       "    .dataframe tbody tr th {\n",
       "        vertical-align: top;\n",
       "    }\n",
       "\n",
       "    .dataframe thead th {\n",
       "        text-align: right;\n",
       "    }\n",
       "</style>\n",
       "<table border=\"1\" class=\"dataframe\">\n",
       "  <thead>\n",
       "    <tr style=\"text-align: right;\">\n",
       "      <th></th>\n",
       "      <th>num_of_applicants</th>\n",
       "      <th>acceptance_rate</th>\n",
       "      <th>tot_percentile25</th>\n",
       "      <th>tot_percentile75</th>\n",
       "      <th>pub_school_state</th>\n",
       "    </tr>\n",
       "  </thead>\n",
       "  <tbody>\n",
       "    <tr>\n",
       "      <th>332</th>\n",
       "      <td>20205</td>\n",
       "      <td>0.807</td>\n",
       "      <td>25</td>\n",
       "      <td>31</td>\n",
       "      <td>Alabama</td>\n",
       "    </tr>\n",
       "    <tr>\n",
       "      <th>404</th>\n",
       "      <td>37302</td>\n",
       "      <td>0.591</td>\n",
       "      <td>23</td>\n",
       "      <td>31</td>\n",
       "      <td>Alabama</td>\n",
       "    </tr>\n",
       "    <tr>\n",
       "      <th>351</th>\n",
       "      <td>3673</td>\n",
       "      <td>0.830</td>\n",
       "      <td>17</td>\n",
       "      <td>24</td>\n",
       "      <td>Alaska</td>\n",
       "    </tr>\n",
       "    <tr>\n",
       "      <th>147</th>\n",
       "      <td>11756</td>\n",
       "      <td>0.531</td>\n",
       "      <td>27</td>\n",
       "      <td>33</td>\n",
       "      <td>Colorado</td>\n",
       "    </tr>\n",
       "    <tr>\n",
       "      <th>339</th>\n",
       "      <td>28319</td>\n",
       "      <td>0.814</td>\n",
       "      <td>23</td>\n",
       "      <td>29</td>\n",
       "      <td>Colorado</td>\n",
       "    </tr>\n",
       "  </tbody>\n",
       "</table>\n",
       "</div>"
      ],
      "text/plain": [
       "     num_of_applicants  acceptance_rate  tot_percentile25  tot_percentile75  \\\n",
       "332              20205            0.807                25                31   \n",
       "404              37302            0.591                23                31   \n",
       "351               3673            0.830                17                24   \n",
       "147              11756            0.531                27                33   \n",
       "339              28319            0.814                23                29   \n",
       "\n",
       "    pub_school_state  \n",
       "332          Alabama  \n",
       "404          Alabama  \n",
       "351           Alaska  \n",
       "147         Colorado  \n",
       "339         Colorado  "
      ]
     },
     "execution_count": 69,
     "metadata": {},
     "output_type": "execute_result"
    }
   ],
   "source": [
    "act_df_college_complete.head()"
   ]
  },
  {
   "cell_type": "code",
   "execution_count": 70,
   "metadata": {},
   "outputs": [],
   "source": [
    "# will now export this cleaned df to perform exploratory analysis in another notebook\n",
    "act_df_college_complete.to_csv('../data/pub_act_prcntile_by_st_score.csv', index=False)"
   ]
  },
  {
   "cell_type": "code",
   "execution_count": 71,
   "metadata": {},
   "outputs": [
    {
     "data": {
      "text/plain": [
       "Virginia    4\n",
       "Texas       3\n",
       "Kansas      2\n",
       "Name: pub_school_state, dtype: int64"
      ]
     },
     "execution_count": 71,
     "metadata": {},
     "output_type": "execute_result"
    }
   ],
   "source": [
    "act_df_college_complete['pub_school_state'].value_counts().head(3)"
   ]
  },
  {
   "cell_type": "code",
   "execution_count": 72,
   "metadata": {},
   "outputs": [],
   "source": [
    "# grouping college act percentile by state\n",
    "st_tot_percentile25 = act_df_college_complete['tot_percentile25'].groupby(act_df_college_complete['pub_school_state'])"
   ]
  },
  {
   "cell_type": "code",
   "execution_count": 73,
   "metadata": {},
   "outputs": [
    {
     "data": {
      "text/plain": [
       "pub_school_state\n",
       "Alabama          24.00\n",
       "Alaska           17.00\n",
       "Colorado         25.00\n",
       "Connecticut      26.00\n",
       "Delaware         25.00\n",
       "Florida          26.00\n",
       "Georgia          29.00\n",
       "Iowa             22.00\n",
       "Kansas           22.50\n",
       "Kentucky         23.00\n",
       "Maryland         20.00\n",
       "Mississippi      21.50\n",
       "Missouri         23.00\n",
       "Montana          21.00\n",
       "New Hampshire    22.00\n",
       "New Jersey       25.00\n",
       "North Dakota     20.00\n",
       "Ohio             22.50\n",
       "Oklahoma         23.00\n",
       "Oregon           22.00\n",
       "Rhode Island     20.00\n",
       "Tennessee        21.50\n",
       "Texas            21.67\n",
       "Utah             22.00\n",
       "Vermont          26.00\n",
       "Virginia         24.25\n",
       "Name: tot_percentile25, dtype: float64"
      ]
     },
     "execution_count": 73,
     "metadata": {},
     "output_type": "execute_result"
    }
   ],
   "source": [
    "# printing the means value\n",
    "round(st_tot_percentile25.mean(),2)"
   ]
  },
  {
   "cell_type": "code",
   "execution_count": null,
   "metadata": {},
   "outputs": [],
   "source": []
  },
  {
   "cell_type": "markdown",
   "metadata": {},
   "source": [
    "### Data Dictionary\n",
    "\n",
    "Now that we've fixed our data, and given it appropriate names, let's create a [data dictionary](http://library.ucmerced.edu/node/10249). \n",
    "\n",
    "A data dictionary provides a quick overview of features/variables/columns, alongside data types and descriptions. The more descriptive you can be, the more useful this document is.\n",
    "\n",
    "Example of a Fictional Data Dictionary Entry: \n",
    "\n",
    "|Feature|Type|Dataset|Description|\n",
    "|---|---|---|---|\n",
    "|**county_pop**|*integer*|2010 census|The population of the county (units in thousands, where 2.5 represents 2500 people).| \n",
    "|**per_poverty**|*float*|2010 census|The percent of the county over the age of 18 living below the 200% of official US poverty rate (units percent to two decimal places 98.10 means 98.1%)|\n",
    "\n",
    "[Here's a quick link to a short guide for formatting markdown in Jupyter notebooks](https://jupyter-notebook.readthedocs.io/en/stable/examples/Notebook/Working%20With%20Markdown%20Cells.html).\n",
    "\n",
    "Provided is the skeleton for formatting a markdown table, with columns headers that will help you create a data dictionary to quickly summarize your data, as well as some examples. **This would be a great thing to copy and paste into your custom README for this project.**\n",
    "\n",
    "*Note*: if you are unsure of what a feature is, check the source of the data! This can be found in the README."
   ]
  },
  {
   "cell_type": "markdown",
   "metadata": {},
   "source": [
    "**To-Do:** *Edit the table below to create your own data dictionary for the datasets you chose.*\n",
    "\n",
    "|Feature|Type|Dataset|Description|\n",
    "|---|---|---|---|\n",
    "|column name|int/float/object|ACT/SAT|This is an example| \n"
   ]
  },
  {
   "cell_type": "code",
   "execution_count": null,
   "metadata": {},
   "outputs": [],
   "source": []
  },
  {
   "cell_type": "code",
   "execution_count": 74,
   "metadata": {},
   "outputs": [
    {
     "name": "stdout",
     "output_type": "stream",
     "text": [
      "standard deviations for act yr 2017 {'participation_17': 0.32, 'composite_17': 2.01}\n",
      "standard deviations for act yr 2018 {'participation_18': 0.34, 'composite_18': 2.1}\n",
      "standard deviations for act yr 2019 {'participation_19': 0.34, 'composite_19': 2.18}\n"
     ]
    }
   ],
   "source": [
    "# creation using dictionary comprehension\n",
    "myDic17 = {column:manual_sd(act_df_17[column]) for column in act_df_17.drop(columns=['state']).columns} # cannot find the standard deviation for a state so dropped it in the loop\n",
    "myDic18 = {column:manual_sd(act_df_18[column]) for column in act_df_18.drop(columns=['state']).columns}\n",
    "myDic19 = {column:manual_sd(act_df_19[column]) for column in act_df_19.drop(columns=['state']).columns}\n",
    "\n",
    "print ('standard deviations for act yr 2017',myDic17) \n",
    "print ('standard deviations for act yr 2018',myDic18) \n",
    "print ('standard deviations for act yr 2019',myDic19) \n"
   ]
  },
  {
   "cell_type": "markdown",
   "metadata": {},
   "source": [
    "\n",
    "DISCUSS SD HERE IF HIGH/LOW "
   ]
  },
  {
   "cell_type": "markdown",
   "metadata": {},
   "source": [
    "It is easily noticeable that Utah and Wisconsin have fairly consistent ACT scores and have extremely high participation for the past three years in a row. However to be more inclusive I will take note of the top states for the past three years. So I will look into public universities within these states and compare their total ACT 75th percentile to the average act composite score their high schoolers are scoring from 2017-2019. "
   ]
  },
  {
   "cell_type": "markdown",
   "metadata": {},
   "source": [
    "---\n",
    "# Data Dictionary\n",
    "---\n",
    "\n",
    "The following is a summary of the features within various data sets that will be analyzed throughout this notebook. \n",
    "\n",
    "|Feature|Type|Dataset|Description|\n",
    "|---|---|---|---|\n",
    "|state|*object*|act_17_to_19|This is the state within the US.| \n",
    "|participation_17|*float*|act_17_to_19|This is the size of the high school population being tested in 2017.| \n",
    "|composite_17|*float*|act_17_to_19|This is the average composite score for for high school 2017.| \n",
    "|participation_18|*float*|act_17_to_19|This is the size of the high school population being tested in 2018.| \n",
    "|composite_18|float|*act_17_to_19*|This is the average composite score for 2018.| \n",
    "|participation_19|*float*|act_17_to_19|This is the size of the high school population being tested in 2019.| \n",
    "|composite_19|*float*|act_17_to_19|This is the average composite score for 2019.| \n",
    "|num_of_applicants|*int*|pub_act_prcntile_by_st_score|The number of university applicants that for each public state university.|\n",
    "|acceptance_rate|*float*|pub_act_prcntile_by_st_score|The percentage of students accepted based on the number of applicants| \n",
    "|tot_percentile25|*int*|pub_act_prcntile_by_st_score|The total 25% percentile, 25% of accepted students at public universities scored at or below on the listed composite score | \n",
    "|tot_percentile75|*int*|pub_act_prcntile_by_st_score|The total 75% percentile, 75% of accepted students at public universities scored at or below on the listed composite score | \n",
    "|pub_school_state|*object*|pub_act_prcntile_by_st_score|This is the state of each 4 year public university(duplicates within this column mean that multiple public school information avaliable for that school).| \n"
   ]
  },
  {
   "cell_type": "markdown",
   "metadata": {},
   "source": [
    "---\n",
    "## Data Sources\n",
    "\n",
    "There are 10 datasets included in the [`data`](./data/) folder for this project. You are required to pick **at least two** of these to complete your analysis. Feel free to use more than two if you would like, or add other relevant datasets you find online.\n",
    "\n",
    "* [`act_2017.csv`](./data/act_2017.csv): 2017 ACT Scores by State ([source](https://blog.prepscholar.com/act-scores-by-state-averages-highs-and-lows))\n",
    "* [`act_2018.csv`](./data/act_2018.csv): 2018 ACT Scores by State ([source](https://blog.prepscholar.com/act-scores-by-state-averages-highs-and-lows))\n",
    "* [`act_2019.csv`](./data/act_2019.csv): 2019 ACT Scores by State ([source](https://blog.prepscholar.com/act-scores-by-state-averages-highs-and-lows))\n",
    "* [`sat_act_by_college.csv`](./data/sat_act_by_college.csv): Ranges of Accepted ACT & SAT Student Scores by Colleges ([source](https://www.compassprep.com/college-profiles/))\n"
   ]
  }
 ],
 "metadata": {
  "anaconda-cloud": {},
  "kernelspec": {
   "display_name": "Python 3",
   "language": "python",
   "name": "python3"
  },
  "language_info": {
   "codemirror_mode": {
    "name": "ipython",
    "version": 3
   },
   "file_extension": ".py",
   "mimetype": "text/x-python",
   "name": "python",
   "nbconvert_exporter": "python",
   "pygments_lexer": "ipython3",
   "version": "3.8.8"
  }
 },
 "nbformat": 4,
 "nbformat_minor": 4
}
