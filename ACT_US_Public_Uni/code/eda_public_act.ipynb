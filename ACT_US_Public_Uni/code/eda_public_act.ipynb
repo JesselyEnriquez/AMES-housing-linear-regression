{
 "cells": [
  {
   "cell_type": "markdown",
   "metadata": {},
   "source": [
    "<img src=\"http://imgur.com/1ZcRyrc.png\" style=\"float: left; margin: 20px; height: 55px\">\n",
    "\n",
    "# Project 1: Standardized Test Analysis"
   ]
  },
  {
   "cell_type": "markdown",
   "metadata": {},
   "source": [
    "--- \n",
    "# Problem Statement\n",
    "---"
   ]
  },
  {
   "cell_type": "markdown",
   "metadata": {},
   "source": [
    "A national college preparatory program wants to investigate if public schools are generally accepting the students with average ACT scores. Since the program has no budget for the project they are asking to see if this is a line of questioning worthy of pursuing. \n",
    "<br>\n",
    "There are many factors that go into the admission process however the information gathered from this notebook could potentially work towards informing students on ther standing on a national level at public universities based on comparisons of average ACT scores. \n",
    "\n",
    "<br>\n",
    "This is to inform students that plan to apply in their own state If they should expect their scores to be advantages for public schools, however, being in-state applicant should give them a leg up on out-of-state applicants.\n",
    "\n",
    "I will select which states are most participative and their respective public universities to explore this potential connection. "
   ]
  },
  {
   "cell_type": "code",
   "execution_count": 83,
   "metadata": {},
   "outputs": [],
   "source": [
    "# Imports:\n",
    "import pandas as pd\n",
    "import matplotlib.pyplot as plt\n",
    "import numpy as np\n",
    "from scipy import stats\n",
    "import seaborn as sns\n",
    "import pprint\n",
    "\n",
    "%matplotlib inline"
   ]
  },
  {
   "cell_type": "markdown",
   "metadata": {},
   "source": [
    "## Outside Research\n",
    "Important Note because I was only looking at data avaliable for 2017 to 2019 I wanted to potentiallly gather the average composite scores for the years 2020-2022 I summarized the results of my search in the table below with the location linked. \n",
    "Average ACT scores from 2017 to 2019<br>\n",
    "\n",
    "|Year|*Source*|Average ACT Composite Score|\n",
    "|---|---|---|\n",
    "|2017|*ACT.Org [Source](https://www.act.org/content/dam/act/unsecured/documents/cccr2017/ACT_2017-Average_Scores_by_State.pdf)*|21.0|unk|\n",
    "|2018|*ACT.Org [Source](https://www.act.org/content/dam/act/unsecured/documents/cccr2018/Average-Scores-by-State.pdf)*|20.8|unk|\n",
    "|2019|*ACT.Org [Source](https://www.act.org/content/dam/act/secured/documents/cccr-2019/Average-Scores-by-State.pdf)*|20.7|unk|\n",
    "|2020|*ACT.Org [Source](https://www.act.org/content/dam/act/unsecured/documents/2020/2020-Average-ACT-Scores-by-State.pdf)*|20.6|unk|\n",
    "|2021|*ACT.Org [Source](https://www.act.org/content/dam/act/unsecured/documents/2021/2021-Average-ACT-Scores-by-State.pdf)*|20.7|unk|\n",
    "\n",
    "\n",
    "\n",
    "These averages are saying that about 50% of test-takers in the US earn at least a 21.0 in 2017, 20.8 in 2018, 20.7 in 2019, 20.6 in 202, etc. So we can clearly see that the national averages do not change much year to year. Therefore when attempting to draw conclustions about our public university range of accepted composite score we can hold the national averages 21-20.7 range to be a good indicator of where we generally would hope falls within the majority of percentile intervals.\n",
    "\n",
    "\n",
    "Additionally, we can note that there are states that have the ACT required for their graduation requirements. I have the sames of each test type and corresponding source in the table below:\n",
    "\n",
    "|State|*Source*|Test Type|\n",
    "|---|---|---|\n",
    "|Rhode Island|State Website [Source](http://www.ride.ri.gov/InstructionAssessment/Assessment/PSATandSAT.aspx#39491532-exemptions-from-testing)|SAT|\n",
    "|New Hampshire|Governement Website [Source](https://www.education.nh.gov/sites/g/files/ehbemt326/files/inline-documents/nh_sat_school_day_faqs.pdf)|SAT|\n",
    "|Michigan|Governement Website [Source](https://www.michigan.gov/documents/mde/Guide_to_State_Assessments_622260_7.pdf)|SAT|\n",
    "|Delaware|Governement Website [Source](https://www.doe.k12.de.us/Page/2717)|SAT|\n",
    "|Alabama|Governement Website [Source](https://www.alsde.edu/sec/sa/Pages/assessmentdetails.aspx?AssessmentName=ACT%20with%20Writing&navtext=ACT%20with%20Writing)|ACT|\n",
    "|Kentucky|Governement Website [Source](https://education.ky.gov/AA/Assessments/Pages/ACT.aspx)|ACT|\n",
    "|Louisiana|Governement Website [Source](https://www.louisianabelieves.com/measuringresults/assessments-for-high-schools)|ACT|\n",
    "|Mississippi|Governement Website [Source](https://mdek12.org/OSA/ACT)|ACT|\n",
    "|Montana|Governement Website [Source](http://opi.mt.gov/Leadership/Assessment-Accountability/MontCAS/Required-Assessments/ACT-With-Writing-FAQ)|ACT|\n",
    "|Nevada|Governement Website [Source](http://www.doe.nv.gov/Assessments/College_Career_Readiness_Assessments_ACT/)|ACT|\n",
    "|North Carolina|Governement Website [Source](https://www.dpi.nc.gov/districts-schools/federal-program-monitoring/every-student-succeeds-act-essa)|ACT|\n",
    "|Utah|Governement Website [Source](https://www.schools.utah.gov/assessment/assessments)|ACT|\n",
    "|Wisconsin|Governement Website [Source](https://dpi.wi.gov/assessment/act)|ACT|\n",
    "\n"
   ]
  },
  {
   "cell_type": "markdown",
   "metadata": {},
   "source": [
    "## Data Dictionary\n",
    "\n",
    "\n",
    "The following is a summary of the features within various data sets that will be analyzed throughout this notebook. \n",
    "\n",
    "|Feature|Type|Dataset|Description|\n",
    "|---|---|---|---|\n",
    "|state|*object*|act_17_to_19|This is the state within the US.| \n",
    "|participation_17|*float*|act_17_to_19|This is the size of the high school population being tested in 2017.| \n",
    "|composite_17|*float*|act_17_to_19|This is the average composite score for for high school 2017.| \n",
    "|participation_18|*float*|act_17_to_19|This is the size of the high school population being tested in 2018.| \n",
    "|composite_18|float|*act_17_to_19*|This is the average composite score for 2018.| \n",
    "|participation_19|*float*|act_17_to_19|This is the size of the high school population being tested in 2019.| \n",
    "|composite_19|*float*|act_17_to_19|This is the average composite score for 2019.| \n",
    "|num_of_applicants|*int*|pub_act_prcntile_by_st_score|The number of university applicants that for each public state university.|\n",
    "|acceptance_rate|*float*|pub_act_prcntile_by_st_score|The percentage of students accepted based on the number of applicants| \n",
    "|tot_percentile25|*int*|pub_act_prcntile_by_st_score|The total 25% percentile, 25% of accepted students at public universities scored at or below on the listed composite score | \n",
    "|tot_percentile75|*int*|pub_act_prcntile_by_st_score|The total 75% percentile, 75% of accepted students at public universities scored at or below on the listed composite score | \n",
    "|pub_school_state|*object*|pub_act_prcntile_by_st_score|This is the state of each 4 year public university(duplicates within this column mean that multiple public school information avaliable for that school).| \n",
    "\n"
   ]
  },
  {
   "cell_type": "code",
   "execution_count": 84,
   "metadata": {},
   "outputs": [],
   "source": [
    "#importing datasets\n",
    "\n",
    "pub_act_state_df = pd.read_csv('../data/pub_act_prcntile_by_st_score.csv')\n",
    "act_17_to_19_df = pd.read_csv('../data/act_17_to_19.csv')"
   ]
  },
  {
   "cell_type": "code",
   "execution_count": 85,
   "metadata": {},
   "outputs": [
    {
     "data": {
      "text/html": [
       "<div>\n",
       "<style scoped>\n",
       "    .dataframe tbody tr th:only-of-type {\n",
       "        vertical-align: middle;\n",
       "    }\n",
       "\n",
       "    .dataframe tbody tr th {\n",
       "        vertical-align: top;\n",
       "    }\n",
       "\n",
       "    .dataframe thead th {\n",
       "        text-align: right;\n",
       "    }\n",
       "</style>\n",
       "<table border=\"1\" class=\"dataframe\">\n",
       "  <thead>\n",
       "    <tr style=\"text-align: right;\">\n",
       "      <th></th>\n",
       "      <th>state</th>\n",
       "      <th>participation_17</th>\n",
       "      <th>composite_17</th>\n",
       "      <th>participation_18</th>\n",
       "      <th>composite_18</th>\n",
       "      <th>participation_19</th>\n",
       "      <th>composite_19</th>\n",
       "    </tr>\n",
       "  </thead>\n",
       "  <tbody>\n",
       "    <tr>\n",
       "      <th>0</th>\n",
       "      <td>Alabama</td>\n",
       "      <td>1.00</td>\n",
       "      <td>19.2</td>\n",
       "      <td>1.00</td>\n",
       "      <td>19.1</td>\n",
       "      <td>1.00</td>\n",
       "      <td>18.9</td>\n",
       "    </tr>\n",
       "    <tr>\n",
       "      <th>1</th>\n",
       "      <td>Alaska</td>\n",
       "      <td>0.65</td>\n",
       "      <td>19.8</td>\n",
       "      <td>0.33</td>\n",
       "      <td>20.8</td>\n",
       "      <td>0.38</td>\n",
       "      <td>20.1</td>\n",
       "    </tr>\n",
       "    <tr>\n",
       "      <th>2</th>\n",
       "      <td>Arizona</td>\n",
       "      <td>0.62</td>\n",
       "      <td>19.7</td>\n",
       "      <td>0.66</td>\n",
       "      <td>19.2</td>\n",
       "      <td>0.73</td>\n",
       "      <td>19.0</td>\n",
       "    </tr>\n",
       "    <tr>\n",
       "      <th>3</th>\n",
       "      <td>Arkansas</td>\n",
       "      <td>1.00</td>\n",
       "      <td>19.4</td>\n",
       "      <td>1.00</td>\n",
       "      <td>19.4</td>\n",
       "      <td>1.00</td>\n",
       "      <td>19.3</td>\n",
       "    </tr>\n",
       "    <tr>\n",
       "      <th>4</th>\n",
       "      <td>California</td>\n",
       "      <td>0.31</td>\n",
       "      <td>22.8</td>\n",
       "      <td>0.27</td>\n",
       "      <td>22.7</td>\n",
       "      <td>0.23</td>\n",
       "      <td>22.6</td>\n",
       "    </tr>\n",
       "  </tbody>\n",
       "</table>\n",
       "</div>"
      ],
      "text/plain": [
       "        state  participation_17  composite_17  participation_18  composite_18  \\\n",
       "0     Alabama              1.00          19.2              1.00          19.1   \n",
       "1      Alaska              0.65          19.8              0.33          20.8   \n",
       "2     Arizona              0.62          19.7              0.66          19.2   \n",
       "3    Arkansas              1.00          19.4              1.00          19.4   \n",
       "4  California              0.31          22.8              0.27          22.7   \n",
       "\n",
       "   participation_19  composite_19  \n",
       "0              1.00          18.9  \n",
       "1              0.38          20.1  \n",
       "2              0.73          19.0  \n",
       "3              1.00          19.3  \n",
       "4              0.23          22.6  "
      ]
     },
     "execution_count": 85,
     "metadata": {},
     "output_type": "execute_result"
    }
   ],
   "source": [
    "act_17_to_19_df.head()"
   ]
  },
  {
   "cell_type": "code",
   "execution_count": 86,
   "metadata": {},
   "outputs": [
    {
     "data": {
      "text/html": [
       "<div>\n",
       "<style scoped>\n",
       "    .dataframe tbody tr th:only-of-type {\n",
       "        vertical-align: middle;\n",
       "    }\n",
       "\n",
       "    .dataframe tbody tr th {\n",
       "        vertical-align: top;\n",
       "    }\n",
       "\n",
       "    .dataframe thead th {\n",
       "        text-align: right;\n",
       "    }\n",
       "</style>\n",
       "<table border=\"1\" class=\"dataframe\">\n",
       "  <thead>\n",
       "    <tr style=\"text-align: right;\">\n",
       "      <th></th>\n",
       "      <th>num_of_applicants</th>\n",
       "      <th>acceptance_rate</th>\n",
       "      <th>tot_percentile25</th>\n",
       "      <th>tot_percentile75</th>\n",
       "      <th>pub_school_state</th>\n",
       "    </tr>\n",
       "  </thead>\n",
       "  <tbody>\n",
       "    <tr>\n",
       "      <th>0</th>\n",
       "      <td>20205</td>\n",
       "      <td>0.807</td>\n",
       "      <td>25</td>\n",
       "      <td>31</td>\n",
       "      <td>Alabama</td>\n",
       "    </tr>\n",
       "    <tr>\n",
       "      <th>1</th>\n",
       "      <td>37302</td>\n",
       "      <td>0.591</td>\n",
       "      <td>23</td>\n",
       "      <td>31</td>\n",
       "      <td>Alabama</td>\n",
       "    </tr>\n",
       "    <tr>\n",
       "      <th>2</th>\n",
       "      <td>3673</td>\n",
       "      <td>0.830</td>\n",
       "      <td>17</td>\n",
       "      <td>24</td>\n",
       "      <td>Alaska</td>\n",
       "    </tr>\n",
       "    <tr>\n",
       "      <th>3</th>\n",
       "      <td>11756</td>\n",
       "      <td>0.531</td>\n",
       "      <td>27</td>\n",
       "      <td>33</td>\n",
       "      <td>Colorado</td>\n",
       "    </tr>\n",
       "    <tr>\n",
       "      <th>4</th>\n",
       "      <td>28319</td>\n",
       "      <td>0.814</td>\n",
       "      <td>23</td>\n",
       "      <td>29</td>\n",
       "      <td>Colorado</td>\n",
       "    </tr>\n",
       "  </tbody>\n",
       "</table>\n",
       "</div>"
      ],
      "text/plain": [
       "   num_of_applicants  acceptance_rate  tot_percentile25  tot_percentile75  \\\n",
       "0              20205            0.807                25                31   \n",
       "1              37302            0.591                23                31   \n",
       "2               3673            0.830                17                24   \n",
       "3              11756            0.531                27                33   \n",
       "4              28319            0.814                23                29   \n",
       "\n",
       "  pub_school_state  \n",
       "0          Alabama  \n",
       "1          Alabama  \n",
       "2           Alaska  \n",
       "3         Colorado  \n",
       "4         Colorado  "
      ]
     },
     "execution_count": 86,
     "metadata": {},
     "output_type": "execute_result"
    }
   ],
   "source": [
    "pub_act_state_df.head()"
   ]
  },
  {
   "cell_type": "markdown",
   "metadata": {},
   "source": [
    "## Helper Functions"
   ]
  },
  {
   "cell_type": "code",
   "execution_count": 87,
   "metadata": {},
   "outputs": [],
   "source": [
    "# The following code block will establish basic functions that may be necessary to use later on in the notebook\n",
    "\n",
    "# manual_mean() will be used to manually calculate the mean of a values\n",
    "def manual_mean(num_list):\n",
    "    '''The manual_mean function will be used to manually calculate the mean of a values of a list. manual_mean(list)'''\n",
    "    return round(sum(num_list)/len(num_list),2)\n",
    "\n",
    "# manual_sd() will be used to manually calculate the standard deviation of a numerical list\n",
    "def manual_sd(num_list):\n",
    "  n = len(num_list)\n",
    "  mean = manual_mean(num_list)\n",
    "  deviations = [(x - mean) ** 2 for x in num_list]\n",
    "  variance = sum(deviations) / n\n",
    "  return round(variance**0.5,2)"
   ]
  },
  {
   "cell_type": "markdown",
   "metadata": {},
   "source": [
    "---\n",
    "# Exploratory Data Analysis\n",
    "---"
   ]
  },
  {
   "cell_type": "markdown",
   "metadata": {},
   "source": [
    "## Summary Statistics\n"
   ]
  },
  {
   "cell_type": "code",
   "execution_count": 88,
   "metadata": {},
   "outputs": [
    {
     "data": {
      "text/html": [
       "<div>\n",
       "<style scoped>\n",
       "    .dataframe tbody tr th:only-of-type {\n",
       "        vertical-align: middle;\n",
       "    }\n",
       "\n",
       "    .dataframe tbody tr th {\n",
       "        vertical-align: top;\n",
       "    }\n",
       "\n",
       "    .dataframe thead th {\n",
       "        text-align: right;\n",
       "    }\n",
       "</style>\n",
       "<table border=\"1\" class=\"dataframe\">\n",
       "  <thead>\n",
       "    <tr style=\"text-align: right;\">\n",
       "      <th></th>\n",
       "      <th>participation_17</th>\n",
       "      <th>composite_17</th>\n",
       "      <th>participation_18</th>\n",
       "      <th>composite_18</th>\n",
       "      <th>participation_19</th>\n",
       "      <th>composite_19</th>\n",
       "    </tr>\n",
       "  </thead>\n",
       "  <tbody>\n",
       "    <tr>\n",
       "      <th>count</th>\n",
       "      <td>50.000000</td>\n",
       "      <td>50.000000</td>\n",
       "      <td>50.000000</td>\n",
       "      <td>50.000000</td>\n",
       "      <td>50.000000</td>\n",
       "      <td>50.000000</td>\n",
       "    </tr>\n",
       "    <tr>\n",
       "      <th>mean</th>\n",
       "      <td>0.645600</td>\n",
       "      <td>21.546000</td>\n",
       "      <td>0.609600</td>\n",
       "      <td>21.526000</td>\n",
       "      <td>0.578400</td>\n",
       "      <td>21.498000</td>\n",
       "    </tr>\n",
       "    <tr>\n",
       "      <th>std</th>\n",
       "      <td>0.320778</td>\n",
       "      <td>2.032311</td>\n",
       "      <td>0.339363</td>\n",
       "      <td>2.122072</td>\n",
       "      <td>0.343525</td>\n",
       "      <td>2.203753</td>\n",
       "    </tr>\n",
       "    <tr>\n",
       "      <th>min</th>\n",
       "      <td>0.080000</td>\n",
       "      <td>17.800000</td>\n",
       "      <td>0.070000</td>\n",
       "      <td>17.700000</td>\n",
       "      <td>0.060000</td>\n",
       "      <td>17.900000</td>\n",
       "    </tr>\n",
       "    <tr>\n",
       "      <th>25%</th>\n",
       "      <td>0.310000</td>\n",
       "      <td>19.800000</td>\n",
       "      <td>0.277500</td>\n",
       "      <td>19.925000</td>\n",
       "      <td>0.242500</td>\n",
       "      <td>19.800000</td>\n",
       "    </tr>\n",
       "    <tr>\n",
       "      <th>50%</th>\n",
       "      <td>0.680000</td>\n",
       "      <td>21.400000</td>\n",
       "      <td>0.655000</td>\n",
       "      <td>21.300000</td>\n",
       "      <td>0.515000</td>\n",
       "      <td>21.150000</td>\n",
       "    </tr>\n",
       "    <tr>\n",
       "      <th>75%</th>\n",
       "      <td>1.000000</td>\n",
       "      <td>23.600000</td>\n",
       "      <td>1.000000</td>\n",
       "      <td>23.675000</td>\n",
       "      <td>1.000000</td>\n",
       "      <td>23.750000</td>\n",
       "    </tr>\n",
       "    <tr>\n",
       "      <th>max</th>\n",
       "      <td>1.000000</td>\n",
       "      <td>25.500000</td>\n",
       "      <td>1.000000</td>\n",
       "      <td>25.600000</td>\n",
       "      <td>1.000000</td>\n",
       "      <td>25.500000</td>\n",
       "    </tr>\n",
       "  </tbody>\n",
       "</table>\n",
       "</div>"
      ],
      "text/plain": [
       "       participation_17  composite_17  participation_18  composite_18  \\\n",
       "count         50.000000     50.000000         50.000000     50.000000   \n",
       "mean           0.645600     21.546000          0.609600     21.526000   \n",
       "std            0.320778      2.032311          0.339363      2.122072   \n",
       "min            0.080000     17.800000          0.070000     17.700000   \n",
       "25%            0.310000     19.800000          0.277500     19.925000   \n",
       "50%            0.680000     21.400000          0.655000     21.300000   \n",
       "75%            1.000000     23.600000          1.000000     23.675000   \n",
       "max            1.000000     25.500000          1.000000     25.600000   \n",
       "\n",
       "       participation_19  composite_19  \n",
       "count         50.000000     50.000000  \n",
       "mean           0.578400     21.498000  \n",
       "std            0.343525      2.203753  \n",
       "min            0.060000     17.900000  \n",
       "25%            0.242500     19.800000  \n",
       "50%            0.515000     21.150000  \n",
       "75%            1.000000     23.750000  \n",
       "max            1.000000     25.500000  "
      ]
     },
     "execution_count": 88,
     "metadata": {},
     "output_type": "execute_result"
    }
   ],
   "source": [
    "# taking a peak at info statistics but cautionary because not all will be appropriate\n",
    "act_17_to_19_df.describe()"
   ]
  },
  {
   "cell_type": "markdown",
   "metadata": {},
   "source": [
    "\n",
    "The very noteable information here to consider moving through the analysis is that the average participation and composite quanitites do not vary much but I will look to see visually in the box plots.\n",
    "<br><br>\n",
    "For the participation rates we can note that the mean over time appears to be decreasing, whether that be from the increase of test optional policies increasing year to year. This could also potentially be because of as my outside research found."
   ]
  },
  {
   "cell_type": "code",
   "execution_count": 89,
   "metadata": {},
   "outputs": [
    {
     "data": {
      "text/html": [
       "<div>\n",
       "<style scoped>\n",
       "    .dataframe tbody tr th:only-of-type {\n",
       "        vertical-align: middle;\n",
       "    }\n",
       "\n",
       "    .dataframe tbody tr th {\n",
       "        vertical-align: top;\n",
       "    }\n",
       "\n",
       "    .dataframe thead th {\n",
       "        text-align: right;\n",
       "    }\n",
       "</style>\n",
       "<table border=\"1\" class=\"dataframe\">\n",
       "  <thead>\n",
       "    <tr style=\"text-align: right;\">\n",
       "      <th></th>\n",
       "      <th>num_of_applicants</th>\n",
       "      <th>acceptance_rate</th>\n",
       "      <th>tot_percentile25</th>\n",
       "      <th>tot_percentile75</th>\n",
       "    </tr>\n",
       "  </thead>\n",
       "  <tbody>\n",
       "    <tr>\n",
       "      <th>count</th>\n",
       "      <td>37.000000</td>\n",
       "      <td>37.000000</td>\n",
       "      <td>37.000000</td>\n",
       "      <td>37.000000</td>\n",
       "    </tr>\n",
       "    <tr>\n",
       "      <th>mean</th>\n",
       "      <td>20624.378378</td>\n",
       "      <td>0.716486</td>\n",
       "      <td>22.918919</td>\n",
       "      <td>28.891892</td>\n",
       "    </tr>\n",
       "    <tr>\n",
       "      <th>std</th>\n",
       "      <td>11346.870796</td>\n",
       "      <td>0.182445</td>\n",
       "      <td>2.701629</td>\n",
       "      <td>2.318809</td>\n",
       "    </tr>\n",
       "    <tr>\n",
       "      <th>min</th>\n",
       "      <td>3673.000000</td>\n",
       "      <td>0.206000</td>\n",
       "      <td>17.000000</td>\n",
       "      <td>24.000000</td>\n",
       "    </tr>\n",
       "    <tr>\n",
       "      <th>25%</th>\n",
       "      <td>15093.000000</td>\n",
       "      <td>0.637000</td>\n",
       "      <td>21.000000</td>\n",
       "      <td>28.000000</td>\n",
       "    </tr>\n",
       "    <tr>\n",
       "      <th>50%</th>\n",
       "      <td>19324.000000</td>\n",
       "      <td>0.778000</td>\n",
       "      <td>23.000000</td>\n",
       "      <td>29.000000</td>\n",
       "    </tr>\n",
       "    <tr>\n",
       "      <th>75%</th>\n",
       "      <td>25393.000000</td>\n",
       "      <td>0.821000</td>\n",
       "      <td>24.000000</td>\n",
       "      <td>30.000000</td>\n",
       "    </tr>\n",
       "    <tr>\n",
       "      <th>max</th>\n",
       "      <td>58936.000000</td>\n",
       "      <td>0.957000</td>\n",
       "      <td>30.000000</td>\n",
       "      <td>34.000000</td>\n",
       "    </tr>\n",
       "  </tbody>\n",
       "</table>\n",
       "</div>"
      ],
      "text/plain": [
       "       num_of_applicants  acceptance_rate  tot_percentile25  tot_percentile75\n",
       "count          37.000000        37.000000         37.000000         37.000000\n",
       "mean        20624.378378         0.716486         22.918919         28.891892\n",
       "std         11346.870796         0.182445          2.701629          2.318809\n",
       "min          3673.000000         0.206000         17.000000         24.000000\n",
       "25%         15093.000000         0.637000         21.000000         28.000000\n",
       "50%         19324.000000         0.778000         23.000000         29.000000\n",
       "75%         25393.000000         0.821000         24.000000         30.000000\n",
       "max         58936.000000         0.957000         30.000000         34.000000"
      ]
     },
     "execution_count": 89,
     "metadata": {},
     "output_type": "execute_result"
    }
   ],
   "source": [
    "pub_act_state_df.describe()"
   ]
  },
  {
   "cell_type": "markdown",
   "metadata": {},
   "source": [
    "The key summary statistics provided above can be considered are the average number of applicants for public universities, 20,624 applicants. The respective standard deviation of approximately 11,347 tells me that the range of data itself is fairly well spread out. I will explore the potential relation between num_of_applicants and acceptance_rate that will help visualize the spread of the data. However the significantce of the spread of applicants itself is not that relevant to determining our average percentile ranges for popular public universities in the US. "
   ]
  },
  {
   "cell_type": "markdown",
   "metadata": {},
   "source": [
    "---"
   ]
  },
  {
   "cell_type": "markdown",
   "metadata": {},
   "source": [
    "#### Median for Act Composite Scores from 2017-2019 and Total Percentiles of Public Universities"
   ]
  },
  {
   "cell_type": "code",
   "execution_count": 90,
   "metadata": {},
   "outputs": [
    {
     "name": "stdout",
     "output_type": "stream",
     "text": [
      "median stats for ACT composite scores from 2017-2019:\n",
      "{'composite_17': 21.4,\n",
      " 'composite_18': 21.3,\n",
      " 'composite_19': 21.15,\n",
      " 'participation_17': 0.68,\n",
      " 'participation_18': 0.66,\n",
      " 'participation_19': 0.52}\n",
      "\n",
      "median stats all public state universities in the US::\n",
      "{'composite_17': 21.4,\n",
      " 'composite_18': 21.3,\n",
      " 'composite_19': 21.15,\n",
      " 'participation_17': 0.68,\n",
      " 'participation_18': 0.66,\n",
      " 'participation_19': 0.52}\n"
     ]
    }
   ],
   "source": [
    "median_Dict_act_all = {column:round(act_17_to_19_df[column].median(),2) for column in act_17_to_19_df.drop(columns=['state']).columns} # cannot find the standard deviation for a state so dropped it in the loop\n",
    "median_Dict_pub_st = {column:round(pub_act_state_df[column].median(),2) for column in pub_act_state_df.drop(columns=['pub_school_state']).columns} # cannot find the standard deviation for a state so dropped it in the loop\n",
    "\n",
    "\n",
    "print('median stats for ACT composite scores from 2017-2019:')\n",
    "pprint.pprint(median_Dict_act_all)\n",
    "print('')\n",
    "print('median stats all public state universities in the US::')\n",
    "pprint.pprint(median_Dict_act_all)"
   ]
  },
  {
   "cell_type": "markdown",
   "metadata": {},
   "source": [
    "These values will be relavant when looking at the boxplots of this data below. "
   ]
  },
  {
   "cell_type": "markdown",
   "metadata": {},
   "source": [
    "#### Means for Act Composite Scores from 2017-2019 and Total Percentiles of Public Universities"
   ]
  },
  {
   "cell_type": "code",
   "execution_count": 91,
   "metadata": {},
   "outputs": [
    {
     "name": "stdout",
     "output_type": "stream",
     "text": [
      "Mean US ACT composite scores from 2017 to 2019:\n",
      "{'composite_17': 21.55,\n",
      " 'composite_18': 21.53,\n",
      " 'composite_19': 21.5,\n",
      " 'participation_17': 0.65,\n",
      " 'participation_18': 0.61,\n",
      " 'participation_19': 0.58}\n",
      "\n",
      "Mean for all public state universities in the US:\n",
      "{'acceptance_rate': 0.72,\n",
      " 'num_of_applicants': 20624.38,\n",
      " 'tot_percentile25': 22.92,\n",
      " 'tot_percentile75': 28.89}\n"
     ]
    }
   ],
   "source": [
    "# creation dictionary of mean for each column in each dataset\n",
    "mean_Dict_act_all = {column:manual_mean(act_17_to_19_df[column]) for column in act_17_to_19_df.drop(columns=['state']).columns} # cannot find the standard deviation for a state so dropped it in the loop\n",
    "\n",
    "mean_Dict_pub_st = {column:manual_mean(pub_act_state_df[column]) for column in pub_act_state_df.drop(columns=['pub_school_state']).columns} # cannot find the standard deviation for a state so dropped it in the loop\n",
    "\n",
    "print('Mean US ACT composite scores from 2017 to 2019:',)\n",
    "pprint.pprint (mean_Dict_act_all) \n",
    "print('')\n",
    "print ('Mean for all public state universities in the US:')\n",
    "pprint.pprint(mean_Dict_pub_st)"
   ]
  },
  {
   "cell_type": "markdown",
   "metadata": {},
   "source": [
    "The composite scores seem to maintain the same maginitude throughout the three years this is definitely a key of interest since we know that they design the test to not change by design. "
   ]
  },
  {
   "cell_type": "markdown",
   "metadata": {},
   "source": [
    "#### Standard Deviations for Act Composite Scores from 2017-2019 and Total Percentiles of Public Universities"
   ]
  },
  {
   "cell_type": "code",
   "execution_count": 92,
   "metadata": {},
   "outputs": [
    {
     "name": "stdout",
     "output_type": "stream",
     "text": [
      "Standard Deviations US ACTfrom 2017 to 2019:\n",
      "{'composite_17': 2.01,\n",
      " 'composite_18': 2.1,\n",
      " 'composite_19': 2.18,\n",
      " 'participation_17': 0.32,\n",
      " 'participation_18': 0.34,\n",
      " 'participation_19': 0.34}\n",
      "\n",
      "Standard Deviations for public state universities in the US (avaliable in our dataset):\n",
      "{'acceptance_rate': 0.18,\n",
      " 'num_of_applicants': 11192.48,\n",
      " 'tot_percentile25': 2.66,\n",
      " 'tot_percentile75': 2.29}\n"
     ]
    }
   ],
   "source": [
    "# creation dictionary of sd for each column in each dataset\n",
    "sd_Dict_act_all = {column:manual_sd(act_17_to_19_df[column]) for column in act_17_to_19_df.drop(columns=['state']).columns} # cannot find the standard deviation for a state so dropped it in the loop\n",
    "\n",
    "sd_Dict_pub_st = {column:manual_sd(pub_act_state_df[column]) for column in pub_act_state_df.drop(columns=['pub_school_state']).columns} # cannot find the standard deviation for a state so dropped it in the loop\n",
    "\n",
    "print('Standard Deviations US ACTfrom 2017 to 2019:')\n",
    "pprint.pprint (sd_Dict_act_all) \n",
    "print('')\n",
    "print ('Standard Deviations for public state universities in the US (avaliable in our dataset):')\n",
    "pprint.pprint(sd_Dict_pub_st)"
   ]
  },
  {
   "cell_type": "markdown",
   "metadata": {},
   "source": [
    "Significant notes are that the total average percentiles for public universities (again a larger dataset would be more accurate) are the ranges we are looking to identify. We can now see that there is a average range of percentiles for public universities which could guide students whose ACT Composite score is at the national average of approximately 21.5. The range of average percentile public School Admitting Score[25 percentile,27 percentile] based on this data set is [22.9, 28.89]. Unfortunately the national average does not fall within that percentile range of admitted students but it is fairly close and with a more inclusive dataset could potentially be closer than what it produced here. \n",
    "\n",
    "Additionally, from our public university data set is that the average total amount of applicants that applied to a public university in the US is 20,625 with a standard deviation of 11,193. So we can assume that our data is fairly spread from the mean, lots of variance in the data. The other standard deviations do not show as significant deviation from the mean so hopefully better insights can be drawn when looking at correlations and scatter plots. \n",
    "\n",
    "Now we cannot conclude that it is a definite certainty and other percentages would need to be considered but it is a good starting point to attempt to explore further with more data. I will continue exploring what else could be potentially useful for "
   ]
  },
  {
   "cell_type": "markdown",
   "metadata": {},
   "source": [
    "We can tell that nationally the ACT standard devation of the scores do not appear to change from 2017 to 2019 which supports the conclusion that the ACT composite range does not change from year to year all that much. "
   ]
  },
  {
   "cell_type": "markdown",
   "metadata": {},
   "source": [
    "### Important Note of pub_act_state_df dataset\n",
    "It is important to note that there were were not too many public universities within my  [`sat_act_by_college.csv`](./data/sat_act_by_college.csv) dataset as I initially planned. The average percentile ranges for popular pubilc universities and standard deviations must be taken with a grain of salt as many states were dropped when cross referencing my public university list. \n",
    "\n",
    "\n",
    "<br>\n",
    "Showing the states that makes the averages we are trying to identify in to address whether or not our typical students with the national average or if they if the a student need to significantly increase their score according to the average 25th and 75th percentile ranges of public universities. "
   ]
  },
  {
   "cell_type": "code",
   "execution_count": 93,
   "metadata": {},
   "outputs": [
    {
     "data": {
      "text/plain": [
       "array(['Alabama', 'Alaska', 'Colorado', 'Connecticut', 'Delaware',\n",
       "       'Florida', 'Georgia', 'Iowa', 'Kansas', 'Kentucky', 'Maryland',\n",
       "       'Mississippi', 'Missouri', 'Montana', 'New Hampshire',\n",
       "       'New Jersey ', 'North Dakota', 'Ohio', 'Oklahoma', 'Oregon',\n",
       "       'Rhode Island', 'Tennessee', 'Texas', 'Utah', 'Vermont ',\n",
       "       'Virginia'], dtype=object)"
      ]
     },
     "execution_count": 93,
     "metadata": {},
     "output_type": "execute_result"
    }
   ],
   "source": [
    "# checking to see how many unqiue values will plot simple count plot\n",
    "pub_act_state_df['pub_school_state'].unique()"
   ]
  },
  {
   "cell_type": "code",
   "execution_count": 94,
   "metadata": {},
   "outputs": [
    {
     "data": {
      "image/png": "[encoded data removed]",
      "text/plain": [
       "<Figure size 432x288 with 1 Axes>"
      ]
     },
     "metadata": {
      "needs_background": "light"
     },
     "output_type": "display_data"
    }
   ],
   "source": [
    "# quick diplay of the public schools we have accepted students and ACT data range  \n",
    "sns.countplot(y=pub_act_state_df['pub_school_state']);\n",
    "#create title\n",
    "plt.title('Spread of ACT Participation In 2017')\n",
    "plt.title('Number Avaliable ACT Ranges for Public US Universities')\n",
    "#rotate tick labels\n",
    "plt.xticks(rotation = 90);\n",
    "#label out x and y\n",
    "plt.xlabel('Count of Avaliable Public Universities ACT Range')\n",
    "plt.ylabel('State');\n",
    "plt.show()"
   ]
  },
  {
   "cell_type": "markdown",
   "metadata": {},
   "source": [
    "---"
   ]
  },
  {
   "cell_type": "markdown",
   "metadata": {},
   "source": [
    "##### Box Plot Dive into Summary Stats"
   ]
  },
  {
   "cell_type": "code",
   "execution_count": 95,
   "metadata": {},
   "outputs": [
    {
     "data": {
      "image/png": "[encoded data removed]",
      "text/plain": [
       "<Figure size 432x288 with 1 Axes>"
      ]
     },
     "metadata": {
      "needs_background": "light"
     },
     "output_type": "display_data"
    }
   ],
   "source": [
    "# participation_17\n",
    "sns.boxplot(x=act_17_to_19_df['composite_17']); \n",
    "#create title\n",
    "plt.title('Spread of ACT Composite In 2017')\n",
    "\n",
    "#rotate tick labels\n",
    "plt.xticks(rotation = 0);\n",
    "\n",
    "#label out x and y\n",
    "plt.xlabel('ACT Composite Score')\n",
    "\n",
    "plt.show()\n"
   ]
  },
  {
   "cell_type": "markdown",
   "metadata": {},
   "source": [
    "Here we can see that the majority of the datapoints can be found to be greater than the average meand of approximately 21.5 which was confirmed from our above statistics saved in our dictionary mean_Dict_act_all ('composite_17': 21.55)."
   ]
  },
  {
   "cell_type": "code",
   "execution_count": 96,
   "metadata": {},
   "outputs": [
    {
     "data": {
      "image/png": "[encoded data removed]",
      "text/plain": [
       "<Figure size 432x288 with 1 Axes>"
      ]
     },
     "metadata": {
      "needs_background": "light"
     },
     "output_type": "display_data"
    }
   ],
   "source": [
    "# participation_19\n",
    "sns.boxplot(x=act_17_to_19_df['composite_18']); \n",
    "#create title\n",
    "plt.title('Spread of ACT Composite In 2018')\n",
    "\n",
    "#rotate tick labels\n",
    "plt.xticks(rotation = 0);\n",
    "\n",
    "#label out x and y\n",
    "plt.xlabel('ACT Composite Score')\n",
    "\n",
    "plt.show()\n",
    "\n"
   ]
  },
  {
   "cell_type": "markdown",
   "metadata": {},
   "source": [
    "Scatter Plot of ACT Composite Score in 2018: <br>\n",
    "Here we can see that the majority of the datapoints can be found to be greater than the average meand of approximately 21.5 which was confirmed from our above statistics saved in our dictionary mean_Dict_act_all('composite_18': 21.53)."
   ]
  },
  {
   "cell_type": "code",
   "execution_count": 97,
   "metadata": {},
   "outputs": [
    {
     "data": {
      "image/png": "[encoded data removed]",
      "text/plain": [
       "<Figure size 432x288 with 1 Axes>"
      ]
     },
     "metadata": {
      "needs_background": "light"
     },
     "output_type": "display_data"
    }
   ],
   "source": [
    "# participation_19\n",
    "sns.boxplot(x=act_17_to_19_df['composite_19']); \n",
    "#create title\n",
    "plt.title('Spread of ACT Composite In 2019')\n",
    "#rotate tick labels\n",
    "plt.xticks(rotation = 0);\n",
    "#label out x and y\n",
    "plt.xlabel('ACT Composite Score')\n",
    "plt.show()"
   ]
  },
  {
   "cell_type": "markdown",
   "metadata": {},
   "source": [
    "Scatter Plot of ACT Composite Score in 2019: <br>\n",
    "This plot visually demonstrates the key stats from above where we can see the majority of the data points are scoring above 21 on average in the US confirming our mean from mean_DIct_act_all( 'composite_19': 21.5).  \n",
    "<br>\n",
    "###### Scatter Plot Summary for ACT 2017-2019\n",
    "We can see that the average remains pretty consistent with the averages above so we can conlude that the ACT score is working as designed (to ever so gradually). "
   ]
  },
  {
   "cell_type": "code",
   "execution_count": 98,
   "metadata": {},
   "outputs": [
    {
     "data": {
      "image/png": "[encoded data removed]",
      "text/plain": [
       "<Figure size 432x288 with 1 Axes>"
      ]
     },
     "metadata": {
      "needs_background": "light"
     },
     "output_type": "display_data"
    }
   ],
   "source": [
    "sns.boxplot(x=pub_act_state_df['tot_percentile25']);\n",
    "#create title\n",
    "plt.title('Spread of  ACT 25th Percentile in Public Universities')\n",
    "#rotate tick labels\n",
    "plt.xticks(rotation = 0);\n",
    "#label out x and y\n",
    "plt.xlabel('Count of Avaliable Public Universities ACT Range')\n",
    "plt.show()"
   ]
  },
  {
   "cell_type": "code",
   "execution_count": 99,
   "metadata": {},
   "outputs": [
    {
     "data": {
      "image/png": "[encoded data removed]",
      "text/plain": [
       "<Figure size 432x288 with 1 Axes>"
      ]
     },
     "metadata": {
      "needs_background": "light"
     },
     "output_type": "display_data"
    }
   ],
   "source": [
    "sns.boxplot(x=pub_act_state_df['tot_percentile75']); \n",
    "#create title\n",
    "plt.title('Spread of ACT 75th Percentile in Public Universities')\n",
    "#rotate tick labels\n",
    "plt.xticks(rotation = 90);\n",
    "#label out x and y\n",
    "plt.xlabel('Count of Avaliable Public Universities ACT Range')\n",
    "plt.ylabel('State');\n",
    "plt.show()"
   ]
  },
  {
   "cell_type": "markdown",
   "metadata": {},
   "source": [
    "Summary of box plots for 25th & 75th Percentile of accepted students at public universites.\n",
    "\n",
    "We can note that there is a very narrow distribution of the data for the average 25th and 75th percentile ranges. Most of the data for the 25th percentile is mostly below 23 meaning most students accepted in the 25th percentil at public universities score below 23 on the ACT. Given this I can easily see that this lower bound is above the national mean that we saw in from our box plots and summary statistics below."
   ]
  },
  {
   "cell_type": "markdown",
   "metadata": {},
   "source": [
    "---"
   ]
  },
  {
   "cell_type": "code",
   "execution_count": 100,
   "metadata": {},
   "outputs": [
    {
     "data": {
      "image/png": "[encoded data removed]",
      "text/plain": [
       "<Figure size 432x288 with 1 Axes>"
      ]
     },
     "metadata": {
      "needs_background": "light"
     },
     "output_type": "display_data"
    }
   ],
   "source": [
    "plt.hist(act_17_to_19_df['participation_17'], bins=15)\n",
    "\n",
    "\n",
    "#create title\n",
    "plt.title('Spread of ACT Participation In 2017')\n",
    "\n",
    "#rotate tick labels\n",
    "plt.xticks(rotation = 0)\n",
    "\n",
    "#label out x and y\n",
    "plt.xlabel('Percentage of Participation')\n",
    "plt.ylabel('Count');\n",
    "\n",
    "plt.show()\n"
   ]
  },
  {
   "cell_type": "code",
   "execution_count": 101,
   "metadata": {},
   "outputs": [
    {
     "data": {
      "image/png": "[encoded data removed]",
      "text/plain": [
       "<Figure size 432x288 with 1 Axes>"
      ]
     },
     "metadata": {
      "needs_background": "light"
     },
     "output_type": "display_data"
    }
   ],
   "source": [
    "plt.hist(act_17_to_19_df['participation_18'], bins=15)\n",
    "#create title\n",
    "plt.title('Spread of ACT Participation In 2018')\n",
    "#rotate tick labels\n",
    "plt.xticks(rotation = 0)\n",
    "#label out x and y\n",
    "plt.xlabel('Percentage of Participation')\n",
    "plt.ylabel('Count');\n",
    "plt.show()\n"
   ]
  },
  {
   "cell_type": "code",
   "execution_count": 102,
   "metadata": {},
   "outputs": [
    {
     "data": {
      "image/png": "[encoded data removed]",
      "text/plain": [
       "<Figure size 432x288 with 1 Axes>"
      ]
     },
     "metadata": {
      "needs_background": "light"
     },
     "output_type": "display_data"
    }
   ],
   "source": [
    "plt.hist(act_17_to_19_df['participation_19'], bins=15)\n",
    "#create title\n",
    "plt.title('Spread of ACT Participation In 2019')\n",
    "#rotate tick labels\n",
    "plt.xticks(rotation = 0)\n",
    "#label out x and y\n",
    "plt.xlabel('Percentage of Participation')\n",
    "plt.ylabel('Count');\n",
    "plt.show()"
   ]
  },
  {
   "cell_type": "markdown",
   "metadata": {},
   "source": [
    "Summary of Participation Histograms:\n",
    "We can visually see that there are a consistent number of public universities that frequently have 100% participation (determined in following code). Additionally we can see that there is also a consistent number of states with low participation rates which confirm our conclusions below when we take a deeper look. "
   ]
  },
  {
   "cell_type": "markdown",
   "metadata": {},
   "source": [
    "---\n",
    "Lowest Participative States (Less than 25%, average for past three years is approx 30%)"
   ]
  },
  {
   "cell_type": "code",
   "execution_count": 103,
   "metadata": {},
   "outputs": [
    {
     "name": "stdout",
     "output_type": "stream",
     "text": [
      "(10, 7)\n"
     ]
    },
    {
     "data": {
      "text/html": [
       "<div>\n",
       "<style scoped>\n",
       "    .dataframe tbody tr th:only-of-type {\n",
       "        vertical-align: middle;\n",
       "    }\n",
       "\n",
       "    .dataframe tbody tr th {\n",
       "        vertical-align: top;\n",
       "    }\n",
       "\n",
       "    .dataframe thead th {\n",
       "        text-align: right;\n",
       "    }\n",
       "</style>\n",
       "<table border=\"1\" class=\"dataframe\">\n",
       "  <thead>\n",
       "    <tr style=\"text-align: right;\">\n",
       "      <th></th>\n",
       "      <th>state</th>\n",
       "      <th>participation_17</th>\n",
       "      <th>composite_17</th>\n",
       "      <th>participation_18</th>\n",
       "      <th>composite_18</th>\n",
       "      <th>participation_19</th>\n",
       "      <th>composite_19</th>\n",
       "    </tr>\n",
       "  </thead>\n",
       "  <tbody>\n",
       "    <tr>\n",
       "      <th>29</th>\n",
       "      <td>New Hampshire</td>\n",
       "      <td>0.18</td>\n",
       "      <td>25.5</td>\n",
       "      <td>0.16</td>\n",
       "      <td>25.1</td>\n",
       "      <td>0.14</td>\n",
       "      <td>25.0</td>\n",
       "    </tr>\n",
       "    <tr>\n",
       "      <th>21</th>\n",
       "      <td>Massachusetts</td>\n",
       "      <td>0.29</td>\n",
       "      <td>25.4</td>\n",
       "      <td>0.25</td>\n",
       "      <td>25.5</td>\n",
       "      <td>0.21</td>\n",
       "      <td>25.5</td>\n",
       "    </tr>\n",
       "    <tr>\n",
       "      <th>19</th>\n",
       "      <td>Maine</td>\n",
       "      <td>0.08</td>\n",
       "      <td>24.3</td>\n",
       "      <td>0.07</td>\n",
       "      <td>24.0</td>\n",
       "      <td>0.06</td>\n",
       "      <td>24.3</td>\n",
       "    </tr>\n",
       "    <tr>\n",
       "      <th>7</th>\n",
       "      <td>Delaware</td>\n",
       "      <td>0.18</td>\n",
       "      <td>24.1</td>\n",
       "      <td>0.17</td>\n",
       "      <td>23.8</td>\n",
       "      <td>0.13</td>\n",
       "      <td>24.1</td>\n",
       "    </tr>\n",
       "    <tr>\n",
       "      <th>22</th>\n",
       "      <td>Michigan</td>\n",
       "      <td>0.29</td>\n",
       "      <td>24.1</td>\n",
       "      <td>0.22</td>\n",
       "      <td>24.2</td>\n",
       "      <td>0.19</td>\n",
       "      <td>24.4</td>\n",
       "    </tr>\n",
       "  </tbody>\n",
       "</table>\n",
       "</div>"
      ],
      "text/plain": [
       "            state  participation_17  composite_17  participation_18  \\\n",
       "29  New Hampshire              0.18          25.5              0.16   \n",
       "21  Massachusetts              0.29          25.4              0.25   \n",
       "19          Maine              0.08          24.3              0.07   \n",
       "7        Delaware              0.18          24.1              0.17   \n",
       "22       Michigan              0.29          24.1              0.22   \n",
       "\n",
       "    composite_18  participation_19  composite_19  \n",
       "29          25.1              0.14          25.0  \n",
       "21          25.5              0.21          25.5  \n",
       "19          24.0              0.06          24.3  \n",
       "7           23.8              0.13          24.1  \n",
       "22          24.2              0.19          24.4  "
      ]
     },
     "execution_count": 103,
     "metadata": {},
     "output_type": "execute_result"
    }
   ],
   "source": [
    "# Lowest participative states  from 2017 to 2019 states with less than average national participation of 30% (calculated above)\n",
    "masklow_17to19 = ( (act_17_to_19_df['participation_17'] < 0.3)& (act_17_to_19_df['participation_18'] < 0.3)& (act_17_to_19_df['participation_19'] < 0.3))\n",
    "low_prct_all_df= act_17_to_19_df[masklow_17to19]\n",
    "print(low_prct_all_df.shape)\n",
    "\n",
    "low_prct_all_df.sort_values('composite_17',ascending=False).head()"
   ]
  },
  {
   "cell_type": "markdown",
   "metadata": {},
   "source": [
    "Clearly we can see there are strong states performing above the average within these low participative states, which could potentially be answered. We could potentionally consider that states with 100 participation probably have the requirement to take the ACT for graduation, these do match some of my findings in my Outside Research \n",
    "\n",
    "Because of the fact that some of these states are required to take the SAT, we could potentially hypothesize that students who do take the ACT are most likely the students that are highly motivated. This could be one potential possibilty as to why the most low participative states perform so high. "
   ]
  },
  {
   "cell_type": "code",
   "execution_count": 104,
   "metadata": {},
   "outputs": [
    {
     "data": {
      "image/png": "[encoded data removed]",
      "text/plain": [
       "<Figure size 864x360 with 1 Axes>"
      ]
     },
     "metadata": {
      "needs_background": "light"
     },
     "output_type": "display_data"
    }
   ],
   "source": [
    "# plt.barh() will create a horizontal bar chart\n",
    "low_prct_all_df.plot(x=\"state\", y=['composite_17','composite_18','composite_19'], kind=\"barh\", figsize=(12, 5));\n",
    "\n",
    "#create title\n",
    "plt.title('Lowest Participative ACT(Composite) Testing States')\n",
    "\n",
    "#rotate tick labels\n",
    "plt.xticks(rotation = 0)\n",
    "\n",
    "#label out x and y\n",
    "plt.xlabel('ACT Composite Score')\n",
    "plt.ylabel('State');"
   ]
  },
  {
   "cell_type": "markdown",
   "metadata": {},
   "source": [
    "We can easily note that within the lowest participating states themselves there is not much change between the composite scores year to year. This gives more assurance when trying to compare a student that is at the average level to the average lower level of ACT score needed for acceptance at a public universiy. "
   ]
  },
  {
   "cell_type": "markdown",
   "metadata": {},
   "source": [
    "---"
   ]
  },
  {
   "cell_type": "markdown",
   "metadata": {},
   "source": [
    "Highest Participative States"
   ]
  },
  {
   "cell_type": "code",
   "execution_count": 105,
   "metadata": {},
   "outputs": [
    {
     "name": "stdout",
     "output_type": "stream",
     "text": [
      "(12, 7)\n"
     ]
    },
    {
     "data": {
      "text/html": [
       "<div>\n",
       "<style scoped>\n",
       "    .dataframe tbody tr th:only-of-type {\n",
       "        vertical-align: middle;\n",
       "    }\n",
       "\n",
       "    .dataframe tbody tr th {\n",
       "        vertical-align: top;\n",
       "    }\n",
       "\n",
       "    .dataframe thead th {\n",
       "        text-align: right;\n",
       "    }\n",
       "</style>\n",
       "<table border=\"1\" class=\"dataframe\">\n",
       "  <thead>\n",
       "    <tr style=\"text-align: right;\">\n",
       "      <th></th>\n",
       "      <th>state</th>\n",
       "      <th>participation_17</th>\n",
       "      <th>composite_17</th>\n",
       "      <th>participation_18</th>\n",
       "      <th>composite_18</th>\n",
       "      <th>participation_19</th>\n",
       "      <th>composite_19</th>\n",
       "    </tr>\n",
       "  </thead>\n",
       "  <tbody>\n",
       "    <tr>\n",
       "      <th>44</th>\n",
       "      <td>Utah</td>\n",
       "      <td>1.0</td>\n",
       "      <td>20.3</td>\n",
       "      <td>1.0</td>\n",
       "      <td>20.4</td>\n",
       "      <td>1.0</td>\n",
       "      <td>20.3</td>\n",
       "    </tr>\n",
       "    <tr>\n",
       "      <th>49</th>\n",
       "      <td>Wisconsin</td>\n",
       "      <td>1.0</td>\n",
       "      <td>20.5</td>\n",
       "      <td>1.0</td>\n",
       "      <td>20.5</td>\n",
       "      <td>1.0</td>\n",
       "      <td>20.3</td>\n",
       "    </tr>\n",
       "    <tr>\n",
       "      <th>17</th>\n",
       "      <td>Kentucky</td>\n",
       "      <td>1.0</td>\n",
       "      <td>20.0</td>\n",
       "      <td>1.0</td>\n",
       "      <td>20.2</td>\n",
       "      <td>1.0</td>\n",
       "      <td>19.8</td>\n",
       "    </tr>\n",
       "    <tr>\n",
       "      <th>26</th>\n",
       "      <td>Montana</td>\n",
       "      <td>1.0</td>\n",
       "      <td>20.3</td>\n",
       "      <td>1.0</td>\n",
       "      <td>20.0</td>\n",
       "      <td>1.0</td>\n",
       "      <td>19.8</td>\n",
       "    </tr>\n",
       "    <tr>\n",
       "      <th>42</th>\n",
       "      <td>Tennessee</td>\n",
       "      <td>1.0</td>\n",
       "      <td>19.8</td>\n",
       "      <td>1.0</td>\n",
       "      <td>19.6</td>\n",
       "      <td>1.0</td>\n",
       "      <td>19.4</td>\n",
       "    </tr>\n",
       "  </tbody>\n",
       "</table>\n",
       "</div>"
      ],
      "text/plain": [
       "        state  participation_17  composite_17  participation_18  composite_18  \\\n",
       "44       Utah               1.0          20.3               1.0          20.4   \n",
       "49  Wisconsin               1.0          20.5               1.0          20.5   \n",
       "17   Kentucky               1.0          20.0               1.0          20.2   \n",
       "26    Montana               1.0          20.3               1.0          20.0   \n",
       "42  Tennessee               1.0          19.8               1.0          19.6   \n",
       "\n",
       "    participation_19  composite_19  \n",
       "44               1.0          20.3  \n",
       "49               1.0          20.3  \n",
       "17               1.0          19.8  \n",
       "26               1.0          19.8  \n",
       "42               1.0          19.4  "
      ]
     },
     "execution_count": 105,
     "metadata": {},
     "output_type": "execute_result"
    }
   ],
   "source": [
    "# highest ACT testing participant states in 2017\n",
    "mask17 = act_17_to_19_df['participation_17'] == 1.0\n",
    "act_17_to_19_df[mask17].sort_values('composite_17').head()\n",
    "\n",
    "# highest ACT testing participant states in 2018\n",
    "mask18 = (act_17_to_19_df['participation_18'] == 1.0)\n",
    "act_17_to_19_df[mask18].sort_values('participation_18').head()\n",
    "\n",
    "# highest ACT testing participant states from 2017 to 2019\n",
    "mask_17to19 = ( (act_17_to_19_df['participation_17'] == 1.0)& (act_17_to_19_df['participation_18'] == 1.0)& (act_17_to_19_df['participation_19'] == 1.0))\n",
    "high_prct_all_df= act_17_to_19_df[mask_17to19]\n",
    "print(high_prct_all_df.shape)\n",
    "high_prct_all_df.sort_values('composite_19',ascending=False).head()"
   ]
  },
  {
   "cell_type": "markdown",
   "metadata": {},
   "source": []
  },
  {
   "cell_type": "code",
   "execution_count": 106,
   "metadata": {},
   "outputs": [
    {
     "data": {
      "text/html": [
       "<div>\n",
       "<style scoped>\n",
       "    .dataframe tbody tr th:only-of-type {\n",
       "        vertical-align: middle;\n",
       "    }\n",
       "\n",
       "    .dataframe tbody tr th {\n",
       "        vertical-align: top;\n",
       "    }\n",
       "\n",
       "    .dataframe thead th {\n",
       "        text-align: right;\n",
       "    }\n",
       "</style>\n",
       "<table border=\"1\" class=\"dataframe\">\n",
       "  <thead>\n",
       "    <tr style=\"text-align: right;\">\n",
       "      <th></th>\n",
       "      <th>state</th>\n",
       "      <th>composite_17</th>\n",
       "      <th>composite_18</th>\n",
       "      <th>composite_19</th>\n",
       "    </tr>\n",
       "  </thead>\n",
       "  <tbody>\n",
       "    <tr>\n",
       "      <th>0</th>\n",
       "      <td>Alabama</td>\n",
       "      <td>19.2</td>\n",
       "      <td>19.1</td>\n",
       "      <td>18.9</td>\n",
       "    </tr>\n",
       "    <tr>\n",
       "      <th>3</th>\n",
       "      <td>Arkansas</td>\n",
       "      <td>19.4</td>\n",
       "      <td>19.4</td>\n",
       "      <td>19.3</td>\n",
       "    </tr>\n",
       "    <tr>\n",
       "      <th>17</th>\n",
       "      <td>Kentucky</td>\n",
       "      <td>20.0</td>\n",
       "      <td>20.2</td>\n",
       "      <td>19.8</td>\n",
       "    </tr>\n",
       "    <tr>\n",
       "      <th>18</th>\n",
       "      <td>Louisiana</td>\n",
       "      <td>19.5</td>\n",
       "      <td>19.2</td>\n",
       "      <td>18.8</td>\n",
       "    </tr>\n",
       "    <tr>\n",
       "      <th>24</th>\n",
       "      <td>Mississippi</td>\n",
       "      <td>18.6</td>\n",
       "      <td>18.6</td>\n",
       "      <td>18.4</td>\n",
       "    </tr>\n",
       "    <tr>\n",
       "      <th>26</th>\n",
       "      <td>Montana</td>\n",
       "      <td>20.3</td>\n",
       "      <td>20.0</td>\n",
       "      <td>19.8</td>\n",
       "    </tr>\n",
       "    <tr>\n",
       "      <th>28</th>\n",
       "      <td>Nevada</td>\n",
       "      <td>17.8</td>\n",
       "      <td>17.7</td>\n",
       "      <td>17.9</td>\n",
       "    </tr>\n",
       "    <tr>\n",
       "      <th>33</th>\n",
       "      <td>North Carolina</td>\n",
       "      <td>19.1</td>\n",
       "      <td>19.1</td>\n",
       "      <td>19.0</td>\n",
       "    </tr>\n",
       "    <tr>\n",
       "      <th>36</th>\n",
       "      <td>Oklahoma</td>\n",
       "      <td>19.4</td>\n",
       "      <td>19.3</td>\n",
       "      <td>18.9</td>\n",
       "    </tr>\n",
       "    <tr>\n",
       "      <th>42</th>\n",
       "      <td>Tennessee</td>\n",
       "      <td>19.8</td>\n",
       "      <td>19.6</td>\n",
       "      <td>19.4</td>\n",
       "    </tr>\n",
       "    <tr>\n",
       "      <th>44</th>\n",
       "      <td>Utah</td>\n",
       "      <td>20.3</td>\n",
       "      <td>20.4</td>\n",
       "      <td>20.3</td>\n",
       "    </tr>\n",
       "    <tr>\n",
       "      <th>49</th>\n",
       "      <td>Wisconsin</td>\n",
       "      <td>20.5</td>\n",
       "      <td>20.5</td>\n",
       "      <td>20.3</td>\n",
       "    </tr>\n",
       "  </tbody>\n",
       "</table>\n",
       "</div>"
      ],
      "text/plain": [
       "             state  composite_17  composite_18  composite_19\n",
       "0          Alabama          19.2          19.1          18.9\n",
       "3         Arkansas          19.4          19.4          19.3\n",
       "17        Kentucky          20.0          20.2          19.8\n",
       "18       Louisiana          19.5          19.2          18.8\n",
       "24     Mississippi          18.6          18.6          18.4\n",
       "26         Montana          20.3          20.0          19.8\n",
       "28          Nevada          17.8          17.7          17.9\n",
       "33  North Carolina          19.1          19.1          19.0\n",
       "36        Oklahoma          19.4          19.3          18.9\n",
       "42       Tennessee          19.8          19.6          19.4\n",
       "44            Utah          20.3          20.4          20.3\n",
       "49       Wisconsin          20.5          20.5          20.3"
      ]
     },
     "execution_count": 106,
     "metadata": {},
     "output_type": "execute_result"
    }
   ],
   "source": [
    "high_prct_all_df.drop(['participation_17','participation_18','participation_19'],axis=1)"
   ]
  },
  {
   "cell_type": "code",
   "execution_count": 107,
   "metadata": {},
   "outputs": [
    {
     "data": {
      "text/html": [
       "<div>\n",
       "<style scoped>\n",
       "    .dataframe tbody tr th:only-of-type {\n",
       "        vertical-align: middle;\n",
       "    }\n",
       "\n",
       "    .dataframe tbody tr th {\n",
       "        vertical-align: top;\n",
       "    }\n",
       "\n",
       "    .dataframe thead th {\n",
       "        text-align: right;\n",
       "    }\n",
       "</style>\n",
       "<table border=\"1\" class=\"dataframe\">\n",
       "  <thead>\n",
       "    <tr style=\"text-align: right;\">\n",
       "      <th></th>\n",
       "      <th>state</th>\n",
       "      <th>participation_17</th>\n",
       "      <th>composite_17</th>\n",
       "      <th>participation_18</th>\n",
       "      <th>composite_18</th>\n",
       "      <th>participation_19</th>\n",
       "      <th>composite_19</th>\n",
       "    </tr>\n",
       "  </thead>\n",
       "  <tbody>\n",
       "    <tr>\n",
       "      <th>0</th>\n",
       "      <td>Alabama</td>\n",
       "      <td>1.0</td>\n",
       "      <td>19.2</td>\n",
       "      <td>1.0</td>\n",
       "      <td>19.1</td>\n",
       "      <td>1.0</td>\n",
       "      <td>18.9</td>\n",
       "    </tr>\n",
       "    <tr>\n",
       "      <th>3</th>\n",
       "      <td>Arkansas</td>\n",
       "      <td>1.0</td>\n",
       "      <td>19.4</td>\n",
       "      <td>1.0</td>\n",
       "      <td>19.4</td>\n",
       "      <td>1.0</td>\n",
       "      <td>19.3</td>\n",
       "    </tr>\n",
       "    <tr>\n",
       "      <th>17</th>\n",
       "      <td>Kentucky</td>\n",
       "      <td>1.0</td>\n",
       "      <td>20.0</td>\n",
       "      <td>1.0</td>\n",
       "      <td>20.2</td>\n",
       "      <td>1.0</td>\n",
       "      <td>19.8</td>\n",
       "    </tr>\n",
       "    <tr>\n",
       "      <th>18</th>\n",
       "      <td>Louisiana</td>\n",
       "      <td>1.0</td>\n",
       "      <td>19.5</td>\n",
       "      <td>1.0</td>\n",
       "      <td>19.2</td>\n",
       "      <td>1.0</td>\n",
       "      <td>18.8</td>\n",
       "    </tr>\n",
       "    <tr>\n",
       "      <th>24</th>\n",
       "      <td>Mississippi</td>\n",
       "      <td>1.0</td>\n",
       "      <td>18.6</td>\n",
       "      <td>1.0</td>\n",
       "      <td>18.6</td>\n",
       "      <td>1.0</td>\n",
       "      <td>18.4</td>\n",
       "    </tr>\n",
       "    <tr>\n",
       "      <th>26</th>\n",
       "      <td>Montana</td>\n",
       "      <td>1.0</td>\n",
       "      <td>20.3</td>\n",
       "      <td>1.0</td>\n",
       "      <td>20.0</td>\n",
       "      <td>1.0</td>\n",
       "      <td>19.8</td>\n",
       "    </tr>\n",
       "    <tr>\n",
       "      <th>28</th>\n",
       "      <td>Nevada</td>\n",
       "      <td>1.0</td>\n",
       "      <td>17.8</td>\n",
       "      <td>1.0</td>\n",
       "      <td>17.7</td>\n",
       "      <td>1.0</td>\n",
       "      <td>17.9</td>\n",
       "    </tr>\n",
       "    <tr>\n",
       "      <th>33</th>\n",
       "      <td>North Carolina</td>\n",
       "      <td>1.0</td>\n",
       "      <td>19.1</td>\n",
       "      <td>1.0</td>\n",
       "      <td>19.1</td>\n",
       "      <td>1.0</td>\n",
       "      <td>19.0</td>\n",
       "    </tr>\n",
       "    <tr>\n",
       "      <th>36</th>\n",
       "      <td>Oklahoma</td>\n",
       "      <td>1.0</td>\n",
       "      <td>19.4</td>\n",
       "      <td>1.0</td>\n",
       "      <td>19.3</td>\n",
       "      <td>1.0</td>\n",
       "      <td>18.9</td>\n",
       "    </tr>\n",
       "    <tr>\n",
       "      <th>42</th>\n",
       "      <td>Tennessee</td>\n",
       "      <td>1.0</td>\n",
       "      <td>19.8</td>\n",
       "      <td>1.0</td>\n",
       "      <td>19.6</td>\n",
       "      <td>1.0</td>\n",
       "      <td>19.4</td>\n",
       "    </tr>\n",
       "    <tr>\n",
       "      <th>44</th>\n",
       "      <td>Utah</td>\n",
       "      <td>1.0</td>\n",
       "      <td>20.3</td>\n",
       "      <td>1.0</td>\n",
       "      <td>20.4</td>\n",
       "      <td>1.0</td>\n",
       "      <td>20.3</td>\n",
       "    </tr>\n",
       "    <tr>\n",
       "      <th>49</th>\n",
       "      <td>Wisconsin</td>\n",
       "      <td>1.0</td>\n",
       "      <td>20.5</td>\n",
       "      <td>1.0</td>\n",
       "      <td>20.5</td>\n",
       "      <td>1.0</td>\n",
       "      <td>20.3</td>\n",
       "    </tr>\n",
       "  </tbody>\n",
       "</table>\n",
       "</div>"
      ],
      "text/plain": [
       "             state  participation_17  composite_17  participation_18  \\\n",
       "0          Alabama               1.0          19.2               1.0   \n",
       "3         Arkansas               1.0          19.4               1.0   \n",
       "17        Kentucky               1.0          20.0               1.0   \n",
       "18       Louisiana               1.0          19.5               1.0   \n",
       "24     Mississippi               1.0          18.6               1.0   \n",
       "26         Montana               1.0          20.3               1.0   \n",
       "28          Nevada               1.0          17.8               1.0   \n",
       "33  North Carolina               1.0          19.1               1.0   \n",
       "36        Oklahoma               1.0          19.4               1.0   \n",
       "42       Tennessee               1.0          19.8               1.0   \n",
       "44            Utah               1.0          20.3               1.0   \n",
       "49       Wisconsin               1.0          20.5               1.0   \n",
       "\n",
       "    composite_18  participation_19  composite_19  \n",
       "0           19.1               1.0          18.9  \n",
       "3           19.4               1.0          19.3  \n",
       "17          20.2               1.0          19.8  \n",
       "18          19.2               1.0          18.8  \n",
       "24          18.6               1.0          18.4  \n",
       "26          20.0               1.0          19.8  \n",
       "28          17.7               1.0          17.9  \n",
       "33          19.1               1.0          19.0  \n",
       "36          19.3               1.0          18.9  \n",
       "42          19.6               1.0          19.4  \n",
       "44          20.4               1.0          20.3  \n",
       "49          20.5               1.0          20.3  "
      ]
     },
     "execution_count": 107,
     "metadata": {},
     "output_type": "execute_result"
    }
   ],
   "source": [
    "high_prct_all_df # this is the highest participative states for all three years"
   ]
  },
  {
   "cell_type": "code",
   "execution_count": 108,
   "metadata": {},
   "outputs": [
    {
     "data": {
      "image/png": "[encoded data removed]",
      "text/plain": [
       "<Figure size 864x360 with 1 Axes>"
      ]
     },
     "metadata": {
      "needs_background": "light"
     },
     "output_type": "display_data"
    }
   ],
   "source": [
    "# plt.barh() will create a horizontal bar chart\n",
    "high_prct_all_df.plot(x=\"state\", y=['composite_17','composite_18','composite_19'], kind=\"barh\", figsize=(12, 5));\n",
    "\n",
    "#create title\n",
    "plt.title('Highly Participative ACT(Composite) Testing States')\n",
    "\n",
    "#rotate tick labels\n",
    "plt.xticks(rotation = 0)\n",
    "\n",
    "#label out x and y\n",
    "plt.xlabel('ACT Composite Score')\n",
    "plt.ylabel('State');"
   ]
  },
  {
   "cell_type": "markdown",
   "metadata": {},
   "source": [
    "We can easily note that within the highest participating states themselves there is not much change between the composite scores 2017 to 2019. Again important to note that there are several states in this list that do have strict ACT policies as graduation requirements for high school students. "
   ]
  },
  {
   "cell_type": "code",
   "execution_count": 109,
   "metadata": {},
   "outputs": [
    {
     "data": {
      "image/png": "[encoded data removed]",
      "text/plain": [
       "<Figure size 432x288 with 1 Axes>"
      ]
     },
     "metadata": {
      "needs_background": "light"
     },
     "output_type": "display_data"
    }
   ],
   "source": [
    "sns.boxplot(x=high_prct_all_df['composite_17']);"
   ]
  },
  {
   "cell_type": "code",
   "execution_count": 110,
   "metadata": {},
   "outputs": [
    {
     "data": {
      "image/png": "[encoded data removed]",
      "text/plain": [
       "<Figure size 432x288 with 1 Axes>"
      ]
     },
     "metadata": {
      "needs_background": "light"
     },
     "output_type": "display_data"
    }
   ],
   "source": [
    "sns.boxplot(x=high_prct_all_df['composite_18']);"
   ]
  },
  {
   "cell_type": "code",
   "execution_count": 111,
   "metadata": {},
   "outputs": [
    {
     "data": {
      "image/png": "[encoded data removed]",
      "text/plain": [
       "<Figure size 432x288 with 1 Axes>"
      ]
     },
     "metadata": {
      "needs_background": "light"
     },
     "output_type": "display_data"
    }
   ],
   "source": [
    "sns.boxplot(x=high_prct_all_df['composite_19']);"
   ]
  },
  {
   "cell_type": "markdown",
   "metadata": {},
   "source": [
    "The box plots of highly participative schools maintaing a very small window of variations which means that ACT tests averages are staying consistent over time. So we can expect our average to hold to for the year 2021-2022."
   ]
  },
  {
   "cell_type": "markdown",
   "metadata": {},
   "source": [
    "---\n",
    "##### Heat Map of ACT Composite Scores and Participation over 2017 to 2019"
   ]
  },
  {
   "cell_type": "code",
   "execution_count": 112,
   "metadata": {},
   "outputs": [
    {
     "data": {
      "image/png": "[encoded data removed]",
      "text/plain": [
       "<Figure size 864x720 with 2 Axes>"
      ]
     },
     "metadata": {
      "needs_background": "light"
     },
     "output_type": "display_data"
    }
   ],
   "source": [
    "# here we will look at what realtionship there could be between ACT participation and ACT composite score\n",
    "act_2017df = act_17_to_19_df[[\"participation_17\", \"composite_17\"]]\n",
    "\n",
    "# Establish size of figure.\n",
    "plt.figure(figsize = (12,10))\n",
    "\n",
    "# Get correlation of variables.\n",
    "corr = act_17_to_19_df.corr()\n",
    "\n",
    "# Set up mask to be \"True\" in the upper triangle.\n",
    "mask = np.zeros_like(corr) # GETS RID OF THE OTHER HALF OF THE ACROSS THE DIAGONAL! !!!!!!!!!!\n",
    "mask[np.triu_indices_from(mask)] = True\n",
    "\n",
    "# Plot our correlation heatmap, while masking the upper triangle to be white.\n",
    "sns.heatmap(corr, mask = mask, square = True, cmap = 'rocket',annot = True);"
   ]
  },
  {
   "cell_type": "markdown",
   "metadata": {},
   "source": [
    "We can see that we are getting a couple strong negative correlations between respective years. So for instance if we are looking at 'participation_19' and 'composite_19 we are seeing there is a strong negative correlation which we will explore futher in a scatter plot. We should expect there to be a somewhat spread of data along the path of a linear line with a negative. Now none of the correlations are greater than -.86 so it is not a terribly strong correlation but should be noticeable. "
   ]
  },
  {
   "cell_type": "markdown",
   "metadata": {},
   "source": [
    "##### Scatter Plots of ACT Composite Scores and Participation over 2017 to 2019"
   ]
  },
  {
   "cell_type": "code",
   "execution_count": 113,
   "metadata": {},
   "outputs": [
    {
     "data": {
      "image/png": "[encoded data removed]",
      "text/plain": [
       "<Figure size 864x360 with 1 Axes>"
      ]
     },
     "metadata": {
      "needs_background": "light"
     },
     "output_type": "display_data"
    }
   ],
   "source": [
    "# YEAR 2017\n",
    "plt.figure(figsize=(12,5)); #order matters! put this first\n",
    "\n",
    "# Let's create a scatter plot of calories vs. sugar\n",
    "\n",
    "plt.scatter(x = act_17_to_19_df['participation_17'],y = act_17_to_19_df['composite_17'])\n",
    "\n",
    "# Scatter plot\n",
    "plt.xlabel('Participation Rate')\n",
    "plt.ylabel('Composite Score')\n",
    "\n",
    "plt.ylim(ymin=15) # starts scatter plot at 15\n",
    "\n",
    "# horizontal line represents the average ACT score from 2017-2019\n",
    "plt.axhline(y=21, color='black', linestyle='-')\n",
    "\n",
    "# Create a descriptive title\n",
    "plt.title('Participation and Composite Scores of ACT 2017');"
   ]
  },
  {
   "cell_type": "markdown",
   "metadata": {},
   "source": [
    "Here we can see that there is the negative relationship where as the participation rate approaches 100% our composite score does tend to decrease towards the average ACT composite score for 2017-2019. It is not a perfect linear relationship but is noteable. "
   ]
  },
  {
   "cell_type": "code",
   "execution_count": 114,
   "metadata": {},
   "outputs": [
    {
     "data": {
      "image/png": "[encoded data removed]",
      "text/plain": [
       "<Figure size 864x360 with 1 Axes>"
      ]
     },
     "metadata": {
      "needs_background": "light"
     },
     "output_type": "display_data"
    }
   ],
   "source": [
    "# YEAR 2018\n",
    "plt.figure(figsize=(12,5));\n",
    "plt.scatter(x = act_17_to_19_df['participation_18'],y = act_17_to_19_df['composite_18'])\n",
    "\n",
    "# Scatter plot\n",
    "plt.xlabel('Participation Rate')\n",
    "plt.ylabel('Composite Score')\n",
    "\n",
    "plt.ylim(ymin=15) # starts scatter plot at 15\n",
    "\n",
    "# horizontal line represents the average ACT score from 2017-2019\n",
    "plt.axhline(y=21, color='black', linestyle='-')\n",
    "\n",
    "# Create a descriptive title\n",
    "plt.title('Participation and Composite Scores of ACT 2018');"
   ]
  },
  {
   "cell_type": "code",
   "execution_count": 115,
   "metadata": {},
   "outputs": [
    {
     "data": {
      "image/png": "[encoded data removed]",
      "text/plain": [
       "<Figure size 864x360 with 1 Axes>"
      ]
     },
     "metadata": {
      "needs_background": "light"
     },
     "output_type": "display_data"
    }
   ],
   "source": [
    "# YEAR 2019\n",
    "plt.figure(figsize=(12,5)); #order matters! put this first\n",
    "\n",
    "plt.scatter(x = act_17_to_19_df['participation_19'],y = act_17_to_19_df['composite_19'])\n",
    "\n",
    "# Scatter plot\n",
    "plt.xlabel('Participation Rate')\n",
    "plt.ylabel('Composite Score')\n",
    "\n",
    "plt.ylim(ymin=15) # starts scatter plot at 15\n",
    "\n",
    "# horizontal line represents the average ACT score from 2017-2019\n",
    "plt.axhline(y=21, color='black', linestyle='-')\n",
    "\n",
    "# Create a descriptive title\n",
    "plt.title('Participation and Composite Scores of ACT 2019');"
   ]
  },
  {
   "cell_type": "markdown",
   "metadata": {},
   "source": [
    "We can easily continue to intuitively confirm that the correlation map does seem to be making sense based on all three data sets and plots. As more high schools participate the more the average ACT composite decreases. "
   ]
  },
  {
   "cell_type": "markdown",
   "metadata": {},
   "source": [
    "---\n",
    "##### Heat Map Public School Acceptance Rates and ACT Composite Score Range"
   ]
  },
  {
   "cell_type": "code",
   "execution_count": 116,
   "metadata": {},
   "outputs": [
    {
     "data": {
      "image/png": "[encoded data removed]",
      "text/plain": [
       "<Figure size 864x720 with 2 Axes>"
      ]
     },
     "metadata": {
      "needs_background": "light"
     },
     "output_type": "display_data"
    }
   ],
   "source": [
    "# This code is taken with minor modifications rom https://seaborn.pydata.org/generated/seaborn.heatmap.html\n",
    "\n",
    "# Establish size of figure.\n",
    "plt.figure(figsize = (12,10))\n",
    "\n",
    "# Get correlation of variables.\n",
    "corr = pub_act_state_df.corr()\n",
    "\n",
    "\n",
    "# Plot our correlation heatmap, while masking the upper triangle to be white.\n",
    "sns.heatmap(corr, square = True, cmap = 'rocket',annot = True);"
   ]
  },
  {
   "cell_type": "markdown",
   "metadata": {},
   "source": [
    "The heatmap of the [`pub_act_prcntile.csv`](./data/sat_act_by_college.csv)(ACT ranges of accept students by public college) for 2022 resulted with nearly no potential connection that could be projected. This is expected because not only do we have about only one to two samples per state. The correlation heat map definitely provides insight that more data needs to be sampled to provide more connection with relation to acceptance rate and ACT percentles. There is however a appears to be a slightly more interesting correlation that shows us that we will explore in the scatter plots below. "
   ]
  },
  {
   "cell_type": "code",
   "execution_count": 117,
   "metadata": {},
   "outputs": [
    {
     "data": {
      "image/png": "[encoded data removed]",
      "text/plain": [
       "<Figure size 864x360 with 1 Axes>"
      ]
     },
     "metadata": {
      "needs_background": "light"
     },
     "output_type": "display_data"
    }
   ],
   "source": [
    "plt.figure(figsize=(12,5)); #order matters! put this first\n",
    "\n",
    "# Let's create a scatter plot of calories vs. sugar\n",
    "plt.scatter(x = pub_act_state_df['acceptance_rate'],y = pub_act_state_df['tot_percentile25'])\n",
    "\n",
    "# Scatter plot\n",
    "plt.xlabel('Acceptance Rate')\n",
    "plt.ylabel('25th Percentil for Public Universities')\n",
    "\n",
    "plt.ylim(ymin=15) # starts scatter plot at 15\n",
    "\n",
    "# horizontal line represents the average ACT score from 2017-2019\n",
    "plt.axhline(y=21, color='black', linestyle='-')\n",
    "\n",
    "# Create a descriptive title\n",
    "plt.title('Acceptance Rate and Lower ACT Composite Score of US Public Universities ');"
   ]
  },
  {
   "cell_type": "code",
   "execution_count": 118,
   "metadata": {},
   "outputs": [
    {
     "data": {
      "image/png": "[encoded data removed]",
      "text/plain": [
       "<Figure size 864x360 with 1 Axes>"
      ]
     },
     "metadata": {
      "needs_background": "light"
     },
     "output_type": "display_data"
    }
   ],
   "source": [
    "plt.figure(figsize=(12,5)); #order matters! put this first\n",
    "\n",
    "# Let's create a scatter plot of calories vs. sugar\n",
    "plt.scatter(x = pub_act_state_df['acceptance_rate'],y = pub_act_state_df['tot_percentile75'])\n",
    "\n",
    "# Scatter plot\n",
    "plt.xlabel('Acceptance Rate')\n",
    "plt.ylabel('75th Percentil for Public Universities')\n",
    "\n",
    "plt.ylim(ymin=15)  # starts scatter plot at 15\n",
    "\n",
    "# horizontal line represents the average ACT score from 2017-2019\n",
    "plt.axhline(y=21, color='black', linestyle='-')\n",
    "# Create a descriptive title\n",
    "plt.title('Acceptance Rate and Upper ACT Composite Score of US Public Universities ');"
   ]
  },
  {
   "cell_type": "markdown",
   "metadata": {},
   "source": [
    "Summary of Lower and Upper Public University Percentiles"
   ]
  },
  {
   "cell_type": "markdown",
   "metadata": {},
   "source": [
    "We can note that the public universities follow the same expected trend of a higher acceptance rate will result with a lower ACT score. This not an extrememly strong trend and more data could potentially give more confidence. "
   ]
  },
  {
   "cell_type": "code",
   "execution_count": 119,
   "metadata": {},
   "outputs": [
    {
     "data": {
      "image/png": "[encoded data removed]",
      "text/plain": [
       "<Figure size 864x360 with 1 Axes>"
      ]
     },
     "metadata": {
      "needs_background": "light"
     },
     "output_type": "display_data"
    }
   ],
   "source": [
    "plt.figure(figsize=(12,5)); #order matters! put this first\n",
    "\n",
    "# will visualize basic stats with scatter plot \n",
    "plt.scatter(x='acceptance_rate',y='num_of_applicants',data=pub_act_state_df)\n",
    "\n",
    "# Scatter plot\n",
    "plt.xlabel('Acceptance Rate')\n",
    "plt.ylabel('Number of Applicantss')\n",
    "\n",
    "# Create a descriptive title\n",
    "plt.title('Applicants Accepted into Public Universities');"
   ]
  },
  {
   "cell_type": "markdown",
   "metadata": {},
   "source": [
    "We can note here that there is potentially a relationship between the number of applicants and acceptance rate. So what can be interpretted from this figure is that as the acceptance rate increases the number of applicants decrease. In other words, as the applicant pool decrease the rate of accepting those individuals gets larger. This intuitively makes sense."
   ]
  },
  {
   "cell_type": "markdown",
   "metadata": {},
   "source": [
    "---"
   ]
  },
  {
   "cell_type": "markdown",
   "metadata": {},
   "source": [
    "## Conclusions and Recommendations"
   ]
  },
  {
   "cell_type": "markdown",
   "metadata": {},
   "source": [
    "Based on my exploration of the data, the lower average percentile range for students accepted into public universities is higher than the national average ACT score in the US. This is too say that students interested in applying to public universities have to work to ensure they are performing higher than the ACT test taker in the US. So the safety schools(their in state public universities) they will be seeking to apply to will more than likely need to an average composite ACT score that is above the national anywhere from 2 to 7 points."
   ]
  },
  {
   "cell_type": "markdown",
   "metadata": {},
   "source": [
    "More specifically summarizing this with values is that the 25th percentilea nd 75th percentilen respectively was found to be (22.9, 28.89). This range is just above the typical to national average,21.5, that I was able to gather fom my own data set and reasearch found online for in my National ACT Averages (Outside Research Section).\n",
    "\n",
    "- There are a fair amount of future recommendations to explore to determine if this conclusion can be truly determined: \n",
    "    - Gathering a more accurate dataset: \n",
    "         - If a dataset contained various public universities per state and had measure of the average (50% percentile) of accected applicants then an accurate state/national level analysis could be determined.\n",
    "    - Explore the relationship of universities (accepts rates vs act score) follow the same trends as private?\n",
    "    - For those states that have favor or hold SAT policies for high school graduates what is that basis score? \n",
    "    - For public universities what does the average composite score look like at a state level? Could then begin to advise local students looking to determine thir safety schools. "
   ]
  },
  {
   "cell_type": "markdown",
   "metadata": {},
   "source": [
    "---\n",
    "\n",
    "## Data Sources\n",
    "\n",
    "There are 10 datasets included in the [`data`](./data/) folder for this project. You are required to pick **at least two** of these to complete your analysis. Feel free to use more than two if you would like, or add other relevant datasets you find online.\n",
    "\n",
    "* [`act_2017.csv`](./data/act_2017.csv): 2017 ACT Scores by State ([source](https://blog.prepscholar.com/act-scores-by-state-averages-highs-and-lows))\n",
    "* [`act_2018.csv`](./data/act_2018.csv): 2018 ACT Scores by State ([source](https://blog.prepscholar.com/act-scores-by-state-averages-highs-and-lows))\n",
    "* [`act_2019.csv`](./data/act_2019.csv): 2019 ACT Scores by State ([source](https://blog.prepscholar.com/act-scores-by-state-averages-highs-and-lows))\n",
    "* [`sat_act_by_college.csv`](./data/sat_act_by_college.csv): Ranges of Accepted ACT & SAT Student Scores by Colleges ([source](https://www.compassprep.com/college-profiles/))\n",
    "\n"
   ]
  }
 ],
 "metadata": {
  "anaconda-cloud": {},
  "kernelspec": {
   "display_name": "Python 3",
   "language": "python",
   "name": "python3"
  },
  "language_info": {
   "codemirror_mode": {
    "name": "ipython",
    "version": 3
   },
   "file_extension": ".py",
   "mimetype": "text/x-python",
   "name": "python",
   "nbconvert_exporter": "python",
   "pygments_lexer": "ipython3",
   "version": "3.8.8"
  }
 },
 "nbformat": 4,
 "nbformat_minor": 4
}
