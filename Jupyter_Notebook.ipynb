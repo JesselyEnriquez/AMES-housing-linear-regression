{
 "cells": [
  {
   "cell_type": "markdown",
   "metadata": {},
   "source": [
    "<center>\n",
    "    <img src=\"https://s3-api.us-geo.objectstorage.softlayer.net/cf-courses-data/CognitiveClass/Logos/organization_logo/organization_logo.png\" width=\"300\" alt=\"cognitiveclass.ai logo\"  />\n",
    "</center>\n"
   ]
  },
  {
   "cell_type": "markdown",
   "metadata": {},
   "source": [
    "# My Jupyter Notebook on IBM Watson Studio"
   ]
  },
  {
   "cell_type": "markdown",
   "metadata": {},
   "source": [
    "**Jessely Enriquez**\n",
    "Marketability Technician"
   ]
  },
  {
   "cell_type": "markdown",
   "metadata": {},
   "source": [
    "*I am interested in finding more opportunities for to apply my interest in coding and science so this was my first choice. I am a recent engineering graduate that is trying to potentially find the behavioral studies that is starting to grow in the data science field.*\n"
   ]
  },
  {
   "cell_type": "markdown",
   "metadata": {},
   "source": [
    "### My code is supposed to spell out \"Hello\" "
   ]
  },
  {
   "cell_type": "code",
   "execution_count": 28,
   "metadata": {},
   "outputs": [
    {
     "name": "stdout",
     "output_type": "stream",
     "text": [
      "Hello\n"
     ]
    }
   ],
   "source": [
    "word_pieces =['Hell','o']\n",
    "total=0\n",
    "for letters in word_pieces:\n",
    "    print(word_pieces[total]+word_pieces[total+1])\n",
    "    total+=1\n",
    "    break"
   ]
  },
  {
   "cell_type": "markdown",
   "metadata": {},
   "source": [
    "\n",
    "# These are my random notes\n",
    "### ***Strength of Association***\n",
    "\n",
    "Since BRFSS (the study the data came from) is Cross-Sectional(=data is collected at one point in time not over time) \n",
    "- We cannot tell if exposure preceded disease - \"temporality\"\n",
    "- So we cannot tell if it \"caused\" or \"protected against\" the disease \n",
    "- It is safe to say \"associated with in cross-sectional analyses\n",
    "\n",
    "***\n",
    " **How related are the exposure and the outcome?**\n",
    "1. Most of the people *with* the exposure *also* have the outcome\n",
    "2. Most of the people *without* the exposure *do not have* the outcome\n",
    "<br><br>\n",
    "\n",
    "|Components | Examples |\n",
    "|---|---|\n",
    "|Defined subpopulation|Hispanics|\n",
    "|Defined exposure-something you think causes, protects from, or is associated with a disease or outcome|Engaging in regular exercise|\n",
    "|Defined disearse or outcome, which you think is affected by the exposure|Exposre to exercise -> outcome Lower risk of diabetes|\n",
    "\n",
    "\n"
   ]
  }
 ],
 "metadata": {
  "kernelspec": {
   "display_name": "Python 3",
   "language": "python",
   "name": "python3"
  },
  "language_info": {
   "codemirror_mode": {
    "name": "ipython",
    "version": 3
   },
   "file_extension": ".py",
   "mimetype": "text/x-python",
   "name": "python",
   "nbconvert_exporter": "python",
   "pygments_lexer": "ipython3",
   "version": "3.8.8"
  }
 },
 "nbformat": 4,
 "nbformat_minor": 4
}
